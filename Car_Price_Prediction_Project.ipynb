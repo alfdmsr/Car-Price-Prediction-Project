{
  "nbformat": 4,
  "nbformat_minor": 0,
  "metadata": {
    "colab": {
      "provenance": [],
      "collapsed_sections": [
        "E9bCT-LDVyrr",
        "HhhRaedrWF2w",
        "KLGY5blVYFAg",
        "hXYR_ndUaz2D",
        "LR93A6rhiErd",
        "xoZuiIVBmBUS",
        "DBW0_LS1w4Jl"
      ],
      "mount_file_id": "1xlqg-y7qio2yMXfVay9TC9_3d8zTNq94",
      "authorship_tag": "ABX9TyNFnSSt3J8FXlp8AXzXvVrG",
      "include_colab_link": true
    },
    "kernelspec": {
      "name": "python3",
      "display_name": "Python 3"
    },
    "language_info": {
      "name": "python"
    }
  },
  "cells": [
    {
      "cell_type": "markdown",
      "metadata": {
        "id": "view-in-github",
        "colab_type": "text"
      },
      "source": [
        "<a href=\"https://colab.research.google.com/github/alfdmsr/Car-Price-Prediction-Project/blob/main/Car_Price_Prediction_Project.ipynb\" target=\"_parent\"><img src=\"https://colab.research.google.com/assets/colab-badge.svg\" alt=\"Open In Colab\"/></a>"
      ]
    },
    {
      "cell_type": "markdown",
      "source": [
        "# Car Price Prediction Project"
      ],
      "metadata": {
        "id": "T4mVruV5VoIy"
      }
    },
    {
      "cell_type": "markdown",
      "source": [
        "### Langkah-langkah:\n",
        "  1. Persiapan data\n",
        "  2. EDA (Analisis Data Eksplorasi)\n",
        "  3. Gunakan regresi linier untuk prediksi harga (MSRP - Manufacturer Suggested Retail Price)\n",
        "  4. Memahami internal regresi linier\n",
        "  5. Mengevaluasi model dengan RMSE (Root Mean Squared Error)\n",
        "  6. Rekayasa Fitur (membuat fitur baru)\n",
        "  7. Regulasi\n",
        "  8. Menggunakan model\n"
      ],
      "metadata": {
        "id": "eFWqX7Rvn1Z9"
      }
    },
    {
      "cell_type": "markdown",
      "source": [
        "## 1. Persiapan Data - Proyek prediksi harga mobil"
      ],
      "metadata": {
        "id": "E9bCT-LDVyrr"
      }
    },
    {
      "cell_type": "markdown",
      "source": [
        "### Memuat Data dan mendapatkan gambaran umum"
      ],
      "metadata": {
        "id": "HhhRaedrWF2w"
      }
    },
    {
      "cell_type": "code",
      "execution_count": null,
      "metadata": {
        "colab": {
          "base_uri": "https://localhost:8080/"
        },
        "collapsed": true,
        "id": "R9qatjCrVXlk",
        "outputId": "74ac48e4-dd3a-48a1-dbc1-fa5ea55add63"
      },
      "outputs": [
        {
          "output_type": "execute_result",
          "data": {
            "text/plain": [
              "  Make       Model  Year             Engine Fuel Type  Engine HP  \\\n",
              "0  BMW  1 Series M  2011  premium unleaded (required)      335.0   \n",
              "1  BMW    1 Series  2011  premium unleaded (required)      300.0   \n",
              "2  BMW    1 Series  2011  premium unleaded (required)      300.0   \n",
              "3  BMW    1 Series  2011  premium unleaded (required)      230.0   \n",
              "4  BMW    1 Series  2011  premium unleaded (required)      230.0   \n",
              "5  BMW    1 Series  2012  premium unleaded (required)      230.0   \n",
              "6  BMW    1 Series  2012  premium unleaded (required)      300.0   \n",
              "7  BMW    1 Series  2012  premium unleaded (required)      300.0   \n",
              "8  BMW    1 Series  2012  premium unleaded (required)      230.0   \n",
              "9  BMW    1 Series  2013  premium unleaded (required)      230.0   \n",
              "\n",
              "   Engine Cylinders Transmission Type     Driven_Wheels  Number of Doors  \\\n",
              "0               6.0            MANUAL  rear wheel drive              2.0   \n",
              "1               6.0            MANUAL  rear wheel drive              2.0   \n",
              "2               6.0            MANUAL  rear wheel drive              2.0   \n",
              "3               6.0            MANUAL  rear wheel drive              2.0   \n",
              "4               6.0            MANUAL  rear wheel drive              2.0   \n",
              "5               6.0            MANUAL  rear wheel drive              2.0   \n",
              "6               6.0            MANUAL  rear wheel drive              2.0   \n",
              "7               6.0            MANUAL  rear wheel drive              2.0   \n",
              "8               6.0            MANUAL  rear wheel drive              2.0   \n",
              "9               6.0            MANUAL  rear wheel drive              2.0   \n",
              "\n",
              "                         Market Category Vehicle Size Vehicle Style  \\\n",
              "0  Factory Tuner,Luxury,High-Performance      Compact         Coupe   \n",
              "1                     Luxury,Performance      Compact   Convertible   \n",
              "2                Luxury,High-Performance      Compact         Coupe   \n",
              "3                     Luxury,Performance      Compact         Coupe   \n",
              "4                                 Luxury      Compact   Convertible   \n",
              "5                     Luxury,Performance      Compact         Coupe   \n",
              "6                     Luxury,Performance      Compact   Convertible   \n",
              "7                Luxury,High-Performance      Compact         Coupe   \n",
              "8                                 Luxury      Compact   Convertible   \n",
              "9                                 Luxury      Compact   Convertible   \n",
              "\n",
              "   highway MPG  city mpg  Popularity   MSRP  \n",
              "0           26        19        3916  46135  \n",
              "1           28        19        3916  40650  \n",
              "2           28        20        3916  36350  \n",
              "3           28        18        3916  29450  \n",
              "4           28        18        3916  34500  \n",
              "5           28        18        3916  31200  \n",
              "6           26        17        3916  44100  \n",
              "7           28        20        3916  39300  \n",
              "8           28        18        3916  36900  \n",
              "9           27        18        3916  37200  "
            ],
            "text/html": [
              "\n",
              "  <div id=\"df-5b39ed8a-4389-4d81-886f-7133e03d148b\" class=\"colab-df-container\">\n",
              "    <div>\n",
              "<style scoped>\n",
              "    .dataframe tbody tr th:only-of-type {\n",
              "        vertical-align: middle;\n",
              "    }\n",
              "\n",
              "    .dataframe tbody tr th {\n",
              "        vertical-align: top;\n",
              "    }\n",
              "\n",
              "    .dataframe thead th {\n",
              "        text-align: right;\n",
              "    }\n",
              "</style>\n",
              "<table border=\"1\" class=\"dataframe\">\n",
              "  <thead>\n",
              "    <tr style=\"text-align: right;\">\n",
              "      <th></th>\n",
              "      <th>Make</th>\n",
              "      <th>Model</th>\n",
              "      <th>Year</th>\n",
              "      <th>Engine Fuel Type</th>\n",
              "      <th>Engine HP</th>\n",
              "      <th>Engine Cylinders</th>\n",
              "      <th>Transmission Type</th>\n",
              "      <th>Driven_Wheels</th>\n",
              "      <th>Number of Doors</th>\n",
              "      <th>Market Category</th>\n",
              "      <th>Vehicle Size</th>\n",
              "      <th>Vehicle Style</th>\n",
              "      <th>highway MPG</th>\n",
              "      <th>city mpg</th>\n",
              "      <th>Popularity</th>\n",
              "      <th>MSRP</th>\n",
              "    </tr>\n",
              "  </thead>\n",
              "  <tbody>\n",
              "    <tr>\n",
              "      <th>0</th>\n",
              "      <td>BMW</td>\n",
              "      <td>1 Series M</td>\n",
              "      <td>2011</td>\n",
              "      <td>premium unleaded (required)</td>\n",
              "      <td>335.0</td>\n",
              "      <td>6.0</td>\n",
              "      <td>MANUAL</td>\n",
              "      <td>rear wheel drive</td>\n",
              "      <td>2.0</td>\n",
              "      <td>Factory Tuner,Luxury,High-Performance</td>\n",
              "      <td>Compact</td>\n",
              "      <td>Coupe</td>\n",
              "      <td>26</td>\n",
              "      <td>19</td>\n",
              "      <td>3916</td>\n",
              "      <td>46135</td>\n",
              "    </tr>\n",
              "    <tr>\n",
              "      <th>1</th>\n",
              "      <td>BMW</td>\n",
              "      <td>1 Series</td>\n",
              "      <td>2011</td>\n",
              "      <td>premium unleaded (required)</td>\n",
              "      <td>300.0</td>\n",
              "      <td>6.0</td>\n",
              "      <td>MANUAL</td>\n",
              "      <td>rear wheel drive</td>\n",
              "      <td>2.0</td>\n",
              "      <td>Luxury,Performance</td>\n",
              "      <td>Compact</td>\n",
              "      <td>Convertible</td>\n",
              "      <td>28</td>\n",
              "      <td>19</td>\n",
              "      <td>3916</td>\n",
              "      <td>40650</td>\n",
              "    </tr>\n",
              "    <tr>\n",
              "      <th>2</th>\n",
              "      <td>BMW</td>\n",
              "      <td>1 Series</td>\n",
              "      <td>2011</td>\n",
              "      <td>premium unleaded (required)</td>\n",
              "      <td>300.0</td>\n",
              "      <td>6.0</td>\n",
              "      <td>MANUAL</td>\n",
              "      <td>rear wheel drive</td>\n",
              "      <td>2.0</td>\n",
              "      <td>Luxury,High-Performance</td>\n",
              "      <td>Compact</td>\n",
              "      <td>Coupe</td>\n",
              "      <td>28</td>\n",
              "      <td>20</td>\n",
              "      <td>3916</td>\n",
              "      <td>36350</td>\n",
              "    </tr>\n",
              "    <tr>\n",
              "      <th>3</th>\n",
              "      <td>BMW</td>\n",
              "      <td>1 Series</td>\n",
              "      <td>2011</td>\n",
              "      <td>premium unleaded (required)</td>\n",
              "      <td>230.0</td>\n",
              "      <td>6.0</td>\n",
              "      <td>MANUAL</td>\n",
              "      <td>rear wheel drive</td>\n",
              "      <td>2.0</td>\n",
              "      <td>Luxury,Performance</td>\n",
              "      <td>Compact</td>\n",
              "      <td>Coupe</td>\n",
              "      <td>28</td>\n",
              "      <td>18</td>\n",
              "      <td>3916</td>\n",
              "      <td>29450</td>\n",
              "    </tr>\n",
              "    <tr>\n",
              "      <th>4</th>\n",
              "      <td>BMW</td>\n",
              "      <td>1 Series</td>\n",
              "      <td>2011</td>\n",
              "      <td>premium unleaded (required)</td>\n",
              "      <td>230.0</td>\n",
              "      <td>6.0</td>\n",
              "      <td>MANUAL</td>\n",
              "      <td>rear wheel drive</td>\n",
              "      <td>2.0</td>\n",
              "      <td>Luxury</td>\n",
              "      <td>Compact</td>\n",
              "      <td>Convertible</td>\n",
              "      <td>28</td>\n",
              "      <td>18</td>\n",
              "      <td>3916</td>\n",
              "      <td>34500</td>\n",
              "    </tr>\n",
              "    <tr>\n",
              "      <th>5</th>\n",
              "      <td>BMW</td>\n",
              "      <td>1 Series</td>\n",
              "      <td>2012</td>\n",
              "      <td>premium unleaded (required)</td>\n",
              "      <td>230.0</td>\n",
              "      <td>6.0</td>\n",
              "      <td>MANUAL</td>\n",
              "      <td>rear wheel drive</td>\n",
              "      <td>2.0</td>\n",
              "      <td>Luxury,Performance</td>\n",
              "      <td>Compact</td>\n",
              "      <td>Coupe</td>\n",
              "      <td>28</td>\n",
              "      <td>18</td>\n",
              "      <td>3916</td>\n",
              "      <td>31200</td>\n",
              "    </tr>\n",
              "    <tr>\n",
              "      <th>6</th>\n",
              "      <td>BMW</td>\n",
              "      <td>1 Series</td>\n",
              "      <td>2012</td>\n",
              "      <td>premium unleaded (required)</td>\n",
              "      <td>300.0</td>\n",
              "      <td>6.0</td>\n",
              "      <td>MANUAL</td>\n",
              "      <td>rear wheel drive</td>\n",
              "      <td>2.0</td>\n",
              "      <td>Luxury,Performance</td>\n",
              "      <td>Compact</td>\n",
              "      <td>Convertible</td>\n",
              "      <td>26</td>\n",
              "      <td>17</td>\n",
              "      <td>3916</td>\n",
              "      <td>44100</td>\n",
              "    </tr>\n",
              "    <tr>\n",
              "      <th>7</th>\n",
              "      <td>BMW</td>\n",
              "      <td>1 Series</td>\n",
              "      <td>2012</td>\n",
              "      <td>premium unleaded (required)</td>\n",
              "      <td>300.0</td>\n",
              "      <td>6.0</td>\n",
              "      <td>MANUAL</td>\n",
              "      <td>rear wheel drive</td>\n",
              "      <td>2.0</td>\n",
              "      <td>Luxury,High-Performance</td>\n",
              "      <td>Compact</td>\n",
              "      <td>Coupe</td>\n",
              "      <td>28</td>\n",
              "      <td>20</td>\n",
              "      <td>3916</td>\n",
              "      <td>39300</td>\n",
              "    </tr>\n",
              "    <tr>\n",
              "      <th>8</th>\n",
              "      <td>BMW</td>\n",
              "      <td>1 Series</td>\n",
              "      <td>2012</td>\n",
              "      <td>premium unleaded (required)</td>\n",
              "      <td>230.0</td>\n",
              "      <td>6.0</td>\n",
              "      <td>MANUAL</td>\n",
              "      <td>rear wheel drive</td>\n",
              "      <td>2.0</td>\n",
              "      <td>Luxury</td>\n",
              "      <td>Compact</td>\n",
              "      <td>Convertible</td>\n",
              "      <td>28</td>\n",
              "      <td>18</td>\n",
              "      <td>3916</td>\n",
              "      <td>36900</td>\n",
              "    </tr>\n",
              "    <tr>\n",
              "      <th>9</th>\n",
              "      <td>BMW</td>\n",
              "      <td>1 Series</td>\n",
              "      <td>2013</td>\n",
              "      <td>premium unleaded (required)</td>\n",
              "      <td>230.0</td>\n",
              "      <td>6.0</td>\n",
              "      <td>MANUAL</td>\n",
              "      <td>rear wheel drive</td>\n",
              "      <td>2.0</td>\n",
              "      <td>Luxury</td>\n",
              "      <td>Compact</td>\n",
              "      <td>Convertible</td>\n",
              "      <td>27</td>\n",
              "      <td>18</td>\n",
              "      <td>3916</td>\n",
              "      <td>37200</td>\n",
              "    </tr>\n",
              "  </tbody>\n",
              "</table>\n",
              "</div>\n",
              "    <div class=\"colab-df-buttons\">\n",
              "\n",
              "  <div class=\"colab-df-container\">\n",
              "    <button class=\"colab-df-convert\" onclick=\"convertToInteractive('df-5b39ed8a-4389-4d81-886f-7133e03d148b')\"\n",
              "            title=\"Convert this dataframe to an interactive table.\"\n",
              "            style=\"display:none;\">\n",
              "\n",
              "  <svg xmlns=\"http://www.w3.org/2000/svg\" height=\"24px\" viewBox=\"0 -960 960 960\">\n",
              "    <path d=\"M120-120v-720h720v720H120Zm60-500h600v-160H180v160Zm220 220h160v-160H400v160Zm0 220h160v-160H400v160ZM180-400h160v-160H180v160Zm440 0h160v-160H620v160ZM180-180h160v-160H180v160Zm440 0h160v-160H620v160Z\"/>\n",
              "  </svg>\n",
              "    </button>\n",
              "\n",
              "  <style>\n",
              "    .colab-df-container {\n",
              "      display:flex;\n",
              "      gap: 12px;\n",
              "    }\n",
              "\n",
              "    .colab-df-convert {\n",
              "      background-color: #E8F0FE;\n",
              "      border: none;\n",
              "      border-radius: 50%;\n",
              "      cursor: pointer;\n",
              "      display: none;\n",
              "      fill: #1967D2;\n",
              "      height: 32px;\n",
              "      padding: 0 0 0 0;\n",
              "      width: 32px;\n",
              "    }\n",
              "\n",
              "    .colab-df-convert:hover {\n",
              "      background-color: #E2EBFA;\n",
              "      box-shadow: 0px 1px 2px rgba(60, 64, 67, 0.3), 0px 1px 3px 1px rgba(60, 64, 67, 0.15);\n",
              "      fill: #174EA6;\n",
              "    }\n",
              "\n",
              "    .colab-df-buttons div {\n",
              "      margin-bottom: 4px;\n",
              "    }\n",
              "\n",
              "    [theme=dark] .colab-df-convert {\n",
              "      background-color: #3B4455;\n",
              "      fill: #D2E3FC;\n",
              "    }\n",
              "\n",
              "    [theme=dark] .colab-df-convert:hover {\n",
              "      background-color: #434B5C;\n",
              "      box-shadow: 0px 1px 3px 1px rgba(0, 0, 0, 0.15);\n",
              "      filter: drop-shadow(0px 1px 2px rgba(0, 0, 0, 0.3));\n",
              "      fill: #FFFFFF;\n",
              "    }\n",
              "  </style>\n",
              "\n",
              "    <script>\n",
              "      const buttonEl =\n",
              "        document.querySelector('#df-5b39ed8a-4389-4d81-886f-7133e03d148b button.colab-df-convert');\n",
              "      buttonEl.style.display =\n",
              "        google.colab.kernel.accessAllowed ? 'block' : 'none';\n",
              "\n",
              "      async function convertToInteractive(key) {\n",
              "        const element = document.querySelector('#df-5b39ed8a-4389-4d81-886f-7133e03d148b');\n",
              "        const dataTable =\n",
              "          await google.colab.kernel.invokeFunction('convertToInteractive',\n",
              "                                                    [key], {});\n",
              "        if (!dataTable) return;\n",
              "\n",
              "        const docLinkHtml = 'Like what you see? Visit the ' +\n",
              "          '<a target=\"_blank\" href=https://colab.research.google.com/notebooks/data_table.ipynb>data table notebook</a>'\n",
              "          + ' to learn more about interactive tables.';\n",
              "        element.innerHTML = '';\n",
              "        dataTable['output_type'] = 'display_data';\n",
              "        await google.colab.output.renderOutput(dataTable, element);\n",
              "        const docLink = document.createElement('div');\n",
              "        docLink.innerHTML = docLinkHtml;\n",
              "        element.appendChild(docLink);\n",
              "      }\n",
              "    </script>\n",
              "  </div>\n",
              "\n",
              "\n",
              "<div id=\"df-fc8e8d02-f2bd-472e-929c-18c406ea54a5\">\n",
              "  <button class=\"colab-df-quickchart\" onclick=\"quickchart('df-fc8e8d02-f2bd-472e-929c-18c406ea54a5')\"\n",
              "            title=\"Suggest charts\"\n",
              "            style=\"display:none;\">\n",
              "\n",
              "<svg xmlns=\"http://www.w3.org/2000/svg\" height=\"24px\"viewBox=\"0 0 24 24\"\n",
              "     width=\"24px\">\n",
              "    <g>\n",
              "        <path d=\"M19 3H5c-1.1 0-2 .9-2 2v14c0 1.1.9 2 2 2h14c1.1 0 2-.9 2-2V5c0-1.1-.9-2-2-2zM9 17H7v-7h2v7zm4 0h-2V7h2v10zm4 0h-2v-4h2v4z\"/>\n",
              "    </g>\n",
              "</svg>\n",
              "  </button>\n",
              "\n",
              "<style>\n",
              "  .colab-df-quickchart {\n",
              "      --bg-color: #E8F0FE;\n",
              "      --fill-color: #1967D2;\n",
              "      --hover-bg-color: #E2EBFA;\n",
              "      --hover-fill-color: #174EA6;\n",
              "      --disabled-fill-color: #AAA;\n",
              "      --disabled-bg-color: #DDD;\n",
              "  }\n",
              "\n",
              "  [theme=dark] .colab-df-quickchart {\n",
              "      --bg-color: #3B4455;\n",
              "      --fill-color: #D2E3FC;\n",
              "      --hover-bg-color: #434B5C;\n",
              "      --hover-fill-color: #FFFFFF;\n",
              "      --disabled-bg-color: #3B4455;\n",
              "      --disabled-fill-color: #666;\n",
              "  }\n",
              "\n",
              "  .colab-df-quickchart {\n",
              "    background-color: var(--bg-color);\n",
              "    border: none;\n",
              "    border-radius: 50%;\n",
              "    cursor: pointer;\n",
              "    display: none;\n",
              "    fill: var(--fill-color);\n",
              "    height: 32px;\n",
              "    padding: 0;\n",
              "    width: 32px;\n",
              "  }\n",
              "\n",
              "  .colab-df-quickchart:hover {\n",
              "    background-color: var(--hover-bg-color);\n",
              "    box-shadow: 0 1px 2px rgba(60, 64, 67, 0.3), 0 1px 3px 1px rgba(60, 64, 67, 0.15);\n",
              "    fill: var(--button-hover-fill-color);\n",
              "  }\n",
              "\n",
              "  .colab-df-quickchart-complete:disabled,\n",
              "  .colab-df-quickchart-complete:disabled:hover {\n",
              "    background-color: var(--disabled-bg-color);\n",
              "    fill: var(--disabled-fill-color);\n",
              "    box-shadow: none;\n",
              "  }\n",
              "\n",
              "  .colab-df-spinner {\n",
              "    border: 2px solid var(--fill-color);\n",
              "    border-color: transparent;\n",
              "    border-bottom-color: var(--fill-color);\n",
              "    animation:\n",
              "      spin 1s steps(1) infinite;\n",
              "  }\n",
              "\n",
              "  @keyframes spin {\n",
              "    0% {\n",
              "      border-color: transparent;\n",
              "      border-bottom-color: var(--fill-color);\n",
              "      border-left-color: var(--fill-color);\n",
              "    }\n",
              "    20% {\n",
              "      border-color: transparent;\n",
              "      border-left-color: var(--fill-color);\n",
              "      border-top-color: var(--fill-color);\n",
              "    }\n",
              "    30% {\n",
              "      border-color: transparent;\n",
              "      border-left-color: var(--fill-color);\n",
              "      border-top-color: var(--fill-color);\n",
              "      border-right-color: var(--fill-color);\n",
              "    }\n",
              "    40% {\n",
              "      border-color: transparent;\n",
              "      border-right-color: var(--fill-color);\n",
              "      border-top-color: var(--fill-color);\n",
              "    }\n",
              "    60% {\n",
              "      border-color: transparent;\n",
              "      border-right-color: var(--fill-color);\n",
              "    }\n",
              "    80% {\n",
              "      border-color: transparent;\n",
              "      border-right-color: var(--fill-color);\n",
              "      border-bottom-color: var(--fill-color);\n",
              "    }\n",
              "    90% {\n",
              "      border-color: transparent;\n",
              "      border-bottom-color: var(--fill-color);\n",
              "    }\n",
              "  }\n",
              "</style>\n",
              "\n",
              "  <script>\n",
              "    async function quickchart(key) {\n",
              "      const quickchartButtonEl =\n",
              "        document.querySelector('#' + key + ' button');\n",
              "      quickchartButtonEl.disabled = true;  // To prevent multiple clicks.\n",
              "      quickchartButtonEl.classList.add('colab-df-spinner');\n",
              "      try {\n",
              "        const charts = await google.colab.kernel.invokeFunction(\n",
              "            'suggestCharts', [key], {});\n",
              "      } catch (error) {\n",
              "        console.error('Error during call to suggestCharts:', error);\n",
              "      }\n",
              "      quickchartButtonEl.classList.remove('colab-df-spinner');\n",
              "      quickchartButtonEl.classList.add('colab-df-quickchart-complete');\n",
              "    }\n",
              "    (() => {\n",
              "      let quickchartButtonEl =\n",
              "        document.querySelector('#df-fc8e8d02-f2bd-472e-929c-18c406ea54a5 button');\n",
              "      quickchartButtonEl.style.display =\n",
              "        google.colab.kernel.accessAllowed ? 'block' : 'none';\n",
              "    })();\n",
              "  </script>\n",
              "</div>\n",
              "\n",
              "    </div>\n",
              "  </div>\n"
            ],
            "application/vnd.google.colaboratory.intrinsic+json": {
              "type": "dataframe",
              "summary": "{\n  \"name\": \"# df\",\n  \"rows\": 10,\n  \"fields\": [\n    {\n      \"column\": \"Make\",\n      \"properties\": {\n        \"dtype\": \"category\",\n        \"num_unique_values\": 1,\n        \"samples\": [\n          \"BMW\"\n        ],\n        \"semantic_type\": \"\",\n        \"description\": \"\"\n      }\n    },\n    {\n      \"column\": \"Model\",\n      \"properties\": {\n        \"dtype\": \"category\",\n        \"num_unique_values\": 2,\n        \"samples\": [\n          \"1 Series\"\n        ],\n        \"semantic_type\": \"\",\n        \"description\": \"\"\n      }\n    },\n    {\n      \"column\": \"Year\",\n      \"properties\": {\n        \"dtype\": \"number\",\n        \"std\": 0,\n        \"min\": 2011,\n        \"max\": 2013,\n        \"num_unique_values\": 3,\n        \"samples\": [\n          2011\n        ],\n        \"semantic_type\": \"\",\n        \"description\": \"\"\n      }\n    },\n    {\n      \"column\": \"Engine Fuel Type\",\n      \"properties\": {\n        \"dtype\": \"category\",\n        \"num_unique_values\": 1,\n        \"samples\": [\n          \"premium unleaded (required)\"\n        ],\n        \"semantic_type\": \"\",\n        \"description\": \"\"\n      }\n    },\n    {\n      \"column\": \"Engine HP\",\n      \"properties\": {\n        \"dtype\": \"number\",\n        \"std\": 41.902664990825265,\n        \"min\": 230.0,\n        \"max\": 335.0,\n        \"num_unique_values\": 3,\n        \"samples\": [\n          335.0\n        ],\n        \"semantic_type\": \"\",\n        \"description\": \"\"\n      }\n    },\n    {\n      \"column\": \"Engine Cylinders\",\n      \"properties\": {\n        \"dtype\": \"number\",\n        \"std\": 0.0,\n        \"min\": 6.0,\n        \"max\": 6.0,\n        \"num_unique_values\": 1,\n        \"samples\": [\n          6.0\n        ],\n        \"semantic_type\": \"\",\n        \"description\": \"\"\n      }\n    },\n    {\n      \"column\": \"Transmission Type\",\n      \"properties\": {\n        \"dtype\": \"category\",\n        \"num_unique_values\": 1,\n        \"samples\": [\n          \"MANUAL\"\n        ],\n        \"semantic_type\": \"\",\n        \"description\": \"\"\n      }\n    },\n    {\n      \"column\": \"Driven_Wheels\",\n      \"properties\": {\n        \"dtype\": \"category\",\n        \"num_unique_values\": 1,\n        \"samples\": [\n          \"rear wheel drive\"\n        ],\n        \"semantic_type\": \"\",\n        \"description\": \"\"\n      }\n    },\n    {\n      \"column\": \"Number of Doors\",\n      \"properties\": {\n        \"dtype\": \"number\",\n        \"std\": 0.0,\n        \"min\": 2.0,\n        \"max\": 2.0,\n        \"num_unique_values\": 1,\n        \"samples\": [\n          2.0\n        ],\n        \"semantic_type\": \"\",\n        \"description\": \"\"\n      }\n    },\n    {\n      \"column\": \"Market Category\",\n      \"properties\": {\n        \"dtype\": \"category\",\n        \"num_unique_values\": 4,\n        \"samples\": [\n          \"Luxury,Performance\"\n        ],\n        \"semantic_type\": \"\",\n        \"description\": \"\"\n      }\n    },\n    {\n      \"column\": \"Vehicle Size\",\n      \"properties\": {\n        \"dtype\": \"category\",\n        \"num_unique_values\": 1,\n        \"samples\": [\n          \"Compact\"\n        ],\n        \"semantic_type\": \"\",\n        \"description\": \"\"\n      }\n    },\n    {\n      \"column\": \"Vehicle Style\",\n      \"properties\": {\n        \"dtype\": \"category\",\n        \"num_unique_values\": 2,\n        \"samples\": [\n          \"Convertible\"\n        ],\n        \"semantic_type\": \"\",\n        \"description\": \"\"\n      }\n    },\n    {\n      \"column\": \"highway MPG\",\n      \"properties\": {\n        \"dtype\": \"number\",\n        \"std\": 0,\n        \"min\": 26,\n        \"max\": 28,\n        \"num_unique_values\": 3,\n        \"samples\": [\n          26\n        ],\n        \"semantic_type\": \"\",\n        \"description\": \"\"\n      }\n    },\n    {\n      \"column\": \"city mpg\",\n      \"properties\": {\n        \"dtype\": \"number\",\n        \"std\": 0,\n        \"min\": 17,\n        \"max\": 20,\n        \"num_unique_values\": 4,\n        \"samples\": [\n          20\n        ],\n        \"semantic_type\": \"\",\n        \"description\": \"\"\n      }\n    },\n    {\n      \"column\": \"Popularity\",\n      \"properties\": {\n        \"dtype\": \"number\",\n        \"std\": 0,\n        \"min\": 3916,\n        \"max\": 3916,\n        \"num_unique_values\": 1,\n        \"samples\": [\n          3916\n        ],\n        \"semantic_type\": \"\",\n        \"description\": \"\"\n      }\n    },\n    {\n      \"column\": \"MSRP\",\n      \"properties\": {\n        \"dtype\": \"number\",\n        \"std\": 5233,\n        \"min\": 29450,\n        \"max\": 46135,\n        \"num_unique_values\": 10,\n        \"samples\": [\n          36900\n        ],\n        \"semantic_type\": \"\",\n        \"description\": \"\"\n      }\n    }\n  ]\n}"
            }
          },
          "metadata": {},
          "execution_count": 133
        }
      ],
      "source": [
        "import pandas as pd\n",
        "import numpy as np\n",
        "\n",
        "# membaca file csv setelah mengunduh ...\n",
        "df = pd.read_csv('data.csv')\n",
        "\n",
        "# ... dan mendapatkan gambaran pertama tentang data\n",
        "df.head(10)\n",
        "\n",
        "\n",
        "# Yang dapat Anda lihat di sini, ada beberapa ketidakkonsistenan dalam cara penamaan kolom\n",
        "# -> terkadang kolom memiliki garis bawah, terkadang tidak,\n",
        "# terkadang kolom memiliki huruf kapital, terkadang tidak.\n",
        "#\n",
        "# df['Transmission Type'] berfungsi\n",
        "# df.Transmission Type tidak berfungsi karena spasi"
      ]
    },
    {
      "cell_type": "markdown",
      "source": [
        "### Pembersihan"
      ],
      "metadata": {
        "id": "KLGY5blVYFAg"
      }
    },
    {
      "cell_type": "code",
      "source": [
        "# Pandas DataFrame memiliki bidang yang disebut kolom,\n",
        "# kolom adalah indeks, yaitu struktur data khusus yang berisi nama kolom di Pandas (sangat mirip dengan serial).\n",
        "# seperti serial, ia juga memiliki metode str untuk melakukan manipulasi string. Apa yang dapat kita lakukan sekarang adalah menerapkan fungsi string yang sama ke semua nama kolom\n",
        "df.columns = df.columns.str.lower().str.replace(' ','_')\n",
        "df.head()"
      ],
      "metadata": {
        "colab": {
          "base_uri": "https://localhost:8080/"
        },
        "id": "muKQddhjYHmi",
        "outputId": "e0adf847-e7f9-416a-d05f-c13b22ac73d4",
        "collapsed": true
      },
      "execution_count": null,
      "outputs": [
        {
          "output_type": "execute_result",
          "data": {
            "text/plain": [
              "  make       model  year             engine_fuel_type  engine_hp  \\\n",
              "0  BMW  1 Series M  2011  premium unleaded (required)      335.0   \n",
              "1  BMW    1 Series  2011  premium unleaded (required)      300.0   \n",
              "2  BMW    1 Series  2011  premium unleaded (required)      300.0   \n",
              "3  BMW    1 Series  2011  premium unleaded (required)      230.0   \n",
              "4  BMW    1 Series  2011  premium unleaded (required)      230.0   \n",
              "\n",
              "   engine_cylinders transmission_type     driven_wheels  number_of_doors  \\\n",
              "0               6.0            MANUAL  rear wheel drive              2.0   \n",
              "1               6.0            MANUAL  rear wheel drive              2.0   \n",
              "2               6.0            MANUAL  rear wheel drive              2.0   \n",
              "3               6.0            MANUAL  rear wheel drive              2.0   \n",
              "4               6.0            MANUAL  rear wheel drive              2.0   \n",
              "\n",
              "                         market_category vehicle_size vehicle_style  \\\n",
              "0  Factory Tuner,Luxury,High-Performance      Compact         Coupe   \n",
              "1                     Luxury,Performance      Compact   Convertible   \n",
              "2                Luxury,High-Performance      Compact         Coupe   \n",
              "3                     Luxury,Performance      Compact         Coupe   \n",
              "4                                 Luxury      Compact   Convertible   \n",
              "\n",
              "   highway_mpg  city_mpg  popularity   msrp  \n",
              "0           26        19        3916  46135  \n",
              "1           28        19        3916  40650  \n",
              "2           28        20        3916  36350  \n",
              "3           28        18        3916  29450  \n",
              "4           28        18        3916  34500  "
            ],
            "text/html": [
              "\n",
              "  <div id=\"df-46102892-bfcf-4421-ac5d-830e1c9bb110\" class=\"colab-df-container\">\n",
              "    <div>\n",
              "<style scoped>\n",
              "    .dataframe tbody tr th:only-of-type {\n",
              "        vertical-align: middle;\n",
              "    }\n",
              "\n",
              "    .dataframe tbody tr th {\n",
              "        vertical-align: top;\n",
              "    }\n",
              "\n",
              "    .dataframe thead th {\n",
              "        text-align: right;\n",
              "    }\n",
              "</style>\n",
              "<table border=\"1\" class=\"dataframe\">\n",
              "  <thead>\n",
              "    <tr style=\"text-align: right;\">\n",
              "      <th></th>\n",
              "      <th>make</th>\n",
              "      <th>model</th>\n",
              "      <th>year</th>\n",
              "      <th>engine_fuel_type</th>\n",
              "      <th>engine_hp</th>\n",
              "      <th>engine_cylinders</th>\n",
              "      <th>transmission_type</th>\n",
              "      <th>driven_wheels</th>\n",
              "      <th>number_of_doors</th>\n",
              "      <th>market_category</th>\n",
              "      <th>vehicle_size</th>\n",
              "      <th>vehicle_style</th>\n",
              "      <th>highway_mpg</th>\n",
              "      <th>city_mpg</th>\n",
              "      <th>popularity</th>\n",
              "      <th>msrp</th>\n",
              "    </tr>\n",
              "  </thead>\n",
              "  <tbody>\n",
              "    <tr>\n",
              "      <th>0</th>\n",
              "      <td>BMW</td>\n",
              "      <td>1 Series M</td>\n",
              "      <td>2011</td>\n",
              "      <td>premium unleaded (required)</td>\n",
              "      <td>335.0</td>\n",
              "      <td>6.0</td>\n",
              "      <td>MANUAL</td>\n",
              "      <td>rear wheel drive</td>\n",
              "      <td>2.0</td>\n",
              "      <td>Factory Tuner,Luxury,High-Performance</td>\n",
              "      <td>Compact</td>\n",
              "      <td>Coupe</td>\n",
              "      <td>26</td>\n",
              "      <td>19</td>\n",
              "      <td>3916</td>\n",
              "      <td>46135</td>\n",
              "    </tr>\n",
              "    <tr>\n",
              "      <th>1</th>\n",
              "      <td>BMW</td>\n",
              "      <td>1 Series</td>\n",
              "      <td>2011</td>\n",
              "      <td>premium unleaded (required)</td>\n",
              "      <td>300.0</td>\n",
              "      <td>6.0</td>\n",
              "      <td>MANUAL</td>\n",
              "      <td>rear wheel drive</td>\n",
              "      <td>2.0</td>\n",
              "      <td>Luxury,Performance</td>\n",
              "      <td>Compact</td>\n",
              "      <td>Convertible</td>\n",
              "      <td>28</td>\n",
              "      <td>19</td>\n",
              "      <td>3916</td>\n",
              "      <td>40650</td>\n",
              "    </tr>\n",
              "    <tr>\n",
              "      <th>2</th>\n",
              "      <td>BMW</td>\n",
              "      <td>1 Series</td>\n",
              "      <td>2011</td>\n",
              "      <td>premium unleaded (required)</td>\n",
              "      <td>300.0</td>\n",
              "      <td>6.0</td>\n",
              "      <td>MANUAL</td>\n",
              "      <td>rear wheel drive</td>\n",
              "      <td>2.0</td>\n",
              "      <td>Luxury,High-Performance</td>\n",
              "      <td>Compact</td>\n",
              "      <td>Coupe</td>\n",
              "      <td>28</td>\n",
              "      <td>20</td>\n",
              "      <td>3916</td>\n",
              "      <td>36350</td>\n",
              "    </tr>\n",
              "    <tr>\n",
              "      <th>3</th>\n",
              "      <td>BMW</td>\n",
              "      <td>1 Series</td>\n",
              "      <td>2011</td>\n",
              "      <td>premium unleaded (required)</td>\n",
              "      <td>230.0</td>\n",
              "      <td>6.0</td>\n",
              "      <td>MANUAL</td>\n",
              "      <td>rear wheel drive</td>\n",
              "      <td>2.0</td>\n",
              "      <td>Luxury,Performance</td>\n",
              "      <td>Compact</td>\n",
              "      <td>Coupe</td>\n",
              "      <td>28</td>\n",
              "      <td>18</td>\n",
              "      <td>3916</td>\n",
              "      <td>29450</td>\n",
              "    </tr>\n",
              "    <tr>\n",
              "      <th>4</th>\n",
              "      <td>BMW</td>\n",
              "      <td>1 Series</td>\n",
              "      <td>2011</td>\n",
              "      <td>premium unleaded (required)</td>\n",
              "      <td>230.0</td>\n",
              "      <td>6.0</td>\n",
              "      <td>MANUAL</td>\n",
              "      <td>rear wheel drive</td>\n",
              "      <td>2.0</td>\n",
              "      <td>Luxury</td>\n",
              "      <td>Compact</td>\n",
              "      <td>Convertible</td>\n",
              "      <td>28</td>\n",
              "      <td>18</td>\n",
              "      <td>3916</td>\n",
              "      <td>34500</td>\n",
              "    </tr>\n",
              "  </tbody>\n",
              "</table>\n",
              "</div>\n",
              "    <div class=\"colab-df-buttons\">\n",
              "\n",
              "  <div class=\"colab-df-container\">\n",
              "    <button class=\"colab-df-convert\" onclick=\"convertToInteractive('df-46102892-bfcf-4421-ac5d-830e1c9bb110')\"\n",
              "            title=\"Convert this dataframe to an interactive table.\"\n",
              "            style=\"display:none;\">\n",
              "\n",
              "  <svg xmlns=\"http://www.w3.org/2000/svg\" height=\"24px\" viewBox=\"0 -960 960 960\">\n",
              "    <path d=\"M120-120v-720h720v720H120Zm60-500h600v-160H180v160Zm220 220h160v-160H400v160Zm0 220h160v-160H400v160ZM180-400h160v-160H180v160Zm440 0h160v-160H620v160ZM180-180h160v-160H180v160Zm440 0h160v-160H620v160Z\"/>\n",
              "  </svg>\n",
              "    </button>\n",
              "\n",
              "  <style>\n",
              "    .colab-df-container {\n",
              "      display:flex;\n",
              "      gap: 12px;\n",
              "    }\n",
              "\n",
              "    .colab-df-convert {\n",
              "      background-color: #E8F0FE;\n",
              "      border: none;\n",
              "      border-radius: 50%;\n",
              "      cursor: pointer;\n",
              "      display: none;\n",
              "      fill: #1967D2;\n",
              "      height: 32px;\n",
              "      padding: 0 0 0 0;\n",
              "      width: 32px;\n",
              "    }\n",
              "\n",
              "    .colab-df-convert:hover {\n",
              "      background-color: #E2EBFA;\n",
              "      box-shadow: 0px 1px 2px rgba(60, 64, 67, 0.3), 0px 1px 3px 1px rgba(60, 64, 67, 0.15);\n",
              "      fill: #174EA6;\n",
              "    }\n",
              "\n",
              "    .colab-df-buttons div {\n",
              "      margin-bottom: 4px;\n",
              "    }\n",
              "\n",
              "    [theme=dark] .colab-df-convert {\n",
              "      background-color: #3B4455;\n",
              "      fill: #D2E3FC;\n",
              "    }\n",
              "\n",
              "    [theme=dark] .colab-df-convert:hover {\n",
              "      background-color: #434B5C;\n",
              "      box-shadow: 0px 1px 3px 1px rgba(0, 0, 0, 0.15);\n",
              "      filter: drop-shadow(0px 1px 2px rgba(0, 0, 0, 0.3));\n",
              "      fill: #FFFFFF;\n",
              "    }\n",
              "  </style>\n",
              "\n",
              "    <script>\n",
              "      const buttonEl =\n",
              "        document.querySelector('#df-46102892-bfcf-4421-ac5d-830e1c9bb110 button.colab-df-convert');\n",
              "      buttonEl.style.display =\n",
              "        google.colab.kernel.accessAllowed ? 'block' : 'none';\n",
              "\n",
              "      async function convertToInteractive(key) {\n",
              "        const element = document.querySelector('#df-46102892-bfcf-4421-ac5d-830e1c9bb110');\n",
              "        const dataTable =\n",
              "          await google.colab.kernel.invokeFunction('convertToInteractive',\n",
              "                                                    [key], {});\n",
              "        if (!dataTable) return;\n",
              "\n",
              "        const docLinkHtml = 'Like what you see? Visit the ' +\n",
              "          '<a target=\"_blank\" href=https://colab.research.google.com/notebooks/data_table.ipynb>data table notebook</a>'\n",
              "          + ' to learn more about interactive tables.';\n",
              "        element.innerHTML = '';\n",
              "        dataTable['output_type'] = 'display_data';\n",
              "        await google.colab.output.renderOutput(dataTable, element);\n",
              "        const docLink = document.createElement('div');\n",
              "        docLink.innerHTML = docLinkHtml;\n",
              "        element.appendChild(docLink);\n",
              "      }\n",
              "    </script>\n",
              "  </div>\n",
              "\n",
              "\n",
              "<div id=\"df-9efdad61-eb05-4e0b-a42c-cd8de3099f46\">\n",
              "  <button class=\"colab-df-quickchart\" onclick=\"quickchart('df-9efdad61-eb05-4e0b-a42c-cd8de3099f46')\"\n",
              "            title=\"Suggest charts\"\n",
              "            style=\"display:none;\">\n",
              "\n",
              "<svg xmlns=\"http://www.w3.org/2000/svg\" height=\"24px\"viewBox=\"0 0 24 24\"\n",
              "     width=\"24px\">\n",
              "    <g>\n",
              "        <path d=\"M19 3H5c-1.1 0-2 .9-2 2v14c0 1.1.9 2 2 2h14c1.1 0 2-.9 2-2V5c0-1.1-.9-2-2-2zM9 17H7v-7h2v7zm4 0h-2V7h2v10zm4 0h-2v-4h2v4z\"/>\n",
              "    </g>\n",
              "</svg>\n",
              "  </button>\n",
              "\n",
              "<style>\n",
              "  .colab-df-quickchart {\n",
              "      --bg-color: #E8F0FE;\n",
              "      --fill-color: #1967D2;\n",
              "      --hover-bg-color: #E2EBFA;\n",
              "      --hover-fill-color: #174EA6;\n",
              "      --disabled-fill-color: #AAA;\n",
              "      --disabled-bg-color: #DDD;\n",
              "  }\n",
              "\n",
              "  [theme=dark] .colab-df-quickchart {\n",
              "      --bg-color: #3B4455;\n",
              "      --fill-color: #D2E3FC;\n",
              "      --hover-bg-color: #434B5C;\n",
              "      --hover-fill-color: #FFFFFF;\n",
              "      --disabled-bg-color: #3B4455;\n",
              "      --disabled-fill-color: #666;\n",
              "  }\n",
              "\n",
              "  .colab-df-quickchart {\n",
              "    background-color: var(--bg-color);\n",
              "    border: none;\n",
              "    border-radius: 50%;\n",
              "    cursor: pointer;\n",
              "    display: none;\n",
              "    fill: var(--fill-color);\n",
              "    height: 32px;\n",
              "    padding: 0;\n",
              "    width: 32px;\n",
              "  }\n",
              "\n",
              "  .colab-df-quickchart:hover {\n",
              "    background-color: var(--hover-bg-color);\n",
              "    box-shadow: 0 1px 2px rgba(60, 64, 67, 0.3), 0 1px 3px 1px rgba(60, 64, 67, 0.15);\n",
              "    fill: var(--button-hover-fill-color);\n",
              "  }\n",
              "\n",
              "  .colab-df-quickchart-complete:disabled,\n",
              "  .colab-df-quickchart-complete:disabled:hover {\n",
              "    background-color: var(--disabled-bg-color);\n",
              "    fill: var(--disabled-fill-color);\n",
              "    box-shadow: none;\n",
              "  }\n",
              "\n",
              "  .colab-df-spinner {\n",
              "    border: 2px solid var(--fill-color);\n",
              "    border-color: transparent;\n",
              "    border-bottom-color: var(--fill-color);\n",
              "    animation:\n",
              "      spin 1s steps(1) infinite;\n",
              "  }\n",
              "\n",
              "  @keyframes spin {\n",
              "    0% {\n",
              "      border-color: transparent;\n",
              "      border-bottom-color: var(--fill-color);\n",
              "      border-left-color: var(--fill-color);\n",
              "    }\n",
              "    20% {\n",
              "      border-color: transparent;\n",
              "      border-left-color: var(--fill-color);\n",
              "      border-top-color: var(--fill-color);\n",
              "    }\n",
              "    30% {\n",
              "      border-color: transparent;\n",
              "      border-left-color: var(--fill-color);\n",
              "      border-top-color: var(--fill-color);\n",
              "      border-right-color: var(--fill-color);\n",
              "    }\n",
              "    40% {\n",
              "      border-color: transparent;\n",
              "      border-right-color: var(--fill-color);\n",
              "      border-top-color: var(--fill-color);\n",
              "    }\n",
              "    60% {\n",
              "      border-color: transparent;\n",
              "      border-right-color: var(--fill-color);\n",
              "    }\n",
              "    80% {\n",
              "      border-color: transparent;\n",
              "      border-right-color: var(--fill-color);\n",
              "      border-bottom-color: var(--fill-color);\n",
              "    }\n",
              "    90% {\n",
              "      border-color: transparent;\n",
              "      border-bottom-color: var(--fill-color);\n",
              "    }\n",
              "  }\n",
              "</style>\n",
              "\n",
              "  <script>\n",
              "    async function quickchart(key) {\n",
              "      const quickchartButtonEl =\n",
              "        document.querySelector('#' + key + ' button');\n",
              "      quickchartButtonEl.disabled = true;  // To prevent multiple clicks.\n",
              "      quickchartButtonEl.classList.add('colab-df-spinner');\n",
              "      try {\n",
              "        const charts = await google.colab.kernel.invokeFunction(\n",
              "            'suggestCharts', [key], {});\n",
              "      } catch (error) {\n",
              "        console.error('Error during call to suggestCharts:', error);\n",
              "      }\n",
              "      quickchartButtonEl.classList.remove('colab-df-spinner');\n",
              "      quickchartButtonEl.classList.add('colab-df-quickchart-complete');\n",
              "    }\n",
              "    (() => {\n",
              "      let quickchartButtonEl =\n",
              "        document.querySelector('#df-9efdad61-eb05-4e0b-a42c-cd8de3099f46 button');\n",
              "      quickchartButtonEl.style.display =\n",
              "        google.colab.kernel.accessAllowed ? 'block' : 'none';\n",
              "    })();\n",
              "  </script>\n",
              "</div>\n",
              "\n",
              "    </div>\n",
              "  </div>\n"
            ],
            "application/vnd.google.colaboratory.intrinsic+json": {
              "type": "dataframe",
              "variable_name": "df",
              "summary": "{\n  \"name\": \"df\",\n  \"rows\": 11914,\n  \"fields\": [\n    {\n      \"column\": \"make\",\n      \"properties\": {\n        \"dtype\": \"category\",\n        \"num_unique_values\": 48,\n        \"samples\": [\n          \"Chevrolet\",\n          \"Land Rover\",\n          \"Bentley\"\n        ],\n        \"semantic_type\": \"\",\n        \"description\": \"\"\n      }\n    },\n    {\n      \"column\": \"model\",\n      \"properties\": {\n        \"dtype\": \"category\",\n        \"num_unique_values\": 915,\n        \"samples\": [\n          \"G35\",\n          \"Van\",\n          \"Flex\"\n        ],\n        \"semantic_type\": \"\",\n        \"description\": \"\"\n      }\n    },\n    {\n      \"column\": \"year\",\n      \"properties\": {\n        \"dtype\": \"number\",\n        \"std\": 7,\n        \"min\": 1990,\n        \"max\": 2017,\n        \"num_unique_values\": 28,\n        \"samples\": [\n          1990,\n          2000,\n          2016\n        ],\n        \"semantic_type\": \"\",\n        \"description\": \"\"\n      }\n    },\n    {\n      \"column\": \"engine_fuel_type\",\n      \"properties\": {\n        \"dtype\": \"category\",\n        \"num_unique_values\": 10,\n        \"samples\": [\n          \"flex-fuel (premium unleaded required/E85)\",\n          \"regular unleaded\",\n          \"electric\"\n        ],\n        \"semantic_type\": \"\",\n        \"description\": \"\"\n      }\n    },\n    {\n      \"column\": \"engine_hp\",\n      \"properties\": {\n        \"dtype\": \"number\",\n        \"std\": 109.19187025917206,\n        \"min\": 55.0,\n        \"max\": 1001.0,\n        \"num_unique_values\": 356,\n        \"samples\": [\n          145.0,\n          201.0,\n          219.0\n        ],\n        \"semantic_type\": \"\",\n        \"description\": \"\"\n      }\n    },\n    {\n      \"column\": \"engine_cylinders\",\n      \"properties\": {\n        \"dtype\": \"number\",\n        \"std\": 1.780559348246223,\n        \"min\": 0.0,\n        \"max\": 16.0,\n        \"num_unique_values\": 9,\n        \"samples\": [\n          3.0,\n          4.0,\n          0.0\n        ],\n        \"semantic_type\": \"\",\n        \"description\": \"\"\n      }\n    },\n    {\n      \"column\": \"transmission_type\",\n      \"properties\": {\n        \"dtype\": \"category\",\n        \"num_unique_values\": 5,\n        \"samples\": [\n          \"AUTOMATIC\",\n          \"UNKNOWN\",\n          \"AUTOMATED_MANUAL\"\n        ],\n        \"semantic_type\": \"\",\n        \"description\": \"\"\n      }\n    },\n    {\n      \"column\": \"driven_wheels\",\n      \"properties\": {\n        \"dtype\": \"category\",\n        \"num_unique_values\": 4,\n        \"samples\": [\n          \"front wheel drive\",\n          \"four wheel drive\",\n          \"rear wheel drive\"\n        ],\n        \"semantic_type\": \"\",\n        \"description\": \"\"\n      }\n    },\n    {\n      \"column\": \"number_of_doors\",\n      \"properties\": {\n        \"dtype\": \"number\",\n        \"std\": 0.8813153865835543,\n        \"min\": 2.0,\n        \"max\": 4.0,\n        \"num_unique_values\": 3,\n        \"samples\": [\n          2.0,\n          4.0,\n          3.0\n        ],\n        \"semantic_type\": \"\",\n        \"description\": \"\"\n      }\n    },\n    {\n      \"column\": \"market_category\",\n      \"properties\": {\n        \"dtype\": \"category\",\n        \"num_unique_values\": 71,\n        \"samples\": [\n          \"Exotic,Luxury,Performance\",\n          \"Factory Tuner,Luxury,High-Performance\",\n          \"Crossover,Flex Fuel,Luxury\"\n        ],\n        \"semantic_type\": \"\",\n        \"description\": \"\"\n      }\n    },\n    {\n      \"column\": \"vehicle_size\",\n      \"properties\": {\n        \"dtype\": \"category\",\n        \"num_unique_values\": 3,\n        \"samples\": [\n          \"Compact\",\n          \"Midsize\",\n          \"Large\"\n        ],\n        \"semantic_type\": \"\",\n        \"description\": \"\"\n      }\n    },\n    {\n      \"column\": \"vehicle_style\",\n      \"properties\": {\n        \"dtype\": \"category\",\n        \"num_unique_values\": 16,\n        \"samples\": [\n          \"Coupe\",\n          \"Convertible\",\n          \"2dr Hatchback\"\n        ],\n        \"semantic_type\": \"\",\n        \"description\": \"\"\n      }\n    },\n    {\n      \"column\": \"highway_mpg\",\n      \"properties\": {\n        \"dtype\": \"number\",\n        \"std\": 8,\n        \"min\": 12,\n        \"max\": 354,\n        \"num_unique_values\": 59,\n        \"samples\": [\n          26,\n          20,\n          354\n        ],\n        \"semantic_type\": \"\",\n        \"description\": \"\"\n      }\n    },\n    {\n      \"column\": \"city_mpg\",\n      \"properties\": {\n        \"dtype\": \"number\",\n        \"std\": 8,\n        \"min\": 7,\n        \"max\": 137,\n        \"num_unique_values\": 69,\n        \"samples\": [\n          9,\n          19,\n          41\n        ],\n        \"semantic_type\": \"\",\n        \"description\": \"\"\n      }\n    },\n    {\n      \"column\": \"popularity\",\n      \"properties\": {\n        \"dtype\": \"number\",\n        \"std\": 1441,\n        \"min\": 2,\n        \"max\": 5657,\n        \"num_unique_values\": 48,\n        \"samples\": [\n          1385,\n          258,\n          520\n        ],\n        \"semantic_type\": \"\",\n        \"description\": \"\"\n      }\n    },\n    {\n      \"column\": \"msrp\",\n      \"properties\": {\n        \"dtype\": \"number\",\n        \"std\": 60109,\n        \"min\": 2000,\n        \"max\": 2065902,\n        \"num_unique_values\": 6049,\n        \"samples\": [\n          42610,\n          32030,\n          89995\n        ],\n        \"semantic_type\": \"\",\n        \"description\": \"\"\n      }\n    }\n  ]\n}"
            }
          },
          "metadata": {},
          "execution_count": 134
        }
      ]
    },
    {
      "cell_type": "code",
      "source": [
        "# dtypes mengembalikan tipe kolom ini untuk semua kolom dan di sini kita tertarik pada \"objek\"\n",
        "# Dalam kasus file csv, \"objek\" tidak boleh berupa sesuatu yang berbeda dari string\n",
        "df.dtypes\n",
        "df.dtypes == 'object'\n",
        "\n",
        "# untuk memilih hanya objek\n",
        "df.dtypes[df.dtypes == 'object']"
      ],
      "metadata": {
        "colab": {
          "base_uri": "https://localhost:8080/"
        },
        "id": "ZrETV1YrZEoP",
        "outputId": "93bd90eb-e900-48af-c450-712262a369f2",
        "collapsed": true
      },
      "execution_count": null,
      "outputs": [
        {
          "output_type": "execute_result",
          "data": {
            "text/plain": [
              "make                 object\n",
              "model                object\n",
              "engine_fuel_type     object\n",
              "transmission_type    object\n",
              "driven_wheels        object\n",
              "market_category      object\n",
              "vehicle_size         object\n",
              "vehicle_style        object\n",
              "dtype: object"
            ]
          },
          "metadata": {},
          "execution_count": 135
        }
      ]
    },
    {
      "cell_type": "code",
      "source": [
        "# Dapatkan akses ke indeks seri tersebut\n",
        "# Mengonversinya ke daftar python dengan string nama\n",
        "strings = list(df.dtypes[df.dtypes == 'object'].index)\n",
        "strings"
      ],
      "metadata": {
        "colab": {
          "base_uri": "https://localhost:8080/"
        },
        "id": "640d9OTzaDeo",
        "outputId": "2b49a9ae-2a06-47aa-ebad-763827de2d44",
        "collapsed": true
      },
      "execution_count": null,
      "outputs": [
        {
          "output_type": "execute_result",
          "data": {
            "text/plain": [
              "['make',\n",
              " 'model',\n",
              " 'engine_fuel_type',\n",
              " 'transmission_type',\n",
              " 'driven_wheels',\n",
              " 'market_category',\n",
              " 'vehicle_size',\n",
              " 'vehicle_style']"
            ]
          },
          "metadata": {},
          "execution_count": 136
        }
      ]
    },
    {
      "cell_type": "code",
      "source": [
        "df['make'].str.lower().str.replace(' ', '_')\n",
        "\n",
        "# langkah yang lebih baik\n",
        "for col in strings:\n",
        "  df[col] = df[col].str.lower().str.replace(' ', '_')\n",
        "\n",
        "df.head()"
      ],
      "metadata": {
        "colab": {
          "base_uri": "https://localhost:8080/"
        },
        "id": "aNvGnPV6aRet",
        "outputId": "e996ce18-667c-46a9-c108-9e1d51aa508c",
        "collapsed": true
      },
      "execution_count": null,
      "outputs": [
        {
          "output_type": "execute_result",
          "data": {
            "text/plain": [
              "  make       model  year             engine_fuel_type  engine_hp  \\\n",
              "0  bmw  1_series_m  2011  premium_unleaded_(required)      335.0   \n",
              "1  bmw    1_series  2011  premium_unleaded_(required)      300.0   \n",
              "2  bmw    1_series  2011  premium_unleaded_(required)      300.0   \n",
              "3  bmw    1_series  2011  premium_unleaded_(required)      230.0   \n",
              "4  bmw    1_series  2011  premium_unleaded_(required)      230.0   \n",
              "\n",
              "   engine_cylinders transmission_type     driven_wheels  number_of_doors  \\\n",
              "0               6.0            manual  rear_wheel_drive              2.0   \n",
              "1               6.0            manual  rear_wheel_drive              2.0   \n",
              "2               6.0            manual  rear_wheel_drive              2.0   \n",
              "3               6.0            manual  rear_wheel_drive              2.0   \n",
              "4               6.0            manual  rear_wheel_drive              2.0   \n",
              "\n",
              "                         market_category vehicle_size vehicle_style  \\\n",
              "0  factory_tuner,luxury,high-performance      compact         coupe   \n",
              "1                     luxury,performance      compact   convertible   \n",
              "2                luxury,high-performance      compact         coupe   \n",
              "3                     luxury,performance      compact         coupe   \n",
              "4                                 luxury      compact   convertible   \n",
              "\n",
              "   highway_mpg  city_mpg  popularity   msrp  \n",
              "0           26        19        3916  46135  \n",
              "1           28        19        3916  40650  \n",
              "2           28        20        3916  36350  \n",
              "3           28        18        3916  29450  \n",
              "4           28        18        3916  34500  "
            ],
            "text/html": [
              "\n",
              "  <div id=\"df-a437fbe7-f9c1-4ada-ac5d-2d85cce1878b\" class=\"colab-df-container\">\n",
              "    <div>\n",
              "<style scoped>\n",
              "    .dataframe tbody tr th:only-of-type {\n",
              "        vertical-align: middle;\n",
              "    }\n",
              "\n",
              "    .dataframe tbody tr th {\n",
              "        vertical-align: top;\n",
              "    }\n",
              "\n",
              "    .dataframe thead th {\n",
              "        text-align: right;\n",
              "    }\n",
              "</style>\n",
              "<table border=\"1\" class=\"dataframe\">\n",
              "  <thead>\n",
              "    <tr style=\"text-align: right;\">\n",
              "      <th></th>\n",
              "      <th>make</th>\n",
              "      <th>model</th>\n",
              "      <th>year</th>\n",
              "      <th>engine_fuel_type</th>\n",
              "      <th>engine_hp</th>\n",
              "      <th>engine_cylinders</th>\n",
              "      <th>transmission_type</th>\n",
              "      <th>driven_wheels</th>\n",
              "      <th>number_of_doors</th>\n",
              "      <th>market_category</th>\n",
              "      <th>vehicle_size</th>\n",
              "      <th>vehicle_style</th>\n",
              "      <th>highway_mpg</th>\n",
              "      <th>city_mpg</th>\n",
              "      <th>popularity</th>\n",
              "      <th>msrp</th>\n",
              "    </tr>\n",
              "  </thead>\n",
              "  <tbody>\n",
              "    <tr>\n",
              "      <th>0</th>\n",
              "      <td>bmw</td>\n",
              "      <td>1_series_m</td>\n",
              "      <td>2011</td>\n",
              "      <td>premium_unleaded_(required)</td>\n",
              "      <td>335.0</td>\n",
              "      <td>6.0</td>\n",
              "      <td>manual</td>\n",
              "      <td>rear_wheel_drive</td>\n",
              "      <td>2.0</td>\n",
              "      <td>factory_tuner,luxury,high-performance</td>\n",
              "      <td>compact</td>\n",
              "      <td>coupe</td>\n",
              "      <td>26</td>\n",
              "      <td>19</td>\n",
              "      <td>3916</td>\n",
              "      <td>46135</td>\n",
              "    </tr>\n",
              "    <tr>\n",
              "      <th>1</th>\n",
              "      <td>bmw</td>\n",
              "      <td>1_series</td>\n",
              "      <td>2011</td>\n",
              "      <td>premium_unleaded_(required)</td>\n",
              "      <td>300.0</td>\n",
              "      <td>6.0</td>\n",
              "      <td>manual</td>\n",
              "      <td>rear_wheel_drive</td>\n",
              "      <td>2.0</td>\n",
              "      <td>luxury,performance</td>\n",
              "      <td>compact</td>\n",
              "      <td>convertible</td>\n",
              "      <td>28</td>\n",
              "      <td>19</td>\n",
              "      <td>3916</td>\n",
              "      <td>40650</td>\n",
              "    </tr>\n",
              "    <tr>\n",
              "      <th>2</th>\n",
              "      <td>bmw</td>\n",
              "      <td>1_series</td>\n",
              "      <td>2011</td>\n",
              "      <td>premium_unleaded_(required)</td>\n",
              "      <td>300.0</td>\n",
              "      <td>6.0</td>\n",
              "      <td>manual</td>\n",
              "      <td>rear_wheel_drive</td>\n",
              "      <td>2.0</td>\n",
              "      <td>luxury,high-performance</td>\n",
              "      <td>compact</td>\n",
              "      <td>coupe</td>\n",
              "      <td>28</td>\n",
              "      <td>20</td>\n",
              "      <td>3916</td>\n",
              "      <td>36350</td>\n",
              "    </tr>\n",
              "    <tr>\n",
              "      <th>3</th>\n",
              "      <td>bmw</td>\n",
              "      <td>1_series</td>\n",
              "      <td>2011</td>\n",
              "      <td>premium_unleaded_(required)</td>\n",
              "      <td>230.0</td>\n",
              "      <td>6.0</td>\n",
              "      <td>manual</td>\n",
              "      <td>rear_wheel_drive</td>\n",
              "      <td>2.0</td>\n",
              "      <td>luxury,performance</td>\n",
              "      <td>compact</td>\n",
              "      <td>coupe</td>\n",
              "      <td>28</td>\n",
              "      <td>18</td>\n",
              "      <td>3916</td>\n",
              "      <td>29450</td>\n",
              "    </tr>\n",
              "    <tr>\n",
              "      <th>4</th>\n",
              "      <td>bmw</td>\n",
              "      <td>1_series</td>\n",
              "      <td>2011</td>\n",
              "      <td>premium_unleaded_(required)</td>\n",
              "      <td>230.0</td>\n",
              "      <td>6.0</td>\n",
              "      <td>manual</td>\n",
              "      <td>rear_wheel_drive</td>\n",
              "      <td>2.0</td>\n",
              "      <td>luxury</td>\n",
              "      <td>compact</td>\n",
              "      <td>convertible</td>\n",
              "      <td>28</td>\n",
              "      <td>18</td>\n",
              "      <td>3916</td>\n",
              "      <td>34500</td>\n",
              "    </tr>\n",
              "  </tbody>\n",
              "</table>\n",
              "</div>\n",
              "    <div class=\"colab-df-buttons\">\n",
              "\n",
              "  <div class=\"colab-df-container\">\n",
              "    <button class=\"colab-df-convert\" onclick=\"convertToInteractive('df-a437fbe7-f9c1-4ada-ac5d-2d85cce1878b')\"\n",
              "            title=\"Convert this dataframe to an interactive table.\"\n",
              "            style=\"display:none;\">\n",
              "\n",
              "  <svg xmlns=\"http://www.w3.org/2000/svg\" height=\"24px\" viewBox=\"0 -960 960 960\">\n",
              "    <path d=\"M120-120v-720h720v720H120Zm60-500h600v-160H180v160Zm220 220h160v-160H400v160Zm0 220h160v-160H400v160ZM180-400h160v-160H180v160Zm440 0h160v-160H620v160ZM180-180h160v-160H180v160Zm440 0h160v-160H620v160Z\"/>\n",
              "  </svg>\n",
              "    </button>\n",
              "\n",
              "  <style>\n",
              "    .colab-df-container {\n",
              "      display:flex;\n",
              "      gap: 12px;\n",
              "    }\n",
              "\n",
              "    .colab-df-convert {\n",
              "      background-color: #E8F0FE;\n",
              "      border: none;\n",
              "      border-radius: 50%;\n",
              "      cursor: pointer;\n",
              "      display: none;\n",
              "      fill: #1967D2;\n",
              "      height: 32px;\n",
              "      padding: 0 0 0 0;\n",
              "      width: 32px;\n",
              "    }\n",
              "\n",
              "    .colab-df-convert:hover {\n",
              "      background-color: #E2EBFA;\n",
              "      box-shadow: 0px 1px 2px rgba(60, 64, 67, 0.3), 0px 1px 3px 1px rgba(60, 64, 67, 0.15);\n",
              "      fill: #174EA6;\n",
              "    }\n",
              "\n",
              "    .colab-df-buttons div {\n",
              "      margin-bottom: 4px;\n",
              "    }\n",
              "\n",
              "    [theme=dark] .colab-df-convert {\n",
              "      background-color: #3B4455;\n",
              "      fill: #D2E3FC;\n",
              "    }\n",
              "\n",
              "    [theme=dark] .colab-df-convert:hover {\n",
              "      background-color: #434B5C;\n",
              "      box-shadow: 0px 1px 3px 1px rgba(0, 0, 0, 0.15);\n",
              "      filter: drop-shadow(0px 1px 2px rgba(0, 0, 0, 0.3));\n",
              "      fill: #FFFFFF;\n",
              "    }\n",
              "  </style>\n",
              "\n",
              "    <script>\n",
              "      const buttonEl =\n",
              "        document.querySelector('#df-a437fbe7-f9c1-4ada-ac5d-2d85cce1878b button.colab-df-convert');\n",
              "      buttonEl.style.display =\n",
              "        google.colab.kernel.accessAllowed ? 'block' : 'none';\n",
              "\n",
              "      async function convertToInteractive(key) {\n",
              "        const element = document.querySelector('#df-a437fbe7-f9c1-4ada-ac5d-2d85cce1878b');\n",
              "        const dataTable =\n",
              "          await google.colab.kernel.invokeFunction('convertToInteractive',\n",
              "                                                    [key], {});\n",
              "        if (!dataTable) return;\n",
              "\n",
              "        const docLinkHtml = 'Like what you see? Visit the ' +\n",
              "          '<a target=\"_blank\" href=https://colab.research.google.com/notebooks/data_table.ipynb>data table notebook</a>'\n",
              "          + ' to learn more about interactive tables.';\n",
              "        element.innerHTML = '';\n",
              "        dataTable['output_type'] = 'display_data';\n",
              "        await google.colab.output.renderOutput(dataTable, element);\n",
              "        const docLink = document.createElement('div');\n",
              "        docLink.innerHTML = docLinkHtml;\n",
              "        element.appendChild(docLink);\n",
              "      }\n",
              "    </script>\n",
              "  </div>\n",
              "\n",
              "\n",
              "<div id=\"df-af8ab512-2a79-46d2-9687-413acf46c818\">\n",
              "  <button class=\"colab-df-quickchart\" onclick=\"quickchart('df-af8ab512-2a79-46d2-9687-413acf46c818')\"\n",
              "            title=\"Suggest charts\"\n",
              "            style=\"display:none;\">\n",
              "\n",
              "<svg xmlns=\"http://www.w3.org/2000/svg\" height=\"24px\"viewBox=\"0 0 24 24\"\n",
              "     width=\"24px\">\n",
              "    <g>\n",
              "        <path d=\"M19 3H5c-1.1 0-2 .9-2 2v14c0 1.1.9 2 2 2h14c1.1 0 2-.9 2-2V5c0-1.1-.9-2-2-2zM9 17H7v-7h2v7zm4 0h-2V7h2v10zm4 0h-2v-4h2v4z\"/>\n",
              "    </g>\n",
              "</svg>\n",
              "  </button>\n",
              "\n",
              "<style>\n",
              "  .colab-df-quickchart {\n",
              "      --bg-color: #E8F0FE;\n",
              "      --fill-color: #1967D2;\n",
              "      --hover-bg-color: #E2EBFA;\n",
              "      --hover-fill-color: #174EA6;\n",
              "      --disabled-fill-color: #AAA;\n",
              "      --disabled-bg-color: #DDD;\n",
              "  }\n",
              "\n",
              "  [theme=dark] .colab-df-quickchart {\n",
              "      --bg-color: #3B4455;\n",
              "      --fill-color: #D2E3FC;\n",
              "      --hover-bg-color: #434B5C;\n",
              "      --hover-fill-color: #FFFFFF;\n",
              "      --disabled-bg-color: #3B4455;\n",
              "      --disabled-fill-color: #666;\n",
              "  }\n",
              "\n",
              "  .colab-df-quickchart {\n",
              "    background-color: var(--bg-color);\n",
              "    border: none;\n",
              "    border-radius: 50%;\n",
              "    cursor: pointer;\n",
              "    display: none;\n",
              "    fill: var(--fill-color);\n",
              "    height: 32px;\n",
              "    padding: 0;\n",
              "    width: 32px;\n",
              "  }\n",
              "\n",
              "  .colab-df-quickchart:hover {\n",
              "    background-color: var(--hover-bg-color);\n",
              "    box-shadow: 0 1px 2px rgba(60, 64, 67, 0.3), 0 1px 3px 1px rgba(60, 64, 67, 0.15);\n",
              "    fill: var(--button-hover-fill-color);\n",
              "  }\n",
              "\n",
              "  .colab-df-quickchart-complete:disabled,\n",
              "  .colab-df-quickchart-complete:disabled:hover {\n",
              "    background-color: var(--disabled-bg-color);\n",
              "    fill: var(--disabled-fill-color);\n",
              "    box-shadow: none;\n",
              "  }\n",
              "\n",
              "  .colab-df-spinner {\n",
              "    border: 2px solid var(--fill-color);\n",
              "    border-color: transparent;\n",
              "    border-bottom-color: var(--fill-color);\n",
              "    animation:\n",
              "      spin 1s steps(1) infinite;\n",
              "  }\n",
              "\n",
              "  @keyframes spin {\n",
              "    0% {\n",
              "      border-color: transparent;\n",
              "      border-bottom-color: var(--fill-color);\n",
              "      border-left-color: var(--fill-color);\n",
              "    }\n",
              "    20% {\n",
              "      border-color: transparent;\n",
              "      border-left-color: var(--fill-color);\n",
              "      border-top-color: var(--fill-color);\n",
              "    }\n",
              "    30% {\n",
              "      border-color: transparent;\n",
              "      border-left-color: var(--fill-color);\n",
              "      border-top-color: var(--fill-color);\n",
              "      border-right-color: var(--fill-color);\n",
              "    }\n",
              "    40% {\n",
              "      border-color: transparent;\n",
              "      border-right-color: var(--fill-color);\n",
              "      border-top-color: var(--fill-color);\n",
              "    }\n",
              "    60% {\n",
              "      border-color: transparent;\n",
              "      border-right-color: var(--fill-color);\n",
              "    }\n",
              "    80% {\n",
              "      border-color: transparent;\n",
              "      border-right-color: var(--fill-color);\n",
              "      border-bottom-color: var(--fill-color);\n",
              "    }\n",
              "    90% {\n",
              "      border-color: transparent;\n",
              "      border-bottom-color: var(--fill-color);\n",
              "    }\n",
              "  }\n",
              "</style>\n",
              "\n",
              "  <script>\n",
              "    async function quickchart(key) {\n",
              "      const quickchartButtonEl =\n",
              "        document.querySelector('#' + key + ' button');\n",
              "      quickchartButtonEl.disabled = true;  // To prevent multiple clicks.\n",
              "      quickchartButtonEl.classList.add('colab-df-spinner');\n",
              "      try {\n",
              "        const charts = await google.colab.kernel.invokeFunction(\n",
              "            'suggestCharts', [key], {});\n",
              "      } catch (error) {\n",
              "        console.error('Error during call to suggestCharts:', error);\n",
              "      }\n",
              "      quickchartButtonEl.classList.remove('colab-df-spinner');\n",
              "      quickchartButtonEl.classList.add('colab-df-quickchart-complete');\n",
              "    }\n",
              "    (() => {\n",
              "      let quickchartButtonEl =\n",
              "        document.querySelector('#df-af8ab512-2a79-46d2-9687-413acf46c818 button');\n",
              "      quickchartButtonEl.style.display =\n",
              "        google.colab.kernel.accessAllowed ? 'block' : 'none';\n",
              "    })();\n",
              "  </script>\n",
              "</div>\n",
              "\n",
              "    </div>\n",
              "  </div>\n"
            ],
            "application/vnd.google.colaboratory.intrinsic+json": {
              "type": "dataframe",
              "variable_name": "df",
              "summary": "{\n  \"name\": \"df\",\n  \"rows\": 11914,\n  \"fields\": [\n    {\n      \"column\": \"make\",\n      \"properties\": {\n        \"dtype\": \"category\",\n        \"num_unique_values\": 48,\n        \"samples\": [\n          \"chevrolet\",\n          \"land_rover\",\n          \"bentley\"\n        ],\n        \"semantic_type\": \"\",\n        \"description\": \"\"\n      }\n    },\n    {\n      \"column\": \"model\",\n      \"properties\": {\n        \"dtype\": \"category\",\n        \"num_unique_values\": 914,\n        \"samples\": [\n          \"g35\",\n          \"van\",\n          \"flex\"\n        ],\n        \"semantic_type\": \"\",\n        \"description\": \"\"\n      }\n    },\n    {\n      \"column\": \"year\",\n      \"properties\": {\n        \"dtype\": \"number\",\n        \"std\": 7,\n        \"min\": 1990,\n        \"max\": 2017,\n        \"num_unique_values\": 28,\n        \"samples\": [\n          1990,\n          2000,\n          2016\n        ],\n        \"semantic_type\": \"\",\n        \"description\": \"\"\n      }\n    },\n    {\n      \"column\": \"engine_fuel_type\",\n      \"properties\": {\n        \"dtype\": \"category\",\n        \"num_unique_values\": 10,\n        \"samples\": [\n          \"flex-fuel_(premium_unleaded_required/e85)\",\n          \"regular_unleaded\",\n          \"electric\"\n        ],\n        \"semantic_type\": \"\",\n        \"description\": \"\"\n      }\n    },\n    {\n      \"column\": \"engine_hp\",\n      \"properties\": {\n        \"dtype\": \"number\",\n        \"std\": 109.19187025917206,\n        \"min\": 55.0,\n        \"max\": 1001.0,\n        \"num_unique_values\": 356,\n        \"samples\": [\n          145.0,\n          201.0,\n          219.0\n        ],\n        \"semantic_type\": \"\",\n        \"description\": \"\"\n      }\n    },\n    {\n      \"column\": \"engine_cylinders\",\n      \"properties\": {\n        \"dtype\": \"number\",\n        \"std\": 1.780559348246223,\n        \"min\": 0.0,\n        \"max\": 16.0,\n        \"num_unique_values\": 9,\n        \"samples\": [\n          3.0,\n          4.0,\n          0.0\n        ],\n        \"semantic_type\": \"\",\n        \"description\": \"\"\n      }\n    },\n    {\n      \"column\": \"transmission_type\",\n      \"properties\": {\n        \"dtype\": \"category\",\n        \"num_unique_values\": 5,\n        \"samples\": [\n          \"automatic\",\n          \"unknown\",\n          \"automated_manual\"\n        ],\n        \"semantic_type\": \"\",\n        \"description\": \"\"\n      }\n    },\n    {\n      \"column\": \"driven_wheels\",\n      \"properties\": {\n        \"dtype\": \"category\",\n        \"num_unique_values\": 4,\n        \"samples\": [\n          \"front_wheel_drive\",\n          \"four_wheel_drive\",\n          \"rear_wheel_drive\"\n        ],\n        \"semantic_type\": \"\",\n        \"description\": \"\"\n      }\n    },\n    {\n      \"column\": \"number_of_doors\",\n      \"properties\": {\n        \"dtype\": \"number\",\n        \"std\": 0.8813153865835543,\n        \"min\": 2.0,\n        \"max\": 4.0,\n        \"num_unique_values\": 3,\n        \"samples\": [\n          2.0,\n          4.0,\n          3.0\n        ],\n        \"semantic_type\": \"\",\n        \"description\": \"\"\n      }\n    },\n    {\n      \"column\": \"market_category\",\n      \"properties\": {\n        \"dtype\": \"category\",\n        \"num_unique_values\": 71,\n        \"samples\": [\n          \"exotic,luxury,performance\",\n          \"factory_tuner,luxury,high-performance\",\n          \"crossover,flex_fuel,luxury\"\n        ],\n        \"semantic_type\": \"\",\n        \"description\": \"\"\n      }\n    },\n    {\n      \"column\": \"vehicle_size\",\n      \"properties\": {\n        \"dtype\": \"category\",\n        \"num_unique_values\": 3,\n        \"samples\": [\n          \"compact\",\n          \"midsize\",\n          \"large\"\n        ],\n        \"semantic_type\": \"\",\n        \"description\": \"\"\n      }\n    },\n    {\n      \"column\": \"vehicle_style\",\n      \"properties\": {\n        \"dtype\": \"category\",\n        \"num_unique_values\": 16,\n        \"samples\": [\n          \"coupe\",\n          \"convertible\",\n          \"2dr_hatchback\"\n        ],\n        \"semantic_type\": \"\",\n        \"description\": \"\"\n      }\n    },\n    {\n      \"column\": \"highway_mpg\",\n      \"properties\": {\n        \"dtype\": \"number\",\n        \"std\": 8,\n        \"min\": 12,\n        \"max\": 354,\n        \"num_unique_values\": 59,\n        \"samples\": [\n          26,\n          20,\n          354\n        ],\n        \"semantic_type\": \"\",\n        \"description\": \"\"\n      }\n    },\n    {\n      \"column\": \"city_mpg\",\n      \"properties\": {\n        \"dtype\": \"number\",\n        \"std\": 8,\n        \"min\": 7,\n        \"max\": 137,\n        \"num_unique_values\": 69,\n        \"samples\": [\n          9,\n          19,\n          41\n        ],\n        \"semantic_type\": \"\",\n        \"description\": \"\"\n      }\n    },\n    {\n      \"column\": \"popularity\",\n      \"properties\": {\n        \"dtype\": \"number\",\n        \"std\": 1441,\n        \"min\": 2,\n        \"max\": 5657,\n        \"num_unique_values\": 48,\n        \"samples\": [\n          1385,\n          258,\n          520\n        ],\n        \"semantic_type\": \"\",\n        \"description\": \"\"\n      }\n    },\n    {\n      \"column\": \"msrp\",\n      \"properties\": {\n        \"dtype\": \"number\",\n        \"std\": 60109,\n        \"min\": 2000,\n        \"max\": 2065902,\n        \"num_unique_values\": 6049,\n        \"samples\": [\n          42610,\n          32030,\n          89995\n        ],\n        \"semantic_type\": \"\",\n        \"description\": \"\"\n      }\n    }\n  ]\n}"
            }
          },
          "metadata": {},
          "execution_count": 137
        }
      ]
    },
    {
      "cell_type": "markdown",
      "source": [
        "## 2. Analisis Data Eksplorasi (EDA) - Proyek prediksi harga mobil   "
      ],
      "metadata": {
        "id": "hXYR_ndUaz2D"
      }
    },
    {
      "cell_type": "markdown",
      "source": [
        "### Mendapatkan gambaran umum"
      ],
      "metadata": {
        "id": "MImAPNudbDh2"
      }
    },
    {
      "cell_type": "code",
      "source": [
        "for col in df.columns:\n",
        "  print(col)\n",
        "  print(df[col].head())\n",
        "  print()"
      ],
      "metadata": {
        "colab": {
          "base_uri": "https://localhost:8080/"
        },
        "collapsed": true,
        "id": "5vTT3o29a_iL",
        "outputId": "ac1f1442-dbf2-4dda-fe23-a8ecf4df7022"
      },
      "execution_count": null,
      "outputs": [
        {
          "output_type": "stream",
          "name": "stdout",
          "text": [
            "make\n",
            "0    bmw\n",
            "1    bmw\n",
            "2    bmw\n",
            "3    bmw\n",
            "4    bmw\n",
            "Name: make, dtype: object\n",
            "\n",
            "model\n",
            "0    1_series_m\n",
            "1      1_series\n",
            "2      1_series\n",
            "3      1_series\n",
            "4      1_series\n",
            "Name: model, dtype: object\n",
            "\n",
            "year\n",
            "0    2011\n",
            "1    2011\n",
            "2    2011\n",
            "3    2011\n",
            "4    2011\n",
            "Name: year, dtype: int64\n",
            "\n",
            "engine_fuel_type\n",
            "0    premium_unleaded_(required)\n",
            "1    premium_unleaded_(required)\n",
            "2    premium_unleaded_(required)\n",
            "3    premium_unleaded_(required)\n",
            "4    premium_unleaded_(required)\n",
            "Name: engine_fuel_type, dtype: object\n",
            "\n",
            "engine_hp\n",
            "0    335.0\n",
            "1    300.0\n",
            "2    300.0\n",
            "3    230.0\n",
            "4    230.0\n",
            "Name: engine_hp, dtype: float64\n",
            "\n",
            "engine_cylinders\n",
            "0    6.0\n",
            "1    6.0\n",
            "2    6.0\n",
            "3    6.0\n",
            "4    6.0\n",
            "Name: engine_cylinders, dtype: float64\n",
            "\n",
            "transmission_type\n",
            "0    manual\n",
            "1    manual\n",
            "2    manual\n",
            "3    manual\n",
            "4    manual\n",
            "Name: transmission_type, dtype: object\n",
            "\n",
            "driven_wheels\n",
            "0    rear_wheel_drive\n",
            "1    rear_wheel_drive\n",
            "2    rear_wheel_drive\n",
            "3    rear_wheel_drive\n",
            "4    rear_wheel_drive\n",
            "Name: driven_wheels, dtype: object\n",
            "\n",
            "number_of_doors\n",
            "0    2.0\n",
            "1    2.0\n",
            "2    2.0\n",
            "3    2.0\n",
            "4    2.0\n",
            "Name: number_of_doors, dtype: float64\n",
            "\n",
            "market_category\n",
            "0    factory_tuner,luxury,high-performance\n",
            "1                       luxury,performance\n",
            "2                  luxury,high-performance\n",
            "3                       luxury,performance\n",
            "4                                   luxury\n",
            "Name: market_category, dtype: object\n",
            "\n",
            "vehicle_size\n",
            "0    compact\n",
            "1    compact\n",
            "2    compact\n",
            "3    compact\n",
            "4    compact\n",
            "Name: vehicle_size, dtype: object\n",
            "\n",
            "vehicle_style\n",
            "0          coupe\n",
            "1    convertible\n",
            "2          coupe\n",
            "3          coupe\n",
            "4    convertible\n",
            "Name: vehicle_style, dtype: object\n",
            "\n",
            "highway_mpg\n",
            "0    26\n",
            "1    28\n",
            "2    28\n",
            "3    28\n",
            "4    28\n",
            "Name: highway_mpg, dtype: int64\n",
            "\n",
            "city_mpg\n",
            "0    19\n",
            "1    19\n",
            "2    20\n",
            "3    18\n",
            "4    18\n",
            "Name: city_mpg, dtype: int64\n",
            "\n",
            "popularity\n",
            "0    3916\n",
            "1    3916\n",
            "2    3916\n",
            "3    3916\n",
            "4    3916\n",
            "Name: popularity, dtype: int64\n",
            "\n",
            "msrp\n",
            "0    46135\n",
            "1    40650\n",
            "2    36350\n",
            "3    29450\n",
            "4    34500\n",
            "Name: msrp, dtype: int64\n",
            "\n"
          ]
        }
      ]
    },
    {
      "cell_type": "code",
      "source": [
        "for col in df.columns:\n",
        "  print(col)\n",
        "  # cetak hanya 5 nilai pertama\n",
        "  # cetak(df[kolom].unik()[:5])\n",
        "  print(df[col].unique())\n",
        "  print(\"number of unique values: \", df[col].nunique())\n",
        "  print()"
      ],
      "metadata": {
        "colab": {
          "base_uri": "https://localhost:8080/"
        },
        "collapsed": true,
        "id": "NqEOu7GHbXow",
        "outputId": "8781d733-624f-4116-e908-6510a317c751"
      },
      "execution_count": null,
      "outputs": [
        {
          "output_type": "stream",
          "name": "stdout",
          "text": [
            "make\n",
            "['bmw' 'audi' 'fiat' 'mercedes-benz' 'chrysler' 'nissan' 'volvo' 'mazda'\n",
            " 'mitsubishi' 'ferrari' 'alfa_romeo' 'toyota' 'mclaren' 'maybach'\n",
            " 'pontiac' 'porsche' 'saab' 'gmc' 'hyundai' 'plymouth' 'honda'\n",
            " 'oldsmobile' 'suzuki' 'ford' 'cadillac' 'kia' 'bentley' 'chevrolet'\n",
            " 'dodge' 'lamborghini' 'lincoln' 'subaru' 'volkswagen' 'spyker' 'buick'\n",
            " 'acura' 'rolls-royce' 'maserati' 'lexus' 'aston_martin' 'land_rover'\n",
            " 'lotus' 'infiniti' 'scion' 'genesis' 'hummer' 'tesla' 'bugatti']\n",
            "number of unique values:  48\n",
            "\n",
            "model\n",
            "['1_series_m' '1_series' '100' '124_spider' '190-class' '2_series' '200'\n",
            " '200sx' '240sx' '240' '2' '3_series_gran_turismo' '3_series' '300-class'\n",
            " '3000gt' '300' '300m' '300zx' '323' '350-class' '350z' '360' '370z' '3'\n",
            " '4_series_gran_coupe' '4_series' '400-class' '420-class' '456m'\n",
            " '458_italia' '4c' '4runner' '5_series_gran_turismo' '5_series'\n",
            " '500-class' '500e' '500' '500l' '500x' '550' '560-class' '570s' '575m'\n",
            " '57' '599' '5' '6_series_gran_coupe' '6_series' '600-class' '6000'\n",
            " '612_scaglietti' '626' '62' '650s_coupe' '650s_spider' '6' '7_series'\n",
            " '718_cayman' '740' '760' '780' '8_series' '80' '850' '86' '9-2x'\n",
            " '9-3_griffin' '9-3' '9-4x' '9-5' '9-7x' '9000' '900' '90' '911' '928'\n",
            " '929' '940' '944' '960' '968' 'a3' 'a4_allroad' 'a4' 'a5' 'a6' 'a7' 'a8'\n",
            " 'acadia_limited' 'acadia' 'accent' 'acclaim' 'accord_crosstour'\n",
            " 'accord_hybrid' 'accord_plug-in_hybrid' 'accord' 'achieva'\n",
            " 'activehybrid_5' 'activehybrid_7' 'activehybrid_x6' 'aerio' 'aerostar'\n",
            " 'alero' 'allante' 'allroad_quattro' 'allroad' 'alpina_b6_gran_coupe'\n",
            " 'alpina_b7' 'alpina' 'altima_hybrid' 'altima' 'amanti' 'amg_gt' 'armada'\n",
            " 'arnage' 'aspen' 'aspire' 'astro_cargo' 'astro' 'ats_coupe' 'ats-v' 'ats'\n",
            " 'aurora' 'avalanche' 'avalon_hybrid' 'avalon' 'avenger' 'aventador'\n",
            " 'aveo' 'aviator' 'axxess' 'azera' 'aztek' 'azure_t' 'azure'\n",
            " 'b-class_electric_drive' 'b-series_pickup' 'b-series_truck' 'b-series'\n",
            " 'b9_tribeca' 'baja' 'beetle_convertible' 'beetle' 'beretta'\n",
            " 'black_diamond_avalanche' 'blackwood' 'blazer' 'bolt_ev' 'bonneville'\n",
            " 'borrego' 'boxster' 'bravada' 'breeze' 'bronco_ii' 'bronco' 'brooklands'\n",
            " 'brougham' 'brz' 'c-class' 'c-max_hybrid' 'c30' 'c36_amg' 'c43_amg' 'c70'\n",
            " 'c8' 'cabriolet' 'cabrio' 'cadenza' 'caliber' 'california_t' 'california'\n",
            " 'camaro' 'camry_hybrid' 'camry_solara' 'camry' 'canyon' 'caprice'\n",
            " 'captiva_sport' 'caravan' 'carrera_gt' 'cascada' 'catera' 'cavalier'\n",
            " 'cayenne' 'cayman_s' 'cayman' 'cc' 'celebrity' 'celica' 'century'\n",
            " 'challenger' 'charger' 'chevy_van' 'ciera' 'cirrus' 'city_express'\n",
            " 'civic_crx' 'civic_del_sol' 'civic' 'c/k_1500_series' 'c/k_2500_series'\n",
            " 'cl-class' 'cla-class' 'cl' 'classic' 'clk-class' 'cls-class' 'cobalt'\n",
            " 'colorado' 'colt' 'concorde' 'continental_flying_spur_speed'\n",
            " 'continental_flying_spur' 'continental_gt_speed_convertible'\n",
            " 'continental_gt_speed' 'continental_gt3-r' 'continental_gt'\n",
            " 'continental_gtc_speed' 'continental_gtc'\n",
            " 'continental_supersports_convertible' 'continental_supersports'\n",
            " 'continental' 'contour_svt' 'contour' 'corniche' 'corolla_im' 'corolla'\n",
            " 'corrado' 'corsica' 'corvette_stingray' 'corvette' 'coupe' 'cr-v' 'cr-z'\n",
            " 'cressida' 'crossfire' 'crosstour' 'crosstrek' 'crown_victoria'\n",
            " 'cruze_limited' 'cruze' 'ct_200h' 'ct6' 'cts_coupe' 'cts-v_coupe'\n",
            " 'cts-v_wagon' 'cts-v' 'cts_wagon' 'cts' 'cube' 'custom_cruiser'\n",
            " 'cutlass_calais' 'cutlass_ciera' 'cutlass_supreme' 'cutlass' 'cx-3'\n",
            " 'cx-5' 'cx-7' 'cx-9' 'dakota' 'dart' 'dawn' 'daytona' 'db7' 'db9_gt'\n",
            " 'db9' 'dbs' 'defender' 'deville' 'diablo' 'diamante'\n",
            " 'discovery_series_ii' 'discovery_sport' 'discovery' 'dts' 'durango'\n",
            " 'dynasty' 'e-150' 'e-250' 'e-class' 'e-golf' 'e-series_van'\n",
            " 'e-series_wagon' 'e55_amg' 'echo' 'eclipse_spyder' 'eclipse' 'edge'\n",
            " 'eighty-eight_royale' 'eighty-eight' 'elantra_coupe' 'elantra_gt'\n",
            " 'elantra_touring' 'elantra' 'eldorado' 'electra' 'element' 'elise'\n",
            " 'enclave' 'encore' 'endeavor' 'entourage' 'envision' 'envoy_xl'\n",
            " 'envoy_xuv' 'envoy' 'enzo' 'eos' 'equator' 'equinox' 'equus' 'es_250'\n",
            " 'es_300h' 'es_300' 'es_330' 'es_350' 'escalade_esv' 'escalade_ext'\n",
            " 'escalade_hybrid' 'escalade' 'escape_hybrid' 'escape' 'escort' 'esprit'\n",
            " 'estate_wagon' 'esteem' 'eurovan' 'evora_400' 'evora' 'ex35' 'excel'\n",
            " 'exige' 'ex' 'expedition' 'explorer_sport_trac' 'explorer_sport'\n",
            " 'explorer' 'expo' 'express_cargo' 'express' 'f-150_heritage'\n",
            " 'f-150_svt_lightning' 'f-150' 'f-250' 'f12_berlinetta' 'f430' 'festiva'\n",
            " 'ff' 'fiesta' 'firebird' 'fit_ev' 'fit' 'five_hundred' 'fj_cruiser'\n",
            " 'fleetwood' 'flex' 'flying_spur' 'focus_rs' 'focus_st' 'focus' 'forenza'\n",
            " 'forester' 'forte' 'fox' 'fr-s' 'freelander' 'freestar' 'freestyle'\n",
            " 'frontier' 'fusion_hybrid' 'fusion' 'fx35' 'fx45' 'fx50' 'fx' 'g-class'\n",
            " 'g_convertible' 'g_coupe' 'g_sedan' 'g20' 'g35' 'g37_convertible'\n",
            " 'g37_coupe' 'g37_sedan' 'g37' 'g3' 'g5' 'g6' 'g80' 'g8' 'galant'\n",
            " 'gallardo' 'genesis_coupe' 'genesis' 'ghibli' 'ghost_series_ii' 'ghost'\n",
            " 'gl-class' 'gla-class' 'glc-class' 'gle-class_coupe' 'gle-class' 'gli'\n",
            " 'glk-class' 'gls-class' 'golf_alltrack' 'golf_gti' 'golf_r'\n",
            " 'golf_sportwagen' 'golf' 'grand_am' 'grand_caravan' 'grand_prix'\n",
            " 'grand_vitara' 'grand_voyager' 'gransport' 'granturismo_convertible'\n",
            " 'granturismo' 'gs_200t' 'gs_300' 'gs_350' 'gs_400' 'gs_430' 'gs_450h'\n",
            " 'gs_460' 'gs_f' 'gt-r' 'gt' 'gti' 'gto' 'gx_460' 'gx_470' 'h3' 'h3t'\n",
            " 'hhr' 'highlander_hybrid' 'highlander' 'horizon' 'hr-v' 'hs_250h'\n",
            " 'huracan' 'i-miev' 'i30' 'i35' 'i3' 'ia' 'ilx_hybrid' 'ilx'\n",
            " 'impala_limited' 'impala' 'imperial' 'impreza_wrx' 'impreza' 'im'\n",
            " 'insight' 'integra' 'intrepid' 'intrigue' 'iq' 'is_200t' 'is_250_c'\n",
            " 'is_250' 'is_300' 'is_350_c' 'is_350' 'is_f' 'j30' 'jetta_gli'\n",
            " 'jetta_hybrid' 'jetta_sportwagen' 'jetta' 'jimmy' 'journey' 'juke'\n",
            " 'justy' 'jx' 'k900' 'kizashi' 'lacrosse' 'lancer_evolution'\n",
            " 'lancer_sportback' 'lancer' 'land_cruiser' 'landaulet' 'laser' 'le_baron'\n",
            " 'le_mans' 'leaf' 'legacy' 'legend' 'lesabre' 'levante' 'lfa' 'lhs'\n",
            " 'loyale' 'lr2' 'lr3' 'lr4' 'ls_400' 'ls_430' 'ls_460' 'ls_600h_l' 'ls'\n",
            " 'lss' 'ltd_crown_victoria' 'lucerne' 'lumina_minivan' 'lumina' 'lx_450'\n",
            " 'lx_470' 'lx_570' 'm-class' 'm2' 'm30' 'm35' 'm37' 'm3' 'm4_gts' 'm45'\n",
            " 'm4' 'm56' 'm5' 'm6_gran_coupe' 'm6' 'macan' 'magnum' 'malibu_classic'\n",
            " 'malibu_hybrid' 'malibu_limited' 'malibu_maxx' 'malibu' 'mark_lt'\n",
            " 'mark_viii' 'mark_vii' 'matrix' 'maxima' 'maybach' 'mazdaspeed_3'\n",
            " 'mazdaspeed_6' 'mazdaspeed_mx-5_miata' 'mazdaspeed_protege' 'm' 'mdx'\n",
            " 'metris' 'metro' 'mighty_max_pickup' 'millenia' 'mirage_g4' 'mirage'\n",
            " 'mkc' 'mks' 'mkt' 'mkx' 'mkz_hybrid' 'mkz' 'ml55_amg' 'model_s' 'monaco'\n",
            " 'montana_sv6' 'montana' 'monte_carlo' 'montero_sport' 'montero' 'mp4-12c'\n",
            " 'mpv' 'mr2_spyder' 'mr2' 'mulsanne' 'murano_crosscabriolet' 'murano'\n",
            " 'murcielago' 'mustang_svt_cobra' 'mustang' 'mx-3' 'mx-5_miata' 'mx-6'\n",
            " 'navajo' 'navigator' 'neon' 'new_beetle' 'new_yorker' 'ninety-eight'\n",
            " 'nitro' 'nsx' 'nv200' 'nx_200t' 'nx_300h' 'nx' 'odyssey' 'omni'\n",
            " 'optima_hybrid' 'optima' 'outback' 'outlander_sport' 'outlander'\n",
            " 'pacifica' 'panamera' 'park_avenue' 'park_ward' 'paseo' 'passat'\n",
            " 'passport' 'pathfinder' 'phaeton' 'phantom_coupe'\n",
            " 'phantom_drophead_coupe' 'phantom' 'pickup' 'pilot' 'precis' 'prelude'\n",
            " 'previa' 'prius_c' 'prius_prime' 'prius_v' 'prius' 'prizm' 'probe'\n",
            " 'protege5' 'protege' 'prowler' 'pt_cruiser' 'pulsar' 'q3' 'q40' 'q45'\n",
            " 'q50' 'q5' 'q60_convertible' 'q60_coupe' 'q70' 'q7' 'quattroporte'\n",
            " 'quest' 'qx4' 'qx50' 'qx56' 'qx60' 'qx70' 'qx80' 'qx' 'r-class' 'r32'\n",
            " 'r8' 'rabbit' 'raider' 'rainier' 'rally_wagon' 'ram_150' 'ram_250'\n",
            " 'ram_50_pickup' 'ram_cargo' 'ram_pickup_1500' 'ram_van' 'ram_wagon'\n",
            " 'ramcharger' 'range_rover_evoque' 'range_rover_sport' 'range_rover'\n",
            " 'ranger' 'rapide_s' 'rapide' 'rav4_ev' 'rav4_hybrid' 'rav4' 'rc_200t'\n",
            " 'rc_300' 'rc_350' 'rc_f' 'rdx' 'reatta' 'regal' 'regency' 'rendezvous'\n",
            " 'reno' 'reventon' 'ridgeline' 'rio' 'riviera' 'rl' 'rlx' 'roadmaster'\n",
            " 'rogue_select' 'rogue' 'rondo' 'routan' 'rs_4' 'rs_5' 'rs_6' 'rs_7' 'rsx'\n",
            " 'rx_300' 'rx_330' 'rx_350' 'rx_400h' 'rx_450h' 'rx-7' 'rx-8'\n",
            " 's-10_blazer' 's-10' 's-15_jimmy' 's-15' 's-class' 's2000' 's3' 's40'\n",
            " 's4' 's5' 's60_cross_country' 's60' 's6' 's70' 's7' 's80' 's8' 's90'\n",
            " 'safari_cargo' 'safari' 'samurai' 'santa_fe_sport' 'santa_fe'\n",
            " 'savana_cargo' 'savana' 'sc_300' 'sc_400' 'sc_430' 'scoupe' 'sebring'\n",
            " 'sedona' 'sentra' 'sephia' 'sequoia' 'seville' 'shadow' 'shelby_gt350'\n",
            " 'shelby_gt500' 'sidekick' 'sienna' 'sierra_1500_classic'\n",
            " 'sierra_1500_hybrid' 'sierra_1500' 'sierra_1500hd' 'sierra_c3'\n",
            " 'sierra_classic_1500' 'sigma' 'silhouette' 'silver_seraph'\n",
            " 'silverado_1500_classic' 'silverado_1500_hybrid' 'silverado_1500'\n",
            " 'sixty_special' 'skylark' 'sl-class' 'slc-class' 'slk-class'\n",
            " 'slr_mclaren' 'sls_amg_gt_final_edition' 'sls_amg_gt' 'sls_amg' 'slx'\n",
            " 'solstice' 'sonata_hybrid' 'sonata' 'sonic' 'sonoma' 'sorento' 'soul_ev'\n",
            " 'soul' 'spark_ev' 'spark' 'spectra' 'spirit' 'sportage' 'sportvan'\n",
            " 'spyder' 'sq5' 'srt_viper' 'srx' 'ss' 'ssr' 'stanza' 'stealth' 'stratus'\n",
            " 'sts-v' 'sts' 'suburban' 'sunbird' 'sundance' 'sunfire' 'superamerica'\n",
            " 'supersports_convertible_isr' 'supra' 'svx' 'swift' 'sx4' 'syclone'\n",
            " 't100' 'tacoma' 'tahoe_hybrid' 'tahoe_limited/z71' 'tahoe' 'taurus_x'\n",
            " 'taurus' 'tc' 'tempo' 'tercel' 'terrain' 'terraza' 'thunderbird'\n",
            " 'tiburon' 'tiguan' 'titan' 'tl' 'tlx' 'toronado' 'torrent' 'touareg_2'\n",
            " 'touareg' 'town_and_country' 'town_car' 'tracker' 'trailblazer_ext'\n",
            " 'trailblazer' 'trans_sport' 'transit_connect' 'transit_wagon' 'traverse'\n",
            " 'trax' 'tribeca' 'tribute_hybrid' 'tribute' 'truck' 'tsx_sport_wagon'\n",
            " 'tsx' 'tt_rs' 'tt' 'tts' 'tucson' 'tundra' 'typhoon' 'uplander'\n",
            " 'v12_vanquish' 'v12_vantage_s' 'v12_vantage' 'v40' 'v50'\n",
            " 'v60_cross_country' 'v60' 'v70' 'v8_vantage' 'v8' 'v90' 'vanagon'\n",
            " 'vandura' 'van' 'vanquish' 'vanwagon' 'veloster' 'venture' 'venza'\n",
            " 'veracruz' 'verano' 'verona' 'versa_note' 'versa' 'veyron_16.4' 'vibe'\n",
            " 'vigor' 'viper' 'virage' 'vitara' 'voyager' 'windstar_cargo' 'windstar'\n",
            " 'wraith' 'wrx' 'x-90' 'x1' 'x3' 'x4' 'x5_m' 'x5' 'x6_m' 'x6' 'xa' 'xb'\n",
            " 'xc60' 'xc70' 'xc90' 'xc' 'xd' 'xg300' 'xg350' 'xl-7' 'xl7' 'xlr-v' 'xlr'\n",
            " 'xt5' 'xterra' 'xts' 'xt' 'xv_crosstrek' 'yaris_ia' 'yaris'\n",
            " 'yukon_denali' 'yukon_hybrid' 'yukon_xl' 'yukon' 'z3' 'z4_m' 'z4' 'z8'\n",
            " 'zdx' 'zephyr']\n",
            "number of unique values:  914\n",
            "\n",
            "year\n",
            "[2011 2012 2013 1992 1993 1994 2017 1991 2016 1990 2015 1996 1997 1998\n",
            " 2014 1999 2002 2003 2004 1995 2007 2008 2009 2001 2010 2000 2005 2006]\n",
            "number of unique values:  28\n",
            "\n",
            "engine_fuel_type\n",
            "['premium_unleaded_(required)' 'regular_unleaded'\n",
            " 'premium_unleaded_(recommended)' 'flex-fuel_(unleaded/e85)' 'diesel'\n",
            " 'electric' 'flex-fuel_(premium_unleaded_recommended/e85)' 'natural_gas'\n",
            " 'flex-fuel_(premium_unleaded_required/e85)'\n",
            " 'flex-fuel_(unleaded/natural_gas)' nan]\n",
            "number of unique values:  10\n",
            "\n",
            "engine_hp\n",
            "[ 335.  300.  230.  320.  172.  160.  130.  158.  240.  248.  162.  217.\n",
            "  184.  295.  115.  140.  155.  114.  100.  241.  180.  177.  228.  121.\n",
            "  148.  194.  218.  161.  292.  250.  255.  222.   82.  134.  306.  400.\n",
            "  425.  350.  332.  268.  282.  275.  201.  442.  562.  597.  237.  270.\n",
            "  445.  443.  302.  322.  315.   nan  101.  135.  485.  238.  515.  543.\n",
            "  631.  604.  620.  611.  661.  157.  402.  389.  110.  532.  170.  165.\n",
            "  125.  641.  535.  153.  144.  188.  372.  108.  168.  190.  205.  200.\n",
            "  227.  173.  220.  210.  280.  207.  265.  260.  290.  285.  390.  225.\n",
            "  185.  150.  430.  520.  560.  475.  500.  540.  370.  580.  420.  345.\n",
            "  195.  193.  208.  181.  236.  186.  252.  310.  333.  340.  450.  281.\n",
            "  288.  138.  137.  106.  271.  196.  212.  278.  189.  480.  152.  600.\n",
            "  375.  198.  182.  179.  264.  503.  456.  317.  235.  385.  303.   63.\n",
            "  321.  272.  464.  202.  215.  283.  700.  720.  750.  107.  293.  119.\n",
            "  143.  245.  120.  337.  276.  330.  132.  199.  530.  451.  329.  469.\n",
            "  362.   94.  553.  453.  483.  323.  426.  505.  455.  650.  178.  242.\n",
            "  305.  605.  440.  570.  325.  175.  707.  131.   62.   92.  102.  127.\n",
            "  174.  621.  510.  429.  536.  355.  382.  577.  113.  136.  234.  552.\n",
            "  626.  616.  572.  521.  567.  582.  460.  164.  192.  224.  239.  404.\n",
            "  318.  556.  640.  122.  146.  244.  273.  563.  141.  435.  550.  360.\n",
            "  145.  349.  166.  147.  128.  197.  291.  660.  261.  156.  403.   95.\n",
            "  297.   81.  257.  365.  203.  231.  731.  651.  287.  123.  126.  416.\n",
            "  343.  348.  328.  298.  171.  219.  221.  311.  361.  256.  415.  274.\n",
            "  449.  395.  401.  454.  444.  338.  342.  467.  545.  565.  301.  263.\n",
            "   93.  187.  610.   66.  111.   98.  204.  211.   73.  304.  381.  142.\n",
            "   74.  424.  253.   90.  386.  359.  438.  232.  383.  518.  493.  259.\n",
            "  523.   55.   79.  116.  151.   78.  191.  592.  632.  670.   88.  167.\n",
            "  118.  380.  214.  573.  284.   99.  103.  525.  254.  470.  154.  176.\n",
            "  279.  377.  251.  223.  308.  105.  316.  124.  526.  662.  266.  296.\n",
            "  557.  617.  583.  622.   84.  163.  354.  159.   96.  206.  169.  133.\n",
            "  568.  109. 1001.  645.  490.  624.  410.   97.  394.]\n",
            "number of unique values:  356\n",
            "\n",
            "engine_cylinders\n",
            "[ 6.  4.  5.  8. 12.  0. nan 10.  3. 16.]\n",
            "number of unique values:  9\n",
            "\n",
            "transmission_type\n",
            "['manual' 'automatic' 'automated_manual' 'direct_drive' 'unknown']\n",
            "number of unique values:  5\n",
            "\n",
            "driven_wheels\n",
            "['rear_wheel_drive' 'front_wheel_drive' 'all_wheel_drive'\n",
            " 'four_wheel_drive']\n",
            "number of unique values:  4\n",
            "\n",
            "number_of_doors\n",
            "[ 2.  4.  3. nan]\n",
            "number of unique values:  3\n",
            "\n",
            "market_category\n",
            "['factory_tuner,luxury,high-performance' 'luxury,performance'\n",
            " 'luxury,high-performance' 'luxury' 'performance' 'flex_fuel'\n",
            " 'flex_fuel,performance' nan 'hatchback' 'hatchback,luxury,performance'\n",
            " 'hatchback,luxury' 'luxury,high-performance,hybrid' 'diesel,luxury'\n",
            " 'hatchback,performance' 'hatchback,factory_tuner,performance'\n",
            " 'high-performance' 'factory_tuner,high-performance'\n",
            " 'exotic,high-performance' 'exotic,factory_tuner,high-performance'\n",
            " 'factory_tuner,performance' 'crossover' 'exotic,luxury'\n",
            " 'exotic,luxury,high-performance' 'exotic,luxury,performance'\n",
            " 'factory_tuner,luxury,performance' 'flex_fuel,luxury' 'crossover,luxury'\n",
            " 'hatchback,factory_tuner,luxury,performance' 'crossover,hatchback'\n",
            " 'hybrid' 'luxury,performance,hybrid'\n",
            " 'crossover,luxury,performance,hybrid' 'crossover,luxury,performance'\n",
            " 'exotic,factory_tuner,luxury,high-performance'\n",
            " 'flex_fuel,luxury,high-performance' 'crossover,flex_fuel' 'diesel'\n",
            " 'hatchback,diesel' 'crossover,luxury,diesel'\n",
            " 'crossover,luxury,high-performance'\n",
            " 'exotic,flex_fuel,factory_tuner,luxury,high-performance'\n",
            " 'exotic,flex_fuel,luxury,high-performance'\n",
            " 'exotic,factory_tuner,luxury,performance' 'hatchback,hybrid'\n",
            " 'crossover,hybrid' 'hatchback,luxury,hybrid'\n",
            " 'flex_fuel,luxury,performance' 'crossover,performance' 'luxury,hybrid'\n",
            " 'crossover,flex_fuel,luxury,performance' 'crossover,flex_fuel,luxury'\n",
            " 'crossover,flex_fuel,performance'\n",
            " 'hatchback,factory_tuner,high-performance' 'hatchback,flex_fuel'\n",
            " 'factory_tuner,luxury' 'crossover,factory_tuner,luxury,high-performance'\n",
            " 'crossover,factory_tuner,luxury,performance'\n",
            " 'crossover,hatchback,factory_tuner,performance'\n",
            " 'crossover,hatchback,performance' 'flex_fuel,hybrid'\n",
            " 'flex_fuel,performance,hybrid' 'crossover,exotic,luxury,high-performance'\n",
            " 'crossover,exotic,luxury,performance' 'exotic,performance'\n",
            " 'exotic,luxury,high-performance,hybrid' 'crossover,luxury,hybrid'\n",
            " 'flex_fuel,factory_tuner,luxury,high-performance' 'performance,hybrid'\n",
            " 'crossover,factory_tuner,performance' 'crossover,diesel'\n",
            " 'flex_fuel,diesel' 'crossover,hatchback,luxury']\n",
            "number of unique values:  71\n",
            "\n",
            "vehicle_size\n",
            "['compact' 'midsize' 'large']\n",
            "number of unique values:  3\n",
            "\n",
            "vehicle_style\n",
            "['coupe' 'convertible' 'sedan' 'wagon' '4dr_hatchback' '2dr_hatchback'\n",
            " '4dr_suv' 'passenger_minivan' 'cargo_minivan' 'crew_cab_pickup'\n",
            " 'regular_cab_pickup' 'extended_cab_pickup' '2dr_suv' 'cargo_van'\n",
            " 'convertible_suv' 'passenger_van']\n",
            "number of unique values:  16\n",
            "\n",
            "highway_mpg\n",
            "[ 26  28  27  25  24  20  21  22  35  34  31  30  32  33  23  36  29  45\n",
            "  43  40  42  19  18  17  15  37  39  41  16  14  38 108 103  12 354  47\n",
            "  46  82 110  44  13 105  99 102 111 106  48 101  90  97  94  98 100 107\n",
            "  53  50  74  92 109]\n",
            "number of unique values:  59\n",
            "\n",
            "city_mpg\n",
            "[ 19  20  18  17  16  26  23  22  21  24  15  25  29  28  32  31  30  14\n",
            "  10  27  12  13   9  11 122 121   8  50  49  47  35  33  40  85 128  42\n",
            "  43  36  44 126   7  34 132 110 137 129  39  41 124  37  88  94  86 101\n",
            "  95  89 102  98  92  97  91  53  55  51  54  58  78  38 120]\n",
            "number of unique values:  69\n",
            "\n",
            "popularity\n",
            "[3916 3105  819  617 1013 2009  870  586  436 2774  113 2031  416   67\n",
            "  210 1715  376  549 1439  535 2202   26  481 5657 1624 1720  520 1385\n",
            " 1851 1158   61  640  873    2  155  204   86  238  454  259  258  613\n",
            "  190  105   21  130 1391  820]\n",
            "number of unique values:  48\n",
            "\n",
            "msrp\n",
            "[46135 40650 36350 ... 46120 50620 50920]\n",
            "number of unique values:  6049\n",
            "\n"
          ]
        }
      ]
    },
    {
      "cell_type": "markdown",
      "source": [
        "### Distribusi harga\n"
      ],
      "metadata": {
        "id": "5gR2vHDLb7u2"
      }
    },
    {
      "cell_type": "code",
      "source": [
        "# Untuk membuat plot, kami menggunakan dua library : matplotlib dan seaborn\n",
        "import matplotlib.pyplot as plt\n",
        "import seaborn as sns\n",
        "\n",
        "# baris ini diperlukan untuk menampilkan plot di buku catatan\n",
        "%matplotlib inline\n",
        "\n",
        "# bins = jumlah batang dalam histogram\n",
        "# pada diagram 1e6 berarti 10^^ = 1.000.000\n",
        "sns.histplot(df.msrp, bins=50)"
      ],
      "metadata": {
        "colab": {
          "base_uri": "https://localhost:8080/"
        },
        "id": "W9sexC5IcAP4",
        "outputId": "e18c94c9-5703-4c7a-aefe-f40e22737213",
        "collapsed": true
      },
      "execution_count": null,
      "outputs": [
        {
          "output_type": "execute_result",
          "data": {
            "text/plain": [
              "<Axes: xlabel='msrp', ylabel='Count'>"
            ]
          },
          "metadata": {},
          "execution_count": 140
        },
        {
          "output_type": "display_data",
          "data": {
            "text/plain": [
              "<Figure size 640x480 with 1 Axes>"
            ],
            "image/png": "[encoded data removed]"
          },
          "metadata": {}
        }
      ]
    },
    {
      "cell_type": "code",
      "source": [
        "sns.histplot(df.msrp[df.msrp < 100000], bins=50)"
      ],
      "metadata": {
        "colab": {
          "base_uri": "https://localhost:8080/"
        },
        "id": "-IlBmS0dcnvU",
        "outputId": "8c65fbb1-049d-4b4b-a7bd-95224fa25147",
        "collapsed": true
      },
      "execution_count": null,
      "outputs": [
        {
          "output_type": "execute_result",
          "data": {
            "text/plain": [
              "<Axes: xlabel='msrp', ylabel='Count'>"
            ]
          },
          "metadata": {},
          "execution_count": 141
        },
        {
          "output_type": "display_data",
          "data": {
            "text/plain": [
              "<Figure size 640x480 with 1 Axes>"
            ],
            "image/png": "[encoded data removed]"
          },
          "metadata": {}
        }
      ]
    },
    {
      "cell_type": "code",
      "source": [
        "#np.log([0, 1,10,1000,100000])\n",
        "# masalah dengan logaritma adalah ketika kita memiliki 0, karena log(0) tidak ada\n",
        "#np.log([0 + 1, 1 + 1, 10 + 1, 1000 + 1, 100000 + 1])\n",
        "# Keluaran: array([ 0. , 0.69314718, 2.39789527, 6.90875478, 11.51293546])\n",
        "#\n",
        "# agar tidak selalu menambahkan 1 ada fungsi NumPy\n",
        "#np.log1p([0, 1,10,1000,100000])\n",
        "# Keluaran: array([ 0. , 0.69314718, 2.39789527, 6.90875478, 11.51293546])\n",
        "price_logs = np.log1p(df.msrp)\n",
        "sns.histplot(price_logs, bins=50)"
      ],
      "metadata": {
        "colab": {
          "base_uri": "https://localhost:8080/"
        },
        "id": "kSQz0p0Tcyhk",
        "outputId": "64dd7607-8a8d-49c6-8977-6b111ec9a47a",
        "collapsed": true
      },
      "execution_count": null,
      "outputs": [
        {
          "output_type": "execute_result",
          "data": {
            "text/plain": [
              "<Axes: xlabel='msrp', ylabel='Count'>"
            ]
          },
          "metadata": {},
          "execution_count": 142
        },
        {
          "output_type": "display_data",
          "data": {
            "text/plain": [
              "<Figure size 640x480 with 1 Axes>"
            ],
            "image/png": "[encoded data removed]"
          },
          "metadata": {}
        }
      ]
    },
    {
      "cell_type": "markdown",
      "source": [
        "### Nilai yang hilang"
      ],
      "metadata": {
        "id": "ZNj7Qx4bdE9v"
      }
    },
    {
      "cell_type": "code",
      "source": [
        "df.isnull().sum()"
      ],
      "metadata": {
        "colab": {
          "base_uri": "https://localhost:8080/"
        },
        "collapsed": true,
        "id": "tFeUcARadHrR",
        "outputId": "6109dce6-b1bd-40c5-c6e1-15114b120f67"
      },
      "execution_count": null,
      "outputs": [
        {
          "output_type": "execute_result",
          "data": {
            "text/plain": [
              "make                    0\n",
              "model                   0\n",
              "year                    0\n",
              "engine_fuel_type        3\n",
              "engine_hp              69\n",
              "engine_cylinders       30\n",
              "transmission_type       0\n",
              "driven_wheels           0\n",
              "number_of_doors         6\n",
              "market_category      3742\n",
              "vehicle_size            0\n",
              "vehicle_style           0\n",
              "highway_mpg             0\n",
              "city_mpg                0\n",
              "popularity              0\n",
              "msrp                    0\n",
              "dtype: int64"
            ]
          },
          "metadata": {},
          "execution_count": 143
        }
      ]
    },
    {
      "cell_type": "markdown",
      "source": [
        "### Menyiapkan kerangka validasi"
      ],
      "metadata": {
        "id": "rNgitJDdqK7X"
      }
    },
    {
      "cell_type": "code",
      "source": [
        "# Mengembalikan jumlah rekaman dari seluruh kumpulan data\n",
        "len(df)\n",
        "# Output: 11914\n",
        "\n",
        "# Hitung 20% ​​dari seluruh dataset\n",
        "int(len(df) * 0.2)\n",
        "# Output: 2382\n"
      ],
      "metadata": {
        "colab": {
          "base_uri": "https://localhost:8080/"
        },
        "id": "t6vg-YhxfNUR",
        "outputId": "410f9717-464f-445c-ae21-d66dd019f5ed"
      },
      "execution_count": null,
      "outputs": [
        {
          "output_type": "execute_result",
          "data": {
            "text/plain": [
              "2382"
            ]
          },
          "metadata": {},
          "execution_count": 144
        }
      ]
    },
    {
      "cell_type": "code",
      "source": [
        "n = len(df)\n",
        "n_val = n_test = int(n * 0.2)\n",
        "n_train = n - n_val - n_test\n",
        "n, n_val + n_test + n_train\n",
        "# Output: (11914, 11914)\n",
        "\n",
        "# ukuran kerangka data kami\n",
        "n_val, n_test, n_train\n",
        "# Output: (2382, 2382, 7150)\n",
        "\n",
        "df_train = df.iloc[:n_train]\n",
        "df_val = df.iloc[n_train:n_train + n_val]\n",
        "df_test = df.iloc[n_train + n_val:]"
      ],
      "metadata": {
        "id": "kTbZia_ZfvSz"
      },
      "execution_count": null,
      "outputs": []
    },
    {
      "cell_type": "code",
      "source": [
        "idx = np.arange(n)\n",
        "idx\n",
        "# Output: array([    0,     1,     2, ..., 11911, 11912, 11913])\n",
        "\n",
        "# untuk membuatnya dapat direproduksi\n",
        "#np.random.seed(2)\n",
        "np.random.shuffle(idx)\n",
        "idx\n",
        "# Output: array([ 2075,  5197, 10681, ...,  9478,  6426,  9287])"
      ],
      "metadata": {
        "colab": {
          "base_uri": "https://localhost:8080/"
        },
        "id": "MSbn_f-XgwlC",
        "outputId": "55e2a13f-9749-470e-e9f7-45040731d957"
      },
      "execution_count": null,
      "outputs": [
        {
          "output_type": "execute_result",
          "data": {
            "text/plain": [
              "array([ 3433,  3162,  1723, ...,  8944, 11324,  9050])"
            ]
          },
          "metadata": {},
          "execution_count": 146
        }
      ]
    },
    {
      "cell_type": "code",
      "source": [
        "# Buat kumpulan data acak dengan ukuran yang benar\n",
        "df_train = df.iloc[idx[:n_train]]\n",
        "df_val = df.iloc[idx[n_train:n_train + n_val]]\n",
        "df_test = df.iloc[idx[n_train + n_val:]]"
      ],
      "metadata": {
        "id": "Ex_yyjr7hQg-"
      },
      "execution_count": null,
      "outputs": []
    },
    {
      "cell_type": "code",
      "source": [
        "df_train = df_train.reset_index(drop=True)\n",
        "df_val = df_val.reset_index(drop=True)\n",
        "df_test = df_test.reset_index(drop=True)"
      ],
      "metadata": {
        "id": "JwiDwKznhmUU"
      },
      "execution_count": null,
      "outputs": []
    },
    {
      "cell_type": "code",
      "source": [
        "y_train = np.log1p(df_train.msrp.values)\n",
        "y_val = np.log1p(df_val.msrp.values)\n",
        "y_test = np.log1p(df_test.msrp.values)"
      ],
      "metadata": {
        "id": "kN0MBLA8hrzH"
      },
      "execution_count": null,
      "outputs": []
    },
    {
      "cell_type": "code",
      "source": [
        "del df_train['msrp']\n",
        "del df_val['msrp']\n",
        "del df_test['msrp']"
      ],
      "metadata": {
        "id": "UgnO_GP1hwd1"
      },
      "execution_count": null,
      "outputs": []
    },
    {
      "cell_type": "markdown",
      "source": [
        "## 3. Regresi linier"
      ],
      "metadata": {
        "id": "LR93A6rhiErd"
      }
    },
    {
      "cell_type": "markdown",
      "source": [
        "### Mundurlah dan fokus pada satu pengamatan\n"
      ],
      "metadata": {
        "id": "2Kmj58RViL0F"
      }
    },
    {
      "cell_type": "code",
      "source": [
        "df_train.iloc[10]"
      ],
      "metadata": {
        "colab": {
          "base_uri": "https://localhost:8080/"
        },
        "id": "VFQSSwdRiThO",
        "outputId": "acbbb402-a1ea-42b8-9cb5-8e03b25df426"
      },
      "execution_count": null,
      "outputs": [
        {
          "output_type": "execute_result",
          "data": {
            "text/plain": [
              "make                            dodge\n",
              "model                      ramcharger\n",
              "year                             1992\n",
              "engine_fuel_type     regular_unleaded\n",
              "engine_hp                       230.0\n",
              "engine_cylinders                  8.0\n",
              "transmission_type              manual\n",
              "driven_wheels        four_wheel_drive\n",
              "number_of_doors                   2.0\n",
              "market_category                   NaN\n",
              "vehicle_size                  midsize\n",
              "vehicle_style                 2dr_suv\n",
              "highway_mpg                        14\n",
              "city_mpg                           11\n",
              "popularity                       1851\n",
              "Name: 10, dtype: object"
            ]
          },
          "metadata": {},
          "execution_count": 151
        }
      ]
    },
    {
      "cell_type": "markdown",
      "source": [
        "### Implementasi fungsi regresi linier"
      ],
      "metadata": {
        "id": "Xx_Vg48bjq7K"
      }
    },
    {
      "cell_type": "code",
      "source": [
        "def linear_regression(xi):\n",
        "  n = len(xi)\n",
        "  pred = w0\n",
        "\n",
        "  for j in range(n):\n",
        "    pred = pred + w[j] * xi[j]\n",
        "  return pred\n",
        "\n",
        "# nilai sampel untuk w0 dan w dan xi yang diberikan\n",
        "xi = [310, 16, 210]\n",
        "w0 = 0\n",
        "w = [1, 1, 1]\n",
        "\n",
        "linear_regression(xi)\n",
        "# Output: 536\n",
        "\n",
        "# coba beberapa nilai lainnya\n",
        "w0 = 7.17\n",
        "w = [0.01, 0.04, 0.002]\n",
        "linear_regression(xi)\n",
        "# Output: 11.33\n"
      ],
      "metadata": {
        "colab": {
          "base_uri": "https://localhost:8080/"
        },
        "id": "YMiVVDw3jzwI",
        "outputId": "d7762f5b-a5d1-496a-c2af-27046ae23082"
      },
      "execution_count": null,
      "outputs": [
        {
          "output_type": "execute_result",
          "data": {
            "text/plain": [
              "11.33"
            ]
          },
          "metadata": {},
          "execution_count": 152
        }
      ]
    },
    {
      "cell_type": "code",
      "source": [
        "# Dapatkan prediksi harga sebenarnya dalam $\n",
        "# Kita melakukan \"-1\" di sini untuk membatalkan \"+1\" di dalam log\n",
        "np.exp(11.33) - 1\n",
        "# Output: 83282.02284496387\n",
        "\n",
        "# Pintasan untuk tidak melakukan -1 secara manual\n",
        "np.expm1(11.33)\n",
        "# Output: 83282.02284496387\n",
        "\n",
        "# Hanya untuk pengecekan saja\n",
        "# np.log1p(83282.02284496387)\n",
        "# Output: 11.33"
      ],
      "metadata": {
        "colab": {
          "base_uri": "https://localhost:8080/"
        },
        "id": "VbZL6Ea5k9aU",
        "outputId": "9eb12049-9ad2-43d6-823e-6fa83f8e5b2a"
      },
      "execution_count": null,
      "outputs": [
        {
          "output_type": "execute_result",
          "data": {
            "text/plain": [
              "83282.02284496387"
            ]
          },
          "metadata": {},
          "execution_count": 153
        }
      ]
    },
    {
      "cell_type": "markdown",
      "source": [
        "### Bentuk vektor regresi linier"
      ],
      "metadata": {
        "id": "xoZuiIVBmBUS"
      }
    },
    {
      "cell_type": "code",
      "source": [
        "def dot(xi, w):\n",
        "  n = len(xi)\n",
        "\n",
        "  res = 0.0\n",
        "  for j in range(n):\n",
        "    res = res + xi[j] * w[j]\n",
        "\n",
        "  return res\n",
        "\n",
        "def linear_regression(xi):\n",
        "  return w0 + dot(xi, w)\n",
        "\n",
        "xi = [310, 16, 210]\n",
        "w0 = 7.17\n",
        "w = [0.01, 0.04, 0.002]\n",
        "\n",
        "# menambahkan w0 ke vektor w\n",
        "w_new = [w0] + w\n",
        "w_new\n",
        "# Output: [7.17, 0.01, 0.04, 0.002]\n",
        "\n",
        "xi\n",
        "# Output: [310, 16, 210]\n",
        "\n",
        "def linear_regression(xi):\n",
        "  xi = [1] + xi\n",
        "  return dot(xi, w_new)\n",
        "\n",
        "linear_regression(xi)\n",
        "# Output: 11.33"
      ],
      "metadata": {
        "colab": {
          "base_uri": "https://localhost:8080/"
        },
        "id": "IfbScNsJmGCD",
        "outputId": "b6bfd99a-acd7-4633-9385-17ee52037014"
      },
      "execution_count": null,
      "outputs": [
        {
          "output_type": "execute_result",
          "data": {
            "text/plain": [
              "11.33"
            ]
          },
          "metadata": {},
          "execution_count": 154
        }
      ]
    },
    {
      "cell_type": "code",
      "source": [
        "w0 = 7.17\n",
        "w = [0.01, 0.04, 0.002]\n",
        "w_new = [w0] + w\n",
        "\n",
        "x1 = [1, 310, 16, 210]\n",
        "x2 = [1, 132, 25, 2031]\n",
        "x10 = [1, 453, 11, 86]\n",
        "\n",
        "# X becomes a list of lists\n",
        "X = [x1, x2, x10]\n",
        "X\n",
        "# Output: [[1, 310, 16, 210], [1, 132, 25, 2031], [1, 453, 11, 86]]\n",
        "\n",
        "# Ini mengubah daftar daftar menjadi matriks\n",
        "X = np.array(X)\n",
        "X\n",
        "# array([[   1,  310,   16,  210],\n",
        "#  [   1,  132,   25, 2031],\n",
        "#  [   1,  453,   11,   86]])\n",
        "\n",
        "# Sekarang kita punya prediksi, jadi untuk setiap mobil kita punya harga untuk mobil ini\n",
        "y = X.dot(w_new)\n",
        "\n",
        "# jalan pintas untuk tidak melakukan -1 secara manual untuk mendapatkan harga $ sebenarnya\n",
        "np.expm1(y)\n",
        "# Output: array([ 83282.02284496, 768348.51018973, 222347.22211011])\n"
      ],
      "metadata": {
        "colab": {
          "base_uri": "https://localhost:8080/"
        },
        "id": "EHvWStSmovgP",
        "outputId": "741cdf91-c525-446a-9fde-ecbb16af46de"
      },
      "execution_count": null,
      "outputs": [
        {
          "output_type": "execute_result",
          "data": {
            "text/plain": [
              "array([ 83282.02284496, 768348.51018973, 222347.22211011])"
            ]
          },
          "metadata": {},
          "execution_count": 155
        }
      ]
    },
    {
      "cell_type": "code",
      "source": [
        "def linear_regression(X):\n",
        "  return X.dot(w_new)\n",
        "\n",
        "y = linear_regression(X)\n",
        "np.expm1(y)\n",
        "# Output: array([ 83282.02284496, 768348.51018973, 222347.22211011])"
      ],
      "metadata": {
        "colab": {
          "base_uri": "https://localhost:8080/"
        },
        "id": "jv42jwlWsQKL",
        "outputId": "287bbb1c-0658-4825-e6ea-3ea9cc46513e"
      },
      "execution_count": null,
      "outputs": [
        {
          "output_type": "execute_result",
          "data": {
            "text/plain": [
              "array([ 83282.02284496, 768348.51018973, 222347.22211011])"
            ]
          },
          "metadata": {},
          "execution_count": 156
        }
      ]
    },
    {
      "cell_type": "markdown",
      "source": [
        "### Melatih model regresi llnier"
      ],
      "metadata": {
        "id": "mMAbtPdls2wJ"
      }
    },
    {
      "cell_type": "code",
      "source": [
        "def train_linear_regression(X, y):\n",
        "  pass\n",
        "\n",
        "X =[\n",
        "    [148, 24, 1385],\n",
        "    [132, 25, 2031],\n",
        "    [453, 11, 86],\n",
        "    [158, 24, 185],\n",
        "    [172, 25, 201],\n",
        "    [413, 11, 83],\n",
        "    [38, 54, 185],\n",
        "    [142, 25, 431],\n",
        "    [453, 31, 86],\n",
        "]\n",
        "\n",
        "X = np.array(X)\n",
        "X\n",
        "# Output:\n",
        "# array([[ 148,   24, 1385],\n",
        "#             [ 132,   25, 2031],\n",
        "#             [ 453,   11,   86],\n",
        "#             [ 158,   24,  185],\n",
        "#             [ 172,   25,  201],\n",
        "#             [ 413,   11,   83],\n",
        "#             [  38,   54,  185],\n",
        "#             [ 142,   25,  431],\n",
        "#             [ 453,   31,   86]])\n",
        "\n",
        "ones = np.ones(9)\n",
        "ones\n",
        "# Output: array([1., 1., 1., 1., 1., 1., 1., 1., 1.])\n",
        "\n",
        "# X.shape[0] melihat jumlah baris dan membuat vektor satuan\n",
        "ones = np.ones(X.shape[0])\n",
        "ones\n",
        "# Output: array([1., 1., 1.])\n",
        "\n",
        "np.column_stack([ones, ones])\n",
        "# Output:\n",
        "# array([[1., 1.],\n",
        "#             [1., 1.],\n",
        "#             [1., 1.],\n",
        "#             [1., 1.],\n",
        "#             [1., 1.],\n",
        "#             [1., 1.],\n",
        "#             [1., 1.],\n",
        "#             [1., 1.],\n",
        "#             [1., 1.]])\n",
        "\n",
        "X = np.column_stack([ones, X])\n",
        "y = [10000, 20000, 15000, 25000, 10000, 20000, 15000, 25000, 12000]\n",
        "\n",
        "# MATRIKS GRAM\n",
        "XTX = X.T.dot(X)\n",
        "\n",
        "# MATRIKS GRAM Terbalik (inverse)\n",
        "XTX_inv = np.linalg.inv(XTX)\n",
        "\n",
        "# Tanpa round(1) itu bukan matriks identitas yang sebenarnya, tetapi nilai-nilai lainnya\n",
        "# sangat dekat dengan 0 --> kita dapat memperlakukannya sebagai 0 dan menganggapnya sebagai matriks identitas\n",
        "XTX.dot(XTX_inv)\n",
        "# Output:\n",
        "# array([[ 1.00000000e+00,  3.27949981e-18,  6.10659933e-17,\n",
        "#          2.00482111e-19],\n",
        "#        [-8.02345712e-13,  1.00000000e+00,  1.36992654e-14,\n",
        "#          2.64644856e-19],\n",
        "#        [-1.72442139e-13, -3.38516717e-18,  1.00000000e+00,\n",
        "#          1.03459781e-17],\n",
        "#        [-9.65831473e-13,  1.27770706e-15, -1.04366504e-14,\n",
        "#          1.00000000e+00]])\n",
        "\n",
        "# Ini memberi kita matriks I\n",
        "XTX.dot(XTX_inv).round(1)\n",
        "# Output:\n",
        "# array([[ 1.,  0.,  0.,  0.],\n",
        "#        [-0.,  1.,  0.,  0.],\n",
        "#        [-0., -0.,  1.,  0.],\n",
        "#        [-0.,  0., -0.,  1.]])\n",
        "\n",
        "# w_full berisi semua bobot\n",
        "w_full = XTX_inv.dot(X.T).dot(y)\n",
        "w_full\n",
        "# Output: array([ 3.00092529e+04, -2.27839691e+01, -2.57690874e+02, -2.30322797e+00])\n",
        "\n",
        "w0 = w_full[0]\n",
        "w = w_full[1:]\n",
        "w0, w\n",
        "# Output: (30009.252922766562, array([ -22.78396914, -257.69087426,   -2.30322797]))\n",
        "\n",
        "def train_linear_regression(X, y):\n",
        "  ones = np.ones(X.shape[0])\n",
        "  X = np.column_stack([ones, X])\n",
        "\n",
        "  XTX = X.T.dot(X)\n",
        "  XTX_inv = np.linalg.inv(XTX)\n",
        "  w_full = XTX_inv.dot(X.T).dot(y)\n",
        "\n",
        "  return w_full[0], w_full[1:]\n",
        "\n",
        "X =[\n",
        "    [148, 24, 1385],\n",
        "    [132, 25, 2031],\n",
        "    [453, 11, 86],\n",
        "    [158, 24, 185],\n",
        "    [172, 25, 201],\n",
        "    [413, 11, 83],\n",
        "    [38, 54, 185],\n",
        "    [142, 25, 431],\n",
        "    [453, 31, 86],\n",
        "]\n",
        "\n",
        "X = np.array(X)\n",
        "y = [10000, 20000, 15000, 25000, 10000, 20000, 15000, 25000, 12000]\n",
        "\n",
        "train_linear_regression(X, y)\n",
        "# Output: (30009.252922766562, array([ -22.78396914, -257.69087426,   -2.30322797]))\n"
      ],
      "metadata": {
        "colab": {
          "base_uri": "https://localhost:8080/"
        },
        "id": "JOgUmEoos7p3",
        "outputId": "88688005-5611-4817-bfeb-b8f329d60307"
      },
      "execution_count": null,
      "outputs": [
        {
          "output_type": "execute_result",
          "data": {
            "text/plain": [
              "(30009.252922766562, array([ -22.78396914, -257.69087426,   -2.30322797]))"
            ]
          },
          "metadata": {},
          "execution_count": 157
        }
      ]
    },
    {
      "cell_type": "markdown",
      "source": [
        "## 4. Model dasar harga mobil"
      ],
      "metadata": {
        "id": "DBW0_LS1w4Jl"
      }
    },
    {
      "cell_type": "code",
      "source": [
        "df_train.dtypes\n",
        "# Output:\n",
        "# make\tobject\n",
        "# model\tobject\n",
        "# year\tint64\n",
        "# engine_fuel_type\tobject\n",
        "# engine_hp\tfloat64\n",
        "# engine_cylinders\tfloat64\n",
        "# transmission_type\tobject\n",
        "# driven_wheels\tobject\n",
        "# number_of_doors\tfloat64\n",
        "# market_category\tobject\n",
        "# vehicle_size\tobject\n",
        "# vehicle_style\tobject\n",
        "# highway_mpg\tint64\n",
        "# city_mpg\tint64\n",
        "# popularity\tint64\n",
        "\n",
        "df_train.columns"
      ],
      "metadata": {
        "colab": {
          "base_uri": "https://localhost:8080/"
        },
        "id": "3iFebK6axEXT",
        "outputId": "359af8af-9a56-4565-cc30-55a16c935b2d"
      },
      "execution_count": null,
      "outputs": [
        {
          "output_type": "execute_result",
          "data": {
            "text/plain": [
              "Index(['make', 'model', 'year', 'engine_fuel_type', 'engine_hp',\n",
              "       'engine_cylinders', 'transmission_type', 'driven_wheels',\n",
              "       'number_of_doors', 'market_category', 'vehicle_size', 'vehicle_style',\n",
              "       'highway_mpg', 'city_mpg', 'popularity'],\n",
              "      dtype='object')"
            ]
          },
          "metadata": {},
          "execution_count": 158
        }
      ]
    },
    {
      "cell_type": "code",
      "source": [
        "base = ['engine_hp', 'engine_cylinders', 'highway_mpg', 'city_mpg', 'popularity']\n",
        "df_train[base].head()"
      ],
      "metadata": {
        "colab": {
          "base_uri": "https://localhost:8080/"
        },
        "id": "wb_RZuhuxdY9",
        "outputId": "b2d00d86-6094-43b7-f0ea-6c2f5c69ad4f"
      },
      "execution_count": null,
      "outputs": [
        {
          "output_type": "execute_result",
          "data": {
            "text/plain": [
              "   engine_hp  engine_cylinders  highway_mpg  city_mpg  popularity\n",
              "0      210.0               6.0           20        15        1851\n",
              "1      153.0               4.0           41        29        1385\n",
              "2      207.0               6.0           17        14         586\n",
              "3      381.0               8.0           18        13        2031\n",
              "4      310.0               8.0           18        13        1851"
            ],
            "text/html": [
              "\n",
              "  <div id=\"df-5a48a411-ffc5-45f7-abc9-be8fefff3a65\" class=\"colab-df-container\">\n",
              "    <div>\n",
              "<style scoped>\n",
              "    .dataframe tbody tr th:only-of-type {\n",
              "        vertical-align: middle;\n",
              "    }\n",
              "\n",
              "    .dataframe tbody tr th {\n",
              "        vertical-align: top;\n",
              "    }\n",
              "\n",
              "    .dataframe thead th {\n",
              "        text-align: right;\n",
              "    }\n",
              "</style>\n",
              "<table border=\"1\" class=\"dataframe\">\n",
              "  <thead>\n",
              "    <tr style=\"text-align: right;\">\n",
              "      <th></th>\n",
              "      <th>engine_hp</th>\n",
              "      <th>engine_cylinders</th>\n",
              "      <th>highway_mpg</th>\n",
              "      <th>city_mpg</th>\n",
              "      <th>popularity</th>\n",
              "    </tr>\n",
              "  </thead>\n",
              "  <tbody>\n",
              "    <tr>\n",
              "      <th>0</th>\n",
              "      <td>210.0</td>\n",
              "      <td>6.0</td>\n",
              "      <td>20</td>\n",
              "      <td>15</td>\n",
              "      <td>1851</td>\n",
              "    </tr>\n",
              "    <tr>\n",
              "      <th>1</th>\n",
              "      <td>153.0</td>\n",
              "      <td>4.0</td>\n",
              "      <td>41</td>\n",
              "      <td>29</td>\n",
              "      <td>1385</td>\n",
              "    </tr>\n",
              "    <tr>\n",
              "      <th>2</th>\n",
              "      <td>207.0</td>\n",
              "      <td>6.0</td>\n",
              "      <td>17</td>\n",
              "      <td>14</td>\n",
              "      <td>586</td>\n",
              "    </tr>\n",
              "    <tr>\n",
              "      <th>3</th>\n",
              "      <td>381.0</td>\n",
              "      <td>8.0</td>\n",
              "      <td>18</td>\n",
              "      <td>13</td>\n",
              "      <td>2031</td>\n",
              "    </tr>\n",
              "    <tr>\n",
              "      <th>4</th>\n",
              "      <td>310.0</td>\n",
              "      <td>8.0</td>\n",
              "      <td>18</td>\n",
              "      <td>13</td>\n",
              "      <td>1851</td>\n",
              "    </tr>\n",
              "  </tbody>\n",
              "</table>\n",
              "</div>\n",
              "    <div class=\"colab-df-buttons\">\n",
              "\n",
              "  <div class=\"colab-df-container\">\n",
              "    <button class=\"colab-df-convert\" onclick=\"convertToInteractive('df-5a48a411-ffc5-45f7-abc9-be8fefff3a65')\"\n",
              "            title=\"Convert this dataframe to an interactive table.\"\n",
              "            style=\"display:none;\">\n",
              "\n",
              "  <svg xmlns=\"http://www.w3.org/2000/svg\" height=\"24px\" viewBox=\"0 -960 960 960\">\n",
              "    <path d=\"M120-120v-720h720v720H120Zm60-500h600v-160H180v160Zm220 220h160v-160H400v160Zm0 220h160v-160H400v160ZM180-400h160v-160H180v160Zm440 0h160v-160H620v160ZM180-180h160v-160H180v160Zm440 0h160v-160H620v160Z\"/>\n",
              "  </svg>\n",
              "    </button>\n",
              "\n",
              "  <style>\n",
              "    .colab-df-container {\n",
              "      display:flex;\n",
              "      gap: 12px;\n",
              "    }\n",
              "\n",
              "    .colab-df-convert {\n",
              "      background-color: #E8F0FE;\n",
              "      border: none;\n",
              "      border-radius: 50%;\n",
              "      cursor: pointer;\n",
              "      display: none;\n",
              "      fill: #1967D2;\n",
              "      height: 32px;\n",
              "      padding: 0 0 0 0;\n",
              "      width: 32px;\n",
              "    }\n",
              "\n",
              "    .colab-df-convert:hover {\n",
              "      background-color: #E2EBFA;\n",
              "      box-shadow: 0px 1px 2px rgba(60, 64, 67, 0.3), 0px 1px 3px 1px rgba(60, 64, 67, 0.15);\n",
              "      fill: #174EA6;\n",
              "    }\n",
              "\n",
              "    .colab-df-buttons div {\n",
              "      margin-bottom: 4px;\n",
              "    }\n",
              "\n",
              "    [theme=dark] .colab-df-convert {\n",
              "      background-color: #3B4455;\n",
              "      fill: #D2E3FC;\n",
              "    }\n",
              "\n",
              "    [theme=dark] .colab-df-convert:hover {\n",
              "      background-color: #434B5C;\n",
              "      box-shadow: 0px 1px 3px 1px rgba(0, 0, 0, 0.15);\n",
              "      filter: drop-shadow(0px 1px 2px rgba(0, 0, 0, 0.3));\n",
              "      fill: #FFFFFF;\n",
              "    }\n",
              "  </style>\n",
              "\n",
              "    <script>\n",
              "      const buttonEl =\n",
              "        document.querySelector('#df-5a48a411-ffc5-45f7-abc9-be8fefff3a65 button.colab-df-convert');\n",
              "      buttonEl.style.display =\n",
              "        google.colab.kernel.accessAllowed ? 'block' : 'none';\n",
              "\n",
              "      async function convertToInteractive(key) {\n",
              "        const element = document.querySelector('#df-5a48a411-ffc5-45f7-abc9-be8fefff3a65');\n",
              "        const dataTable =\n",
              "          await google.colab.kernel.invokeFunction('convertToInteractive',\n",
              "                                                    [key], {});\n",
              "        if (!dataTable) return;\n",
              "\n",
              "        const docLinkHtml = 'Like what you see? Visit the ' +\n",
              "          '<a target=\"_blank\" href=https://colab.research.google.com/notebooks/data_table.ipynb>data table notebook</a>'\n",
              "          + ' to learn more about interactive tables.';\n",
              "        element.innerHTML = '';\n",
              "        dataTable['output_type'] = 'display_data';\n",
              "        await google.colab.output.renderOutput(dataTable, element);\n",
              "        const docLink = document.createElement('div');\n",
              "        docLink.innerHTML = docLinkHtml;\n",
              "        element.appendChild(docLink);\n",
              "      }\n",
              "    </script>\n",
              "  </div>\n",
              "\n",
              "\n",
              "<div id=\"df-d2dc986f-1223-47a9-8be8-e06677edd2ff\">\n",
              "  <button class=\"colab-df-quickchart\" onclick=\"quickchart('df-d2dc986f-1223-47a9-8be8-e06677edd2ff')\"\n",
              "            title=\"Suggest charts\"\n",
              "            style=\"display:none;\">\n",
              "\n",
              "<svg xmlns=\"http://www.w3.org/2000/svg\" height=\"24px\"viewBox=\"0 0 24 24\"\n",
              "     width=\"24px\">\n",
              "    <g>\n",
              "        <path d=\"M19 3H5c-1.1 0-2 .9-2 2v14c0 1.1.9 2 2 2h14c1.1 0 2-.9 2-2V5c0-1.1-.9-2-2-2zM9 17H7v-7h2v7zm4 0h-2V7h2v10zm4 0h-2v-4h2v4z\"/>\n",
              "    </g>\n",
              "</svg>\n",
              "  </button>\n",
              "\n",
              "<style>\n",
              "  .colab-df-quickchart {\n",
              "      --bg-color: #E8F0FE;\n",
              "      --fill-color: #1967D2;\n",
              "      --hover-bg-color: #E2EBFA;\n",
              "      --hover-fill-color: #174EA6;\n",
              "      --disabled-fill-color: #AAA;\n",
              "      --disabled-bg-color: #DDD;\n",
              "  }\n",
              "\n",
              "  [theme=dark] .colab-df-quickchart {\n",
              "      --bg-color: #3B4455;\n",
              "      --fill-color: #D2E3FC;\n",
              "      --hover-bg-color: #434B5C;\n",
              "      --hover-fill-color: #FFFFFF;\n",
              "      --disabled-bg-color: #3B4455;\n",
              "      --disabled-fill-color: #666;\n",
              "  }\n",
              "\n",
              "  .colab-df-quickchart {\n",
              "    background-color: var(--bg-color);\n",
              "    border: none;\n",
              "    border-radius: 50%;\n",
              "    cursor: pointer;\n",
              "    display: none;\n",
              "    fill: var(--fill-color);\n",
              "    height: 32px;\n",
              "    padding: 0;\n",
              "    width: 32px;\n",
              "  }\n",
              "\n",
              "  .colab-df-quickchart:hover {\n",
              "    background-color: var(--hover-bg-color);\n",
              "    box-shadow: 0 1px 2px rgba(60, 64, 67, 0.3), 0 1px 3px 1px rgba(60, 64, 67, 0.15);\n",
              "    fill: var(--button-hover-fill-color);\n",
              "  }\n",
              "\n",
              "  .colab-df-quickchart-complete:disabled,\n",
              "  .colab-df-quickchart-complete:disabled:hover {\n",
              "    background-color: var(--disabled-bg-color);\n",
              "    fill: var(--disabled-fill-color);\n",
              "    box-shadow: none;\n",
              "  }\n",
              "\n",
              "  .colab-df-spinner {\n",
              "    border: 2px solid var(--fill-color);\n",
              "    border-color: transparent;\n",
              "    border-bottom-color: var(--fill-color);\n",
              "    animation:\n",
              "      spin 1s steps(1) infinite;\n",
              "  }\n",
              "\n",
              "  @keyframes spin {\n",
              "    0% {\n",
              "      border-color: transparent;\n",
              "      border-bottom-color: var(--fill-color);\n",
              "      border-left-color: var(--fill-color);\n",
              "    }\n",
              "    20% {\n",
              "      border-color: transparent;\n",
              "      border-left-color: var(--fill-color);\n",
              "      border-top-color: var(--fill-color);\n",
              "    }\n",
              "    30% {\n",
              "      border-color: transparent;\n",
              "      border-left-color: var(--fill-color);\n",
              "      border-top-color: var(--fill-color);\n",
              "      border-right-color: var(--fill-color);\n",
              "    }\n",
              "    40% {\n",
              "      border-color: transparent;\n",
              "      border-right-color: var(--fill-color);\n",
              "      border-top-color: var(--fill-color);\n",
              "    }\n",
              "    60% {\n",
              "      border-color: transparent;\n",
              "      border-right-color: var(--fill-color);\n",
              "    }\n",
              "    80% {\n",
              "      border-color: transparent;\n",
              "      border-right-color: var(--fill-color);\n",
              "      border-bottom-color: var(--fill-color);\n",
              "    }\n",
              "    90% {\n",
              "      border-color: transparent;\n",
              "      border-bottom-color: var(--fill-color);\n",
              "    }\n",
              "  }\n",
              "</style>\n",
              "\n",
              "  <script>\n",
              "    async function quickchart(key) {\n",
              "      const quickchartButtonEl =\n",
              "        document.querySelector('#' + key + ' button');\n",
              "      quickchartButtonEl.disabled = true;  // To prevent multiple clicks.\n",
              "      quickchartButtonEl.classList.add('colab-df-spinner');\n",
              "      try {\n",
              "        const charts = await google.colab.kernel.invokeFunction(\n",
              "            'suggestCharts', [key], {});\n",
              "      } catch (error) {\n",
              "        console.error('Error during call to suggestCharts:', error);\n",
              "      }\n",
              "      quickchartButtonEl.classList.remove('colab-df-spinner');\n",
              "      quickchartButtonEl.classList.add('colab-df-quickchart-complete');\n",
              "    }\n",
              "    (() => {\n",
              "      let quickchartButtonEl =\n",
              "        document.querySelector('#df-d2dc986f-1223-47a9-8be8-e06677edd2ff button');\n",
              "      quickchartButtonEl.style.display =\n",
              "        google.colab.kernel.accessAllowed ? 'block' : 'none';\n",
              "    })();\n",
              "  </script>\n",
              "</div>\n",
              "\n",
              "    </div>\n",
              "  </div>\n"
            ],
            "application/vnd.google.colaboratory.intrinsic+json": {
              "type": "dataframe",
              "summary": "{\n  \"name\": \"df_train[base]\",\n  \"rows\": 5,\n  \"fields\": [\n    {\n      \"column\": \"engine_hp\",\n      \"properties\": {\n        \"dtype\": \"number\",\n        \"std\": 91.64442154326689,\n        \"min\": 153.0,\n        \"max\": 381.0,\n        \"num_unique_values\": 5,\n        \"samples\": [\n          153.0,\n          310.0,\n          207.0\n        ],\n        \"semantic_type\": \"\",\n        \"description\": \"\"\n      }\n    },\n    {\n      \"column\": \"engine_cylinders\",\n      \"properties\": {\n        \"dtype\": \"number\",\n        \"std\": 1.6733200530681511,\n        \"min\": 4.0,\n        \"max\": 8.0,\n        \"num_unique_values\": 3,\n        \"samples\": [\n          6.0,\n          4.0,\n          8.0\n        ],\n        \"semantic_type\": \"\",\n        \"description\": \"\"\n      }\n    },\n    {\n      \"column\": \"highway_mpg\",\n      \"properties\": {\n        \"dtype\": \"number\",\n        \"std\": 10,\n        \"min\": 17,\n        \"max\": 41,\n        \"num_unique_values\": 4,\n        \"samples\": [\n          41,\n          18,\n          20\n        ],\n        \"semantic_type\": \"\",\n        \"description\": \"\"\n      }\n    },\n    {\n      \"column\": \"city_mpg\",\n      \"properties\": {\n        \"dtype\": \"number\",\n        \"std\": 6,\n        \"min\": 13,\n        \"max\": 29,\n        \"num_unique_values\": 4,\n        \"samples\": [\n          29,\n          13,\n          15\n        ],\n        \"semantic_type\": \"\",\n        \"description\": \"\"\n      }\n    },\n    {\n      \"column\": \"popularity\",\n      \"properties\": {\n        \"dtype\": \"number\",\n        \"std\": 584,\n        \"min\": 586,\n        \"max\": 2031,\n        \"num_unique_values\": 4,\n        \"samples\": [\n          1385,\n          2031,\n          1851\n        ],\n        \"semantic_type\": \"\",\n        \"description\": \"\"\n      }\n    }\n  ]\n}"
            }
          },
          "metadata": {},
          "execution_count": 159
        }
      ]
    },
    {
      "cell_type": "markdown",
      "source": [
        "### Ekstraksi nilai"
      ],
      "metadata": {
        "id": "zZEzlXyex7to"
      }
    },
    {
      "cell_type": "code",
      "source": [
        "X_train = df_train[base].values\n",
        "X_train\n"
      ],
      "metadata": {
        "colab": {
          "base_uri": "https://localhost:8080/"
        },
        "id": "LLgdz4d2x_DN",
        "outputId": "22adfebe-ffc2-4ad2-955b-dcd654a10d54"
      },
      "execution_count": null,
      "outputs": [
        {
          "output_type": "execute_result",
          "data": {
            "text/plain": [
              "array([[ 210.,    6.,   20.,   15., 1851.],\n",
              "       [ 153.,    4.,   41.,   29., 1385.],\n",
              "       [ 207.,    6.,   17.,   14.,  586.],\n",
              "       ...,\n",
              "       [ 180.,    4.,   25.,   20., 1439.],\n",
              "       [ 225.,    8.,   22.,   15.,   61.],\n",
              "       [ 155.,    4.,   28.,   22.,  481.]])"
            ]
          },
          "metadata": {},
          "execution_count": 160
        }
      ]
    },
    {
      "cell_type": "markdown",
      "source": [
        "### Nilai yang hilang"
      ],
      "metadata": {
        "id": "k7i7ZqfryPik"
      }
    },
    {
      "cell_type": "code",
      "source": [
        "df_train[base].isnull().sum()"
      ],
      "metadata": {
        "colab": {
          "base_uri": "https://localhost:8080/"
        },
        "collapsed": true,
        "id": "lmQcJJW9yThI",
        "outputId": "b9bedc05-0a31-4f5f-b1e1-adc50aef3016"
      },
      "execution_count": null,
      "outputs": [
        {
          "output_type": "execute_result",
          "data": {
            "text/plain": [
              "engine_hp           40\n",
              "engine_cylinders    19\n",
              "highway_mpg          0\n",
              "city_mpg             0\n",
              "popularity           0\n",
              "dtype: int64"
            ]
          },
          "metadata": {},
          "execution_count": 161
        }
      ]
    },
    {
      "cell_type": "code",
      "source": [
        "df_train[base].fillna(0).isnull().sum()"
      ],
      "metadata": {
        "colab": {
          "base_uri": "https://localhost:8080/"
        },
        "collapsed": true,
        "id": "dcH091Uiyuop",
        "outputId": "1fb059fd-2341-404e-8dbc-72aa9087c685"
      },
      "execution_count": null,
      "outputs": [
        {
          "output_type": "execute_result",
          "data": {
            "text/plain": [
              "engine_hp           0\n",
              "engine_cylinders    0\n",
              "highway_mpg         0\n",
              "city_mpg            0\n",
              "popularity          0\n",
              "dtype: int64"
            ]
          },
          "metadata": {},
          "execution_count": 162
        }
      ]
    },
    {
      "cell_type": "code",
      "source": [
        "X_train = df_train[base].fillna(0).values\n",
        "X_train\n",
        "# Output:\n",
        "# array([[5.030e+02, 8.000e+00, 2.500e+01, 1.800e+01, 6.170e+02],\n",
        "#        [2.210e+02, 6.000e+00, 2.600e+01, 1.700e+01, 2.100e+02],\n",
        "#        [1.690e+02, 4.000e+00, 2.700e+01, 2.000e+01, 5.657e+03],\n",
        "#        ...,\n",
        "#        [3.810e+02, 8.000e+00, 1.700e+01, 1.300e+01, 2.031e+03],\n",
        "#        [3.000e+02, 6.000e+00, 2.400e+01, 1.800e+01, 3.916e+03],\n",
        "#        [2.200e+02, 6.000e+00, 2.100e+01, 1.700e+01, 4.540e+02]])\n",
        "y_train"
      ],
      "metadata": {
        "colab": {
          "base_uri": "https://localhost:8080/"
        },
        "id": "BRtH6On-zCy8",
        "outputId": "2291b2ab-74a0-42f1-9f45-0bcbfbe0637a"
      },
      "execution_count": null,
      "outputs": [
        {
          "output_type": "execute_result",
          "data": {
            "text/plain": [
              "array([10.08626734,  9.89449726, 10.18832809, ..., 10.23820826,\n",
              "        7.60140233,  9.50673439])"
            ]
          },
          "metadata": {},
          "execution_count": 163
        }
      ]
    },
    {
      "cell_type": "code",
      "source": [
        "w0, w = train_linear_regression(X_train, y_train)\n",
        "w0, w"
      ],
      "metadata": {
        "colab": {
          "base_uri": "https://localhost:8080/"
        },
        "id": "bGEWOsq9zfso",
        "outputId": "e91a5974-741b-4344-c2a3-dc69cf7160a4"
      },
      "execution_count": null,
      "outputs": [
        {
          "output_type": "execute_result",
          "data": {
            "text/plain": [
              "(7.49695130199494,\n",
              " array([ 9.35365029e-03, -1.24323376e-01,  4.58734960e-02, -1.05173452e-02,\n",
              "        -1.14985322e-05]))"
            ]
          },
          "metadata": {},
          "execution_count": 164
        }
      ]
    },
    {
      "cell_type": "code",
      "source": [
        "y_pred = w0 + X_train.dot(w)\n",
        "y_pred"
      ],
      "metadata": {
        "colab": {
          "base_uri": "https://localhost:8080/"
        },
        "id": "2QjYCPbsz18q",
        "outputId": "eab0896f-ed05-4ff3-dd06-7111ad8d7e3f"
      },
      "execution_count": null,
      "outputs": [
        {
          "output_type": "execute_result",
          "data": {
            "text/plain": [
              "array([9.45370357, 9.99065115, 9.31308512, ..., 9.60325896, 9.45769093,\n",
              "       9.49701909])"
            ]
          },
          "metadata": {},
          "execution_count": 165
        }
      ]
    },
    {
      "cell_type": "markdown",
      "source": [
        "### Merencanakan kinerja model"
      ],
      "metadata": {
        "id": "gb_28mDh0F75"
      }
    },
    {
      "cell_type": "code",
      "source": [
        "# alpha mengubah transparansi batang\n",
        "# bins menentukan jumlah batang\n",
        "sns.histplot(y_pred, color='red', alpha=0.5, bins=50)\n",
        "sns.histplot(y_train, color='blue', alpha=0.5, bins=50)"
      ],
      "metadata": {
        "colab": {
          "base_uri": "https://localhost:8080/"
        },
        "id": "0LrVB0tJ0QKF",
        "outputId": "f79ee2cc-58a6-4133-9290-86475ca76270"
      },
      "execution_count": null,
      "outputs": [
        {
          "output_type": "execute_result",
          "data": {
            "text/plain": [
              "<Axes: ylabel='Count'>"
            ]
          },
          "metadata": {},
          "execution_count": 166
        },
        {
          "output_type": "display_data",
          "data": {
            "text/plain": [
              "<Figure size 640x480 with 1 Axes>"
            ],
            "image/png": "[encoded data removed]"
          },
          "metadata": {}
        }
      ]
    },
    {
      "cell_type": "markdown",
      "source": [
        "## 5. Kesalahan Akar Rata-rata Kuadrat - RMSE"
      ],
      "metadata": {
        "id": "k0PEnVjK1jDA"
      }
    },
    {
      "cell_type": "code",
      "source": [
        "def rmse(y, y_pred):\n",
        "  se = (y - y_pred) ** 2\n",
        "  mse = se.mean()\n",
        "  return np.sqrt(mse)\n",
        "\n",
        "rmse(y_train, y_pred)"
      ],
      "metadata": {
        "colab": {
          "base_uri": "https://localhost:8080/"
        },
        "id": "nkehvDgv1uUM",
        "outputId": "39cf11f8-e9ad-46fd-b95a-651269120e4f"
      },
      "execution_count": null,
      "outputs": [
        {
          "output_type": "execute_result",
          "data": {
            "text/plain": [
              "0.7466687710084469"
            ]
          },
          "metadata": {},
          "execution_count": 167
        }
      ]
    },
    {
      "cell_type": "markdown",
      "source": [
        "### Validasi model"
      ],
      "metadata": {
        "id": "9jZiBw4c2N0j"
      }
    },
    {
      "cell_type": "code",
      "source": [
        "base = ['engine_hp', 'engine_cylinders', 'highway_mpg', 'city_mpg', 'popularity']\n",
        "\n",
        "X_train = df_train[base].fillna(0).values\n",
        "w0, w = train_linear_regression(X_train, y_train)\n",
        "y_pred = w0 + X_train.dot(w)\n",
        "\n",
        "def prepare_X(df):\n",
        "  df_num = df[base]\n",
        "  df_num = df_num.fillna(0)\n",
        "  # extracting the Numpy array\n",
        "  X = df_num.values\n",
        "  return X\n",
        "\n",
        "# training part\n",
        "X_train = prepare_X(df_train)\n",
        "w0, w = train_linear_regression(X_train, y_train)\n",
        "\n",
        "# validation part:\n",
        "X_val = prepare_X(df_val)\n",
        "y_pred = w0 + X_val.dot(w)\n",
        "\n",
        "# evaluation part:\n",
        "rmse(y_val, y_pred)\n",
        "# Output: 0.8023487592949454\n"
      ],
      "metadata": {
        "colab": {
          "base_uri": "https://localhost:8080/"
        },
        "id": "shsYZOAo2M-l",
        "outputId": "551c21a2-be60-4876-9bb5-dd3caef52a1d"
      },
      "execution_count": null,
      "outputs": [
        {
          "output_type": "execute_result",
          "data": {
            "text/plain": [
              "0.8090960297859847"
            ]
          },
          "metadata": {},
          "execution_count": 168
        }
      ]
    },
    {
      "cell_type": "markdown",
      "source": [
        "## 6. Rekayasa fitur sederhana"
      ],
      "metadata": {
        "id": "iuj6JNN9wZAu"
      }
    },
    {
      "cell_type": "code",
      "source": [
        "2001 - df_train.year"
      ],
      "metadata": {
        "colab": {
          "base_uri": "https://localhost:8080/"
        },
        "id": "COOB4uMJwiEL",
        "outputId": "cc96c897-ed43-4ce8-923b-52dc1b93caac"
      },
      "execution_count": null,
      "outputs": [
        {
          "output_type": "execute_result",
          "data": {
            "text/plain": [
              "0       -7\n",
              "1      -15\n",
              "2       -6\n",
              "3      -14\n",
              "4       -9\n",
              "        ..\n",
              "7145   -16\n",
              "7146   -16\n",
              "7147   -14\n",
              "7148    11\n",
              "7149    -4\n",
              "Name: year, Length: 7150, dtype: int64"
            ]
          },
          "metadata": {},
          "execution_count": 169
        }
      ]
    },
    {
      "cell_type": "code",
      "source": [
        "base = ['engine_hp', 'engine_cylinders', 'highway_mpg', 'city_mpg', 'popularity']\n",
        "\n",
        "def prepare_X(df):\n",
        "  df = df.copy()\n",
        "\n",
        "  df['age'] = 2001 - df.year\n",
        "  features = base + ['age']\n",
        "\n",
        "  df_num = df[features]\n",
        "  df_num = df_num.fillna(0)\n",
        "# Mengekstrak array Numpy\n",
        "  X = df_num.values\n",
        "  return X\n",
        "x_train = prepare_X(df_train)\n",
        "X_train\n"
      ],
      "metadata": {
        "colab": {
          "base_uri": "https://localhost:8080/"
        },
        "id": "lf87a_MawmrW",
        "outputId": "a20b8304-6b0f-4e26-aa6b-f57617f4cd0e"
      },
      "execution_count": null,
      "outputs": [
        {
          "output_type": "execute_result",
          "data": {
            "text/plain": [
              "array([[ 210.,    6.,   20.,   15., 1851.],\n",
              "       [ 153.,    4.,   41.,   29., 1385.],\n",
              "       [ 207.,    6.,   17.,   14.,  586.],\n",
              "       ...,\n",
              "       [ 180.,    4.,   25.,   20., 1439.],\n",
              "       [ 225.,    8.,   22.,   15.,   61.],\n",
              "       [ 155.,    4.,   28.,   22.,  481.]])"
            ]
          },
          "metadata": {},
          "execution_count": 170
        }
      ]
    },
    {
      "cell_type": "code",
      "source": [
        "X_train = prepare_X(df_train)\n",
        "w0, w = train_linear_regression(X_train, y_train)\n",
        "\n",
        "X_val = prepare_X(df_val)\n",
        "y_pred = w0 + X_val.dot(w)\n",
        "\n",
        "rmse(y_val, y_pred)"
      ],
      "metadata": {
        "colab": {
          "base_uri": "https://localhost:8080/"
        },
        "id": "x8IHQfNGxe63",
        "outputId": "916d30db-b4e7-4f82-e965-797836f8a711"
      },
      "execution_count": null,
      "outputs": [
        {
          "output_type": "execute_result",
          "data": {
            "text/plain": [
              "0.5385875201090731"
            ]
          },
          "metadata": {},
          "execution_count": 171
        }
      ]
    },
    {
      "cell_type": "code",
      "source": [
        "sns.histplot(y_pred, color='red', alpha=0.5, bins=50)\n",
        "sns.histplot(y_val, color='blue', alpha=0.5, bins=50)"
      ],
      "metadata": {
        "colab": {
          "base_uri": "https://localhost:8080/"
        },
        "id": "upRZNVuFx7go",
        "outputId": "0b1aebc1-555e-4642-f5e4-06328d656cfd"
      },
      "execution_count": null,
      "outputs": [
        {
          "output_type": "execute_result",
          "data": {
            "text/plain": [
              "<Axes: ylabel='Count'>"
            ]
          },
          "metadata": {},
          "execution_count": 172
        },
        {
          "output_type": "display_data",
          "data": {
            "text/plain": [
              "<Figure size 640x480 with 1 Axes>"
            ],
            "image/png": "[encoded data removed]"
          },
          "metadata": {}
        }
      ]
    },
    {
      "cell_type": "markdown",
      "source": [
        "### Variabel kategoris"
      ],
      "metadata": {
        "id": "WOPNs0w86vno"
      }
    },
    {
      "cell_type": "code",
      "source": [
        "df_train.dtypes"
      ],
      "metadata": {
        "colab": {
          "base_uri": "https://localhost:8080/"
        },
        "id": "CDkkiOL66z7C",
        "outputId": "a33c24cc-3716-4668-b706-edba4b639296"
      },
      "execution_count": null,
      "outputs": [
        {
          "output_type": "execute_result",
          "data": {
            "text/plain": [
              "make                  object\n",
              "model                 object\n",
              "year                   int64\n",
              "engine_fuel_type      object\n",
              "engine_hp            float64\n",
              "engine_cylinders     float64\n",
              "transmission_type     object\n",
              "driven_wheels         object\n",
              "number_of_doors      float64\n",
              "market_category       object\n",
              "vehicle_size          object\n",
              "vehicle_style         object\n",
              "highway_mpg            int64\n",
              "city_mpg               int64\n",
              "popularity             int64\n",
              "dtype: object"
            ]
          },
          "metadata": {},
          "execution_count": 173
        }
      ]
    },
    {
      "cell_type": "code",
      "source": [
        "df_train.number_of_doors.head()"
      ],
      "metadata": {
        "colab": {
          "base_uri": "https://localhost:8080/"
        },
        "collapsed": true,
        "id": "oCylCe5d68sm",
        "outputId": "21d81784-3564-4e71-d75a-79f5e4e1601f"
      },
      "execution_count": null,
      "outputs": [
        {
          "output_type": "execute_result",
          "data": {
            "text/plain": [
              "0    4.0\n",
              "1    4.0\n",
              "2    4.0\n",
              "3    4.0\n",
              "4    2.0\n",
              "Name: number_of_doors, dtype: float64"
            ]
          },
          "metadata": {},
          "execution_count": 174
        }
      ]
    },
    {
      "cell_type": "code",
      "source": [
        "df_train.number_of_doors == 2"
      ],
      "metadata": {
        "colab": {
          "base_uri": "https://localhost:8080/"
        },
        "collapsed": true,
        "id": "EjdUpztx7I9p",
        "outputId": "e28cebcf-6827-4513-d9f8-a1c997777b9d"
      },
      "execution_count": null,
      "outputs": [
        {
          "output_type": "execute_result",
          "data": {
            "text/plain": [
              "0       False\n",
              "1       False\n",
              "2       False\n",
              "3       False\n",
              "4        True\n",
              "        ...  \n",
              "7145    False\n",
              "7146    False\n",
              "7147    False\n",
              "7148     True\n",
              "7149    False\n",
              "Name: number_of_doors, Length: 7150, dtype: bool"
            ]
          },
          "metadata": {},
          "execution_count": 175
        }
      ]
    },
    {
      "cell_type": "code",
      "source": [
        "df_train['number_of_doors_2'] = (df_train.number_of_doors == 2).astype('int')\n",
        "df_train['number_of_doors_3'] = (df_train.number_of_doors == 3).astype('int')\n",
        "df_train['number_of_doors_4'] = (df_train.number_of_doors == 4).astype('int')"
      ],
      "metadata": {
        "id": "DkuN2BXd7Z1j"
      },
      "execution_count": null,
      "outputs": []
    },
    {
      "cell_type": "code",
      "source": [
        "'num_doors_%s' % 4\n",
        "# Output: num_doors_4\n",
        "\n",
        "# Dengan penggantian itu kita bisa menulis sebuah loop\n",
        "for v in [2, 3, 4]:\n",
        "  df_train['num_doors_%s' % v] = (df_train.number_of_doors == v).astype('int')\n",
        "\n",
        "# kami menghapus ini karena kami akan menggunakan solusi lain\n",
        "for v in [2, 3, 4]:\n",
        "  del df_train['num_doors_%s' % v]"
      ],
      "metadata": {
        "id": "CPAmzKeU74rC"
      },
      "execution_count": null,
      "outputs": []
    },
    {
      "cell_type": "code",
      "source": [
        "def prepare_X(df):\n",
        "  df = df.copy()\n",
        "  features = base.copy()\n",
        "\n",
        "  df['age'] = 2001 - df.year\n",
        "  features.append('age')\n",
        "\n",
        "  for v in [2, 3, 4]:\n",
        "    df['num_doors_%s' % v] = (df.number_of_doors == v).astype('int')\n",
        "    features.append('num_doors_%s' % v)\n",
        "\n",
        "  df_num = df[features]\n",
        "  df_num = df_num.fillna(0)\n",
        " # mengekstrak array Numpy\n",
        "  X = df_num.values\n",
        "  return X\n",
        "\n",
        "\n",
        "prepare_X(df_train)\n"
      ],
      "metadata": {
        "colab": {
          "base_uri": "https://localhost:8080/"
        },
        "id": "93_frrfj85hg",
        "outputId": "6bdcbf2f-fd40-4dcd-a233-2ee30003666f"
      },
      "execution_count": null,
      "outputs": [
        {
          "output_type": "execute_result",
          "data": {
            "text/plain": [
              "array([[210.,   6.,  20., ...,   0.,   0.,   1.],\n",
              "       [153.,   4.,  41., ...,   0.,   0.,   1.],\n",
              "       [207.,   6.,  17., ...,   0.,   0.,   1.],\n",
              "       ...,\n",
              "       [180.,   4.,  25., ...,   0.,   0.,   1.],\n",
              "       [225.,   8.,  22., ...,   1.,   0.,   0.],\n",
              "       [155.,   4.,  28., ...,   0.,   0.,   1.]])"
            ]
          },
          "metadata": {},
          "execution_count": 178
        }
      ]
    },
    {
      "cell_type": "code",
      "source": [
        "X_train = prepare_X(df_train)\n",
        "w0, w = train_linear_regression(X_train, y_train)\n",
        "\n",
        "X_val = prepare_X(df_val)\n",
        "y_pred = w0 + X_val.dot(w)\n",
        "\n",
        "rmse(y_val, y_pred)"
      ],
      "metadata": {
        "colab": {
          "base_uri": "https://localhost:8080/"
        },
        "id": "wfp4nYXV9b-x",
        "outputId": "041016ef-3534-4ec0-80f0-235c48d5be92"
      },
      "execution_count": null,
      "outputs": [
        {
          "output_type": "execute_result",
          "data": {
            "text/plain": [
              "0.5393094931285044"
            ]
          },
          "metadata": {},
          "execution_count": 179
        }
      ]
    },
    {
      "cell_type": "code",
      "source": [
        "df.make.nunique()"
      ],
      "metadata": {
        "colab": {
          "base_uri": "https://localhost:8080/"
        },
        "id": "KLknF4np_bpF",
        "outputId": "327b3725-c860-4f8f-e3d6-053107f28856"
      },
      "execution_count": null,
      "outputs": [
        {
          "output_type": "execute_result",
          "data": {
            "text/plain": [
              "48"
            ]
          },
          "metadata": {},
          "execution_count": 180
        }
      ]
    },
    {
      "cell_type": "code",
      "source": [
        "df.make.value_counts().head()\n",
        "# Output:\n",
        "# make\n",
        "# chevrolet\t1123\n",
        "# ford\t881\n",
        "# volkswagen\t809\n",
        "# toyota\t746\n",
        "# dodge\t626\n",
        "# dtype: int6\n",
        "\n",
        "# jika kita ingin mendapatkan nilai sebenarnya, kita menggunakan properti indeks\n",
        "df.make.value_counts().head().index\n",
        "# Bungkus dalam daftar Python biasa\n",
        "makes = list(df.make.value_counts().head().index)\n",
        "makes"
      ],
      "metadata": {
        "colab": {
          "base_uri": "https://localhost:8080/"
        },
        "collapsed": true,
        "id": "bFh4dr0DBkCe",
        "outputId": "76d9ed9c-332f-4339-b81c-f989e0407823"
      },
      "execution_count": null,
      "outputs": [
        {
          "output_type": "execute_result",
          "data": {
            "text/plain": [
              "['chevrolet', 'ford', 'volkswagen', 'toyota', 'dodge']"
            ]
          },
          "metadata": {},
          "execution_count": 181
        }
      ]
    },
    {
      "cell_type": "code",
      "source": [
        "def prepare_X(df):\n",
        "  df = df.copy()\n",
        "  features = base.copy()\n",
        "\n",
        "  df['age'] = 2001 - df.year\n",
        "  features.append('age')\n",
        "\n",
        "  for v in [2, 3, 4]:\n",
        "    df['num_doors_%s' % v] = (df.number_of_doors == v).astype('int')\n",
        "    features.append('num_doors_%s' % v)\n",
        "\n",
        "  for v in makes:\n",
        "    df['make_%s' % v] = (df.make == v).astype('int')\n",
        "    features.append('make_%s' % v)\n",
        "\n",
        "  df_num = df[features]\n",
        "  df_num = df_num.fillna(0)\n",
        "# mengekstrak array Numpy\n",
        "  X = df_num.values\n",
        "  return X"
      ],
      "metadata": {
        "id": "Jex4SyM3C-Qs"
      },
      "execution_count": null,
      "outputs": []
    },
    {
      "cell_type": "code",
      "source": [
        "X_train = prepare_X(df_train)\n",
        "w0, w = train_linear_regression(X_train, y_train)\n",
        "\n",
        "X_val = prepare_X(df_val)\n",
        "y_pred = w0 + X_val.dot(w)\n",
        "\n",
        "rmse(y_val, y_pred)"
      ],
      "metadata": {
        "colab": {
          "base_uri": "https://localhost:8080/"
        },
        "id": "w5_xxjpQDZRI",
        "outputId": "a5c033bf-f90f-4d46-e580-e64df531ef86"
      },
      "execution_count": null,
      "outputs": [
        {
          "output_type": "execute_result",
          "data": {
            "text/plain": [
              "0.5404444854737261"
            ]
          },
          "metadata": {},
          "execution_count": 183
        }
      ]
    },
    {
      "cell_type": "code",
      "source": [
        "categorical_variables = ['make', 'model', 'transmission_type', 'driven_wheels', 'market_category', 'vehicle_size', 'vehicle_style']\n",
        "\n",
        "# Kategori kamus akan berisi untuk setiap kategori\n",
        "# 5 kategori paling umum\n",
        "categories = {}\n",
        "\n",
        "for c in categorical_variables:\n",
        "  categories[c] = list(df[c].value_counts().head().index)\n",
        "\n",
        "categories"
      ],
      "metadata": {
        "colab": {
          "base_uri": "https://localhost:8080/"
        },
        "collapsed": true,
        "id": "wud2rXhtDpph",
        "outputId": "34cf803d-2d59-4bd2-f667-fd7248ea9ed6"
      },
      "execution_count": null,
      "outputs": [
        {
          "output_type": "execute_result",
          "data": {
            "text/plain": [
              "{'make': ['chevrolet', 'ford', 'volkswagen', 'toyota', 'dodge'],\n",
              " 'model': ['silverado_1500',\n",
              "  'tundra',\n",
              "  'f-150',\n",
              "  'sierra_1500',\n",
              "  'beetle_convertible'],\n",
              " 'transmission_type': ['automatic',\n",
              "  'manual',\n",
              "  'automated_manual',\n",
              "  'direct_drive',\n",
              "  'unknown'],\n",
              " 'driven_wheels': ['front_wheel_drive',\n",
              "  'rear_wheel_drive',\n",
              "  'all_wheel_drive',\n",
              "  'four_wheel_drive'],\n",
              " 'market_category': ['crossover',\n",
              "  'flex_fuel',\n",
              "  'luxury',\n",
              "  'luxury,performance',\n",
              "  'hatchback'],\n",
              " 'vehicle_size': ['compact', 'midsize', 'large'],\n",
              " 'vehicle_style': ['sedan',\n",
              "  '4dr_suv',\n",
              "  'coupe',\n",
              "  'convertible',\n",
              "  '4dr_hatchback']}"
            ]
          },
          "metadata": {},
          "execution_count": 184
        }
      ]
    },
    {
      "cell_type": "code",
      "source": [
        "def prepare_X(df):\n",
        "  # cara ini bagus, jika tidak saat menggunakan df Anda akan mengubah data asli hal yang paling tidak diinginkan\n",
        "  df = df.copy()\n",
        "  features = base.copy()\n",
        "\n",
        "  df['age'] = 2001 -df.year\n",
        "  features.append('age')\n",
        "\n",
        "  for v in [2, 3, 4]:\n",
        "    df['num_doors_%s' % v] = (df.number_of_doors == v).astype('int')\n",
        "    features.append('num_doors_%s' % v)\n",
        "\n",
        "# Perulangan pertama adalah untuk setiap kunci kategori kamus.\n",
        "# Perulangan kedua adalah untuk setiap nilai di dalam kategori\n",
        "# Untuk setiap nilai ini, kita membuat kolom baru.\n",
        "  for c, values in categories.items():\n",
        "    for v in values:\n",
        "      df['%s_%s' % (c, v)] = (df[c] == v).astype('int')\n",
        "      features.append('%s_%s' % (c, v))\n",
        "\n",
        "  df_num = df[features]\n",
        "  df_num = df_num.fillna(0)\n",
        "  # mengekstrak array Numpy\n",
        "  X = df_num.values\n",
        "  return X"
      ],
      "metadata": {
        "id": "AxTzKUjwEply"
      },
      "execution_count": null,
      "outputs": []
    },
    {
      "cell_type": "code",
      "source": [
        "X_train = prepare_X(df_train)\n",
        "w0, w = train_linear_regression(X_train, y_train)\n",
        "\n",
        "X_val = prepare_X(df_val)\n",
        "y_pred = w0 + X_val.dot(w)\n",
        "\n",
        "rmse(y_val, y_pred)"
      ],
      "metadata": {
        "colab": {
          "base_uri": "https://localhost:8080/"
        },
        "id": "VnHIzwcWF6Q5",
        "outputId": "98381c00-f5eb-426b-87ee-594db4a9e90d"
      },
      "execution_count": null,
      "outputs": [
        {
          "output_type": "execute_result",
          "data": {
            "text/plain": [
              "694.1505076284964"
            ]
          },
          "metadata": {},
          "execution_count": 186
        }
      ]
    },
    {
      "cell_type": "markdown",
      "source": [
        "## 7. Regulasi"
      ],
      "metadata": {
        "id": "4uv4oLysGjfs"
      }
    },
    {
      "cell_type": "code",
      "source": [
        "# Anda melihat di sini kolom ke-2 dan ke-3 identik\n",
        "X = [\n",
        "    [4, 4, 4],\n",
        "    [3, 5, 5],\n",
        "    [5, 1, 1],\n",
        "    [5, 4, 4],\n",
        "    [7, 5, 5],\n",
        "    [4, 5, 5]\n",
        "]\n",
        "\n",
        "X = np.array(X)\n",
        "X\n",
        "# Output:\n",
        "# array([[4, 4, 4],\n",
        "#        [3, 5, 5],\n",
        "#        [5, 1, 1],\n",
        "#        [5, 4, 4],\n",
        "#        [7, 5, 5],\n",
        "#        [4, 5, 5]])\n",
        "\n",
        "XTX = X.T.dot(X)\n",
        "XTX\n",
        "# Output:\n",
        "# array([[140, 111, 111],\n",
        "#        [111, 108, 108],\n",
        "#        [111, 108, 108]])\n",
        "\n",
        "# np.linalg.inv(XTX)\n",
        "# LinAlgError: Matriks singular\n",
        "\n",
        "X = [\n",
        "    [4, 4, 4],\n",
        "    [3, 5, 5],\n",
        "    [5, 1, 1],\n",
        "    [5, 4, 4],\n",
        "    [7, 5, 5],\n",
        "    [4, 5, 5.0000001],\n",
        "]\n",
        "X = np.array(X)\n",
        "y = [1, 2, 3, 1, 2, 3]\n",
        "\n",
        "XTX = X.T.dot(X)\n",
        "XTX\n",
        "# Output:\n",
        "# array([[140.       , 111.       , 111.0000004],\n",
        "#       [111.       , 108.       , 108.0000005],\n",
        "#       [111.0000004, 108.0000005, 108.000001 ]])\n",
        "\n",
        "XTX_inv = np.linalg.inv(XTX)\n",
        "XTX_inv\n",
        "# Output:\n",
        "# array([[ 3.92646538e-02, -1.54615164e+05,  1.54615121e+05],\n",
        "      #  [-1.54615170e+05,  3.51843724e+13, -3.51843721e+13],\n",
        "      #  [ 1.54615129e+05, -3.51843721e+13,  3.51843718e+13]])\n",
        "\n",
        "w = XTX_inv.dot(X.T).dot(y)\n",
        "w\n",
        "# Output: array([ 2.73776578e-01, -4.41093100e+06,  4.41093113e+06])\n",
        "\n",
        "# Menambahkan angka kecil pada diagonal membantu mengendalikan. Jadi angka w menjadi lebih kecil\n",
        "XTX = [\n",
        "    [1.0001, 2, 2],\n",
        "    [2, 1.0001, 1.0000001],\n",
        "    [2, 1.0000001, 1.0001]\n",
        "]\n",
        "XTX = np.array(XTX)\n",
        "np.linalg.inv(XTX)\n",
        "# Output:\n",
        "\n",
        "# membantu mengontrol. Jadi jumlah w menjadi lebih kecil\n",
        "XTX = [\n",
        "    [1.0001, 2, 2],\n",
        "    [2, 1.0001, 1.0000001],\n",
        "    [2, 1.0000001, 1.0001]\n",
        "]\n",
        "XTX = np.array(XTX)\n",
        "np.linalg.inv(XTX)\n",
        "# Output:\n",
        "# array([[-3.33366691e-01,  3.33350007e-01,  3.33350007e-01],\n",
        "#        [ 3.33350007e-01,  5.00492166e+03, -5.00508835e+03],\n",
        "#        [ 3.33350007e-01, -5.00508835e+03,  5.00492166e+03]])\n",
        "\n",
        "XTX = [\n",
        "    [1.01, 2, 2],\n",
        "    [2, 1.01, 1.0000001],\n",
        "    [2, 1.0000001, 1.01]\n",
        "]\n",
        "XTX = np.array(XTX)\n",
        "np.linalg.inv(XTX)\n",
        "# Output:\n",
        "# array([[ -0.33668908,   0.33501399,   0.33501399],\n",
        "#        [  0.33501399,  49.91590897, -50.08509104],\n",
        "#        [  0.33501399, -50.08509104,  49.91590897]])\n",
        "\n",
        "XTX = [\n",
        "    [1, 2, 2],\n",
        "    [2, 1, 1.0000001],\n",
        "    [2, 1.0000001, 1]\n",
        "]\n",
        "XTX = np.array(XTX)\n",
        "XTX\n",
        "#  Output:\n",
        "# array([[1.       , 2.       , 2.       ],\n",
        "#        [2.       , 1.       , 1.0000001],\n",
        "#        [2.       , 1.0000001, 1.       ]])\n",
        "\n",
        "np.eye(3)\n",
        "# Saat menambahkan XTX ke matriks ini, ia menambahkan satu pada diagonal\n",
        "XTX + np.eye(3)\n",
        "\n",
        "# Kita dapat mengalikan mata ini dengan angka kecil\n",
        "XTX = XTX + 0.01*np.eye(3)\n",
        "XTX\n",
        "# Output:\n",
        "# array([[1.01     , 2.       , 2.       ],\n",
        "#        [2.       , 1.01     , 1.0000001],\n",
        "#        [2.       , 1.0000001, 1.01     ]])\n",
        "\n",
        "XTX = XTX + 0.1*np.eye(3)\n",
        "XTX\n",
        "# Output:\n",
        "# array([[1.11     , 2.       , 2.       ],\n",
        "#        [2.       , 1.11     , 1.0000001],\n",
        "#        [2.       , 1.0000001, 1.11     ]])\n",
        "\n",
        "XTX = XTX + 1*np.eye(3)\n",
        "XTX\n",
        "# Output:\n",
        "# array([[2.11     , 2.       , 2.       ],\n",
        "#        [2.       , 2.11     , 1.0000001],\n",
        "#        [2.       , 1.0000001, 2.11     ]])\n",
        "\n",
        "np.linalg.inv(XTX)"
      ],
      "metadata": {
        "colab": {
          "base_uri": "https://localhost:8080/"
        },
        "id": "uPRMcv6YGizs",
        "outputId": "d4fc9475-4945-44fa-d739-0ec108da9c4b"
      },
      "execution_count": null,
      "outputs": [
        {
          "output_type": "execute_result",
          "data": {
            "text/plain": [
              "array([[-2.1628768 ,  1.39091751,  1.39091751],\n",
              "       [ 1.39091751, -0.2832585 , -1.18415948],\n",
              "       [ 1.39091751, -1.18415948, -0.2832585 ]])"
            ]
          },
          "metadata": {},
          "execution_count": 187
        }
      ]
    },
    {
      "cell_type": "code",
      "source": [
        "# reg = diregulasi\n",
        "# parameter r = kependekan dari regularisasi\n",
        "def train_linear_regression_reg(X, y, r=0.001):\n",
        "  ones = np.ones(X.shape[0])\n",
        "  X = np.column_stack([ones, X])\n",
        "\n",
        "  XTX = X.T.dot(X)\n",
        "  XTX = XTX + r * np.eye(XTX.shape[0])\n",
        "\n",
        "  XTX_inv = np.linalg.inv(XTX)\n",
        "  w_full = XTX_inv.dot(X.T).dot(y)\n",
        "\n",
        "  return w_full[0], w_full[1:]"
      ],
      "metadata": {
        "id": "7J2MvqExK8dI"
      },
      "execution_count": null,
      "outputs": []
    },
    {
      "cell_type": "code",
      "source": [
        "X_train = prepare_X(df_train)\n",
        "w0, w = train_linear_regression_reg(X_train, y_train, r=0.01)\n",
        "\n",
        "X_val = prepare_X(df_val)\n",
        "y_pred = w0 + X_val.dot(w)\n",
        "\n",
        "rmse(y_val, y_pred)"
      ],
      "metadata": {
        "id": "yz_42_svLpaj",
        "colab": {
          "base_uri": "https://localhost:8080/"
        },
        "outputId": "9ebc52d6-3235-4dc7-d4fe-bbd621dfde56"
      },
      "execution_count": null,
      "outputs": [
        {
          "output_type": "execute_result",
          "data": {
            "text/plain": [
              "0.5502892299894849"
            ]
          },
          "metadata": {},
          "execution_count": 189
        }
      ]
    },
    {
      "cell_type": "markdown",
      "source": [
        "### Menyetel model"
      ],
      "metadata": {
        "id": "8oMRaIjYMG05"
      }
    },
    {
      "cell_type": "code",
      "source": [
        "for r in  [0.0, 0.00001, 0.0001, 0.001, 0.01, 0.1, 1, 10]:\n",
        "  X_train = prepare_X(df_train)\n",
        "  w0, w = train_linear_regression_reg(X_train, y_train, r=r)\n",
        "\n",
        "  X_val = prepare_X(df_val)\n",
        "  y_pred = w0 + X_val.dot(w)\n",
        "\n",
        "  score = rmse(y_val, y_pred)\n",
        "  print(\"reg parameter: \",r, \"bias term: \",w0, \"rmse: \",score)"
      ],
      "metadata": {
        "colab": {
          "base_uri": "https://localhost:8080/"
        },
        "id": "B7jjbKLtMNNF",
        "outputId": "1c410c2c-8a6d-4131-c0aa-40dfb550460d"
      },
      "execution_count": null,
      "outputs": [
        {
          "output_type": "stream",
          "name": "stdout",
          "text": [
            "reg parameter:  0.0 bias term:  -1.8627956103327364e+16 rmse:  694.1505076284964\n",
            "reg parameter:  1e-05 bias term:  -5.8373098166609365 rmse:  0.5504914604285955\n",
            "reg parameter:  0.0001 bias term:  5.529602383030016 rmse:  0.5504898069525106\n",
            "reg parameter:  0.001 bias term:  5.516917936113463 rmse:  0.5504713916092909\n",
            "reg parameter:  0.01 bias term:  5.5029345524353275 rmse:  0.5502892299894849\n",
            "reg parameter:  0.1 bias term:  5.36875453301542 rmse:  0.548618169024264\n",
            "reg parameter:  1 bias term:  4.717631883534497 rmse:  0.5380288821803829\n",
            "reg parameter:  10 bias term:  3.681818081290056 rmse:  0.5058771520249636\n"
          ]
        }
      ]
    },
    {
      "cell_type": "code",
      "source": [
        "r = 0.001\n",
        "X_train = prepare_X(df_train)\n",
        "w0, w = train_linear_regression_reg(X_train, y_train, r=r)\n",
        "\n",
        "X_val = prepare_X(df_val)\n",
        "y_pred = w0 + X_val.dot(w)\n",
        "\n",
        "score = rmse(y_val, y_pred)\n",
        "\n",
        "print(\"rmse: \",score)"
      ],
      "metadata": {
        "colab": {
          "base_uri": "https://localhost:8080/"
        },
        "id": "NOQKOkO3NVJR",
        "outputId": "0c2e7390-7c13-48c2-859d-716e408cd2a2"
      },
      "execution_count": null,
      "outputs": [
        {
          "output_type": "stream",
          "name": "stdout",
          "text": [
            "rmse:  0.5504713916092909\n"
          ]
        }
      ]
    },
    {
      "cell_type": "markdown",
      "source": [
        "### menggabungkan kumpulan data"
      ],
      "metadata": {
        "id": "1HFzwC3DNfou"
      }
    },
    {
      "cell_type": "code",
      "source": [
        "df_full_train = pd.concat([df_train, df_val])"
      ],
      "metadata": {
        "id": "T0FBueq-OU_W"
      },
      "execution_count": null,
      "outputs": []
    },
    {
      "cell_type": "code",
      "source": [
        "y_full_train = np.concatenate([y_train, y_val])\n",
        "y_full_train"
      ],
      "metadata": {
        "colab": {
          "base_uri": "https://localhost:8080/"
        },
        "id": "7ekoYqHVNdiF",
        "outputId": "07f1639e-5f72-41d7-d60d-599182efc72f"
      },
      "execution_count": null,
      "outputs": [
        {
          "output_type": "execute_result",
          "data": {
            "text/plain": [
              "array([10.08626734,  9.89449726, 10.18832809, ..., 10.41634112,\n",
              "       10.7320612 , 10.63875988])"
            ]
          },
          "metadata": {},
          "execution_count": 193
        }
      ]
    },
    {
      "cell_type": "markdown",
      "source": [
        "### Mengatur ulang indeks"
      ],
      "metadata": {
        "id": "FEB8kqefsV6j"
      }
    },
    {
      "cell_type": "code",
      "source": [
        "df_full_train = df_full_train.reset_index(drop=True)"
      ],
      "metadata": {
        "id": "N5L3cP1mOdwy"
      },
      "execution_count": null,
      "outputs": []
    },
    {
      "cell_type": "markdown",
      "source": [
        "### mendapatkan matriks fitur X"
      ],
      "metadata": {
        "id": "vEnH2GgrOE_1"
      }
    },
    {
      "cell_type": "code",
      "source": [
        "X_full_train = prepare_X(df_full_train)\n",
        "X_full_train"
      ],
      "metadata": {
        "colab": {
          "base_uri": "https://localhost:8080/"
        },
        "id": "1u1EKPuBOJ2g",
        "outputId": "7135251f-ccbb-4550-982e-156d3d5a35d8"
      },
      "execution_count": null,
      "outputs": [
        {
          "output_type": "execute_result",
          "data": {
            "text/plain": [
              "array([[210.,   6.,  20., ...,   0.,   0.,   0.],\n",
              "       [153.,   4.,  41., ...,   0.,   0.,   0.],\n",
              "       [207.,   6.,  17., ...,   0.,   0.,   0.],\n",
              "       ...,\n",
              "       [348.,   6.,  24., ...,   1.,   0.,   0.],\n",
              "       [303.,   6.,  25., ...,   0.,   0.,   0.],\n",
              "       [381.,   8.,  17., ...,   0.,   0.,   0.]])"
            ]
          },
          "metadata": {},
          "execution_count": 195
        }
      ]
    },
    {
      "cell_type": "markdown",
      "source": [
        "### Melatih model akhir"
      ],
      "metadata": {
        "id": "XEFo5pDxOkmT"
      }
    },
    {
      "cell_type": "code",
      "source": [
        "w0, w = train_linear_regression_reg(X_full_train, y_full_train, r=0.001)\n",
        "w0, w"
      ],
      "metadata": {
        "colab": {
          "base_uri": "https://localhost:8080/"
        },
        "id": "jwn8OY5fOn3O",
        "outputId": "75a521b4-afc5-46aa-8dba-8966b12ec726"
      },
      "execution_count": null,
      "outputs": [
        {
          "output_type": "execute_result",
          "data": {
            "text/plain": [
              "(5.174446740513314,\n",
              " array([ 2.62686014e-03,  9.97386935e-02, -7.93808786e-03, -3.76844254e-03,\n",
              "        -5.27939541e-05, -9.82182272e-02, -6.98360561e-01, -8.81414716e-01,\n",
              "        -5.57990900e-01, -1.17906598e-01,  1.09993319e-01,  5.94623258e-02,\n",
              "        -8.04939918e-02, -1.90168299e-01, -2.78380754e-01, -6.79423314e-01,\n",
              "        -3.34364783e-01, -4.46242645e-01, -4.07091038e-01,  7.71168206e-01,\n",
              "         6.12077263e-01,  9.05726585e-01,  2.77501402e+00,  1.15503189e-01,\n",
              "         1.28570405e+00,  1.26592278e+00,  1.36995175e+00,  1.25265010e+00,\n",
              "        -1.07795703e-01,  3.53119924e-02, -8.16038512e-03, -8.79038404e-03,\n",
              "         3.15921634e-03,  1.80545692e+00,  1.68338121e+00,  1.68626516e+00,\n",
              "        -5.31425068e-03,  2.01226665e-02,  2.39427037e-01,  4.66430071e-01,\n",
              "        -1.45374727e-01]))"
            ]
          },
          "metadata": {},
          "execution_count": 196
        }
      ]
    },
    {
      "cell_type": "markdown",
      "source": [
        "### menerapkan model untuk menguji data"
      ],
      "metadata": {
        "id": "DGX4gE8FO2Nq"
      }
    },
    {
      "cell_type": "code",
      "source": [
        "X_test = prepare_X(df_test)\n",
        "y_pred = w0 + X_test.dot(w)\n",
        "\n",
        "score = rmse(y_test, y_pred)\n",
        "print(\"rmse: \",score)"
      ],
      "metadata": {
        "colab": {
          "base_uri": "https://localhost:8080/"
        },
        "id": "shNIEUlaO7ks",
        "outputId": "57dd67d4-d1c6-49b7-f9cc-0bbd5cee83c1"
      },
      "execution_count": null,
      "outputs": [
        {
          "output_type": "stream",
          "name": "stdout",
          "text": [
            "rmse:  0.4828918350899625\n"
          ]
        }
      ]
    },
    {
      "cell_type": "markdown",
      "source": [
        "## 8. Menggunakan model\n",
        "\n"
      ],
      "metadata": {
        "id": "ZLFHwzKXskUt"
      }
    },
    {
      "cell_type": "markdown",
      "source": [
        "###  Menggunakan model berarti:\n",
        "  1. mengekstrak semua fitur (mendapatkan vektor fitur mobil)\n",
        "  2. Menerapkan model akhir ke vektor fitur ini & mempredikasi harganya"
      ],
      "metadata": {
        "id": "LhMkjHyPtv5Y"
      }
    },
    {
      "cell_type": "markdown",
      "source": [
        "### Ekstraksi fitur"
      ],
      "metadata": {
        "id": "9XKkG0pxPTpY"
      }
    },
    {
      "cell_type": "code",
      "source": [
        "df_test.iloc[2]"
      ],
      "metadata": {
        "colab": {
          "base_uri": "https://localhost:8080/"
        },
        "id": "8Zl6QXYUPSvv",
        "outputId": "febe493e-5699-4a7d-833c-9985cda18943"
      },
      "execution_count": null,
      "outputs": [
        {
          "output_type": "execute_result",
          "data": {
            "text/plain": [
              "make                                           ford\n",
              "model                                       mustang\n",
              "year                                           2016\n",
              "engine_fuel_type     premium_unleaded_(recommended)\n",
              "engine_hp                                     310.0\n",
              "engine_cylinders                                4.0\n",
              "transmission_type                            manual\n",
              "driven_wheels                      rear_wheel_drive\n",
              "number_of_doors                                 2.0\n",
              "market_category                         performance\n",
              "vehicle_size                                midsize\n",
              "vehicle_style                           convertible\n",
              "highway_mpg                                      29\n",
              "city_mpg                                         20\n",
              "popularity                                     5657\n",
              "Name: 2, dtype: object"
            ]
          },
          "metadata": {},
          "execution_count": 205
        }
      ]
    },
    {
      "cell_type": "code",
      "source": [
        "car = df_test.iloc[2].to_dict()\n",
        "car"
      ],
      "metadata": {
        "colab": {
          "base_uri": "https://localhost:8080/"
        },
        "id": "91mVr0GLPfWT",
        "outputId": "187ceb8e-bbdc-4360-f279-7e0e94d488df"
      },
      "execution_count": null,
      "outputs": [
        {
          "output_type": "execute_result",
          "data": {
            "text/plain": [
              "{'make': 'ford',\n",
              " 'model': 'mustang',\n",
              " 'year': 2016,\n",
              " 'engine_fuel_type': 'premium_unleaded_(recommended)',\n",
              " 'engine_hp': 310.0,\n",
              " 'engine_cylinders': 4.0,\n",
              " 'transmission_type': 'manual',\n",
              " 'driven_wheels': 'rear_wheel_drive',\n",
              " 'number_of_doors': 2.0,\n",
              " 'market_category': 'performance',\n",
              " 'vehicle_size': 'midsize',\n",
              " 'vehicle_style': 'convertible',\n",
              " 'highway_mpg': 29,\n",
              " 'city_mpg': 20,\n",
              " 'popularity': 5657}"
            ]
          },
          "metadata": {},
          "execution_count": 206
        }
      ]
    },
    {
      "cell_type": "code",
      "source": [
        "df_small = pd.DataFrame([car])\n",
        "df_small"
      ],
      "metadata": {
        "colab": {
          "base_uri": "https://localhost:8080/",
          "height": 109
        },
        "id": "YbGGLiJoPnnc",
        "outputId": "105198c8-de0d-490c-b2d4-62129fd8b03f"
      },
      "execution_count": null,
      "outputs": [
        {
          "output_type": "execute_result",
          "data": {
            "text/plain": [
              "   make    model  year                engine_fuel_type  engine_hp  \\\n",
              "0  ford  mustang  2016  premium_unleaded_(recommended)      310.0   \n",
              "\n",
              "   engine_cylinders transmission_type     driven_wheels  number_of_doors  \\\n",
              "0               4.0            manual  rear_wheel_drive              2.0   \n",
              "\n",
              "  market_category vehicle_size vehicle_style  highway_mpg  city_mpg  \\\n",
              "0     performance      midsize   convertible           29        20   \n",
              "\n",
              "   popularity  \n",
              "0        5657  "
            ],
            "text/html": [
              "\n",
              "  <div id=\"df-0c4aa1b2-7b36-44ce-aa7b-7e1108f01d83\" class=\"colab-df-container\">\n",
              "    <div>\n",
              "<style scoped>\n",
              "    .dataframe tbody tr th:only-of-type {\n",
              "        vertical-align: middle;\n",
              "    }\n",
              "\n",
              "    .dataframe tbody tr th {\n",
              "        vertical-align: top;\n",
              "    }\n",
              "\n",
              "    .dataframe thead th {\n",
              "        text-align: right;\n",
              "    }\n",
              "</style>\n",
              "<table border=\"1\" class=\"dataframe\">\n",
              "  <thead>\n",
              "    <tr style=\"text-align: right;\">\n",
              "      <th></th>\n",
              "      <th>make</th>\n",
              "      <th>model</th>\n",
              "      <th>year</th>\n",
              "      <th>engine_fuel_type</th>\n",
              "      <th>engine_hp</th>\n",
              "      <th>engine_cylinders</th>\n",
              "      <th>transmission_type</th>\n",
              "      <th>driven_wheels</th>\n",
              "      <th>number_of_doors</th>\n",
              "      <th>market_category</th>\n",
              "      <th>vehicle_size</th>\n",
              "      <th>vehicle_style</th>\n",
              "      <th>highway_mpg</th>\n",
              "      <th>city_mpg</th>\n",
              "      <th>popularity</th>\n",
              "    </tr>\n",
              "  </thead>\n",
              "  <tbody>\n",
              "    <tr>\n",
              "      <th>0</th>\n",
              "      <td>ford</td>\n",
              "      <td>mustang</td>\n",
              "      <td>2016</td>\n",
              "      <td>premium_unleaded_(recommended)</td>\n",
              "      <td>310.0</td>\n",
              "      <td>4.0</td>\n",
              "      <td>manual</td>\n",
              "      <td>rear_wheel_drive</td>\n",
              "      <td>2.0</td>\n",
              "      <td>performance</td>\n",
              "      <td>midsize</td>\n",
              "      <td>convertible</td>\n",
              "      <td>29</td>\n",
              "      <td>20</td>\n",
              "      <td>5657</td>\n",
              "    </tr>\n",
              "  </tbody>\n",
              "</table>\n",
              "</div>\n",
              "    <div class=\"colab-df-buttons\">\n",
              "\n",
              "  <div class=\"colab-df-container\">\n",
              "    <button class=\"colab-df-convert\" onclick=\"convertToInteractive('df-0c4aa1b2-7b36-44ce-aa7b-7e1108f01d83')\"\n",
              "            title=\"Convert this dataframe to an interactive table.\"\n",
              "            style=\"display:none;\">\n",
              "\n",
              "  <svg xmlns=\"http://www.w3.org/2000/svg\" height=\"24px\" viewBox=\"0 -960 960 960\">\n",
              "    <path d=\"M120-120v-720h720v720H120Zm60-500h600v-160H180v160Zm220 220h160v-160H400v160Zm0 220h160v-160H400v160ZM180-400h160v-160H180v160Zm440 0h160v-160H620v160ZM180-180h160v-160H180v160Zm440 0h160v-160H620v160Z\"/>\n",
              "  </svg>\n",
              "    </button>\n",
              "\n",
              "  <style>\n",
              "    .colab-df-container {\n",
              "      display:flex;\n",
              "      gap: 12px;\n",
              "    }\n",
              "\n",
              "    .colab-df-convert {\n",
              "      background-color: #E8F0FE;\n",
              "      border: none;\n",
              "      border-radius: 50%;\n",
              "      cursor: pointer;\n",
              "      display: none;\n",
              "      fill: #1967D2;\n",
              "      height: 32px;\n",
              "      padding: 0 0 0 0;\n",
              "      width: 32px;\n",
              "    }\n",
              "\n",
              "    .colab-df-convert:hover {\n",
              "      background-color: #E2EBFA;\n",
              "      box-shadow: 0px 1px 2px rgba(60, 64, 67, 0.3), 0px 1px 3px 1px rgba(60, 64, 67, 0.15);\n",
              "      fill: #174EA6;\n",
              "    }\n",
              "\n",
              "    .colab-df-buttons div {\n",
              "      margin-bottom: 4px;\n",
              "    }\n",
              "\n",
              "    [theme=dark] .colab-df-convert {\n",
              "      background-color: #3B4455;\n",
              "      fill: #D2E3FC;\n",
              "    }\n",
              "\n",
              "    [theme=dark] .colab-df-convert:hover {\n",
              "      background-color: #434B5C;\n",
              "      box-shadow: 0px 1px 3px 1px rgba(0, 0, 0, 0.15);\n",
              "      filter: drop-shadow(0px 1px 2px rgba(0, 0, 0, 0.3));\n",
              "      fill: #FFFFFF;\n",
              "    }\n",
              "  </style>\n",
              "\n",
              "    <script>\n",
              "      const buttonEl =\n",
              "        document.querySelector('#df-0c4aa1b2-7b36-44ce-aa7b-7e1108f01d83 button.colab-df-convert');\n",
              "      buttonEl.style.display =\n",
              "        google.colab.kernel.accessAllowed ? 'block' : 'none';\n",
              "\n",
              "      async function convertToInteractive(key) {\n",
              "        const element = document.querySelector('#df-0c4aa1b2-7b36-44ce-aa7b-7e1108f01d83');\n",
              "        const dataTable =\n",
              "          await google.colab.kernel.invokeFunction('convertToInteractive',\n",
              "                                                    [key], {});\n",
              "        if (!dataTable) return;\n",
              "\n",
              "        const docLinkHtml = 'Like what you see? Visit the ' +\n",
              "          '<a target=\"_blank\" href=https://colab.research.google.com/notebooks/data_table.ipynb>data table notebook</a>'\n",
              "          + ' to learn more about interactive tables.';\n",
              "        element.innerHTML = '';\n",
              "        dataTable['output_type'] = 'display_data';\n",
              "        await google.colab.output.renderOutput(dataTable, element);\n",
              "        const docLink = document.createElement('div');\n",
              "        docLink.innerHTML = docLinkHtml;\n",
              "        element.appendChild(docLink);\n",
              "      }\n",
              "    </script>\n",
              "  </div>\n",
              "\n",
              "\n",
              "  <div id=\"id_c6c6182b-7d28-4931-bbf9-5e2adff6939e\">\n",
              "    <style>\n",
              "      .colab-df-generate {\n",
              "        background-color: #E8F0FE;\n",
              "        border: none;\n",
              "        border-radius: 50%;\n",
              "        cursor: pointer;\n",
              "        display: none;\n",
              "        fill: #1967D2;\n",
              "        height: 32px;\n",
              "        padding: 0 0 0 0;\n",
              "        width: 32px;\n",
              "      }\n",
              "\n",
              "      .colab-df-generate:hover {\n",
              "        background-color: #E2EBFA;\n",
              "        box-shadow: 0px 1px 2px rgba(60, 64, 67, 0.3), 0px 1px 3px 1px rgba(60, 64, 67, 0.15);\n",
              "        fill: #174EA6;\n",
              "      }\n",
              "\n",
              "      [theme=dark] .colab-df-generate {\n",
              "        background-color: #3B4455;\n",
              "        fill: #D2E3FC;\n",
              "      }\n",
              "\n",
              "      [theme=dark] .colab-df-generate:hover {\n",
              "        background-color: #434B5C;\n",
              "        box-shadow: 0px 1px 3px 1px rgba(0, 0, 0, 0.15);\n",
              "        filter: drop-shadow(0px 1px 2px rgba(0, 0, 0, 0.3));\n",
              "        fill: #FFFFFF;\n",
              "      }\n",
              "    </style>\n",
              "    <button class=\"colab-df-generate\" onclick=\"generateWithVariable('df_small')\"\n",
              "            title=\"Generate code using this dataframe.\"\n",
              "            style=\"display:none;\">\n",
              "\n",
              "  <svg xmlns=\"http://www.w3.org/2000/svg\" height=\"24px\"viewBox=\"0 0 24 24\"\n",
              "       width=\"24px\">\n",
              "    <path d=\"M7,19H8.4L18.45,9,17,7.55,7,17.6ZM5,21V16.75L18.45,3.32a2,2,0,0,1,2.83,0l1.4,1.43a1.91,1.91,0,0,1,.58,1.4,1.91,1.91,0,0,1-.58,1.4L9.25,21ZM18.45,9,17,7.55Zm-12,3A5.31,5.31,0,0,0,4.9,8.1,5.31,5.31,0,0,0,1,6.5,5.31,5.31,0,0,0,4.9,4.9,5.31,5.31,0,0,0,6.5,1,5.31,5.31,0,0,0,8.1,4.9,5.31,5.31,0,0,0,12,6.5,5.46,5.46,0,0,0,6.5,12Z\"/>\n",
              "  </svg>\n",
              "    </button>\n",
              "    <script>\n",
              "      (() => {\n",
              "      const buttonEl =\n",
              "        document.querySelector('#id_c6c6182b-7d28-4931-bbf9-5e2adff6939e button.colab-df-generate');\n",
              "      buttonEl.style.display =\n",
              "        google.colab.kernel.accessAllowed ? 'block' : 'none';\n",
              "\n",
              "      buttonEl.onclick = () => {\n",
              "        google.colab.notebook.generateWithVariable('df_small');\n",
              "      }\n",
              "      })();\n",
              "    </script>\n",
              "  </div>\n",
              "\n",
              "    </div>\n",
              "  </div>\n"
            ],
            "application/vnd.google.colaboratory.intrinsic+json": {
              "type": "dataframe",
              "variable_name": "df_small",
              "summary": "{\n  \"name\": \"df_small\",\n  \"rows\": 1,\n  \"fields\": [\n    {\n      \"column\": \"make\",\n      \"properties\": {\n        \"dtype\": \"string\",\n        \"num_unique_values\": 1,\n        \"samples\": [\n          \"ford\"\n        ],\n        \"semantic_type\": \"\",\n        \"description\": \"\"\n      }\n    },\n    {\n      \"column\": \"model\",\n      \"properties\": {\n        \"dtype\": \"string\",\n        \"num_unique_values\": 1,\n        \"samples\": [\n          \"mustang\"\n        ],\n        \"semantic_type\": \"\",\n        \"description\": \"\"\n      }\n    },\n    {\n      \"column\": \"year\",\n      \"properties\": {\n        \"dtype\": \"number\",\n        \"std\": null,\n        \"min\": 2016,\n        \"max\": 2016,\n        \"num_unique_values\": 1,\n        \"samples\": [\n          2016\n        ],\n        \"semantic_type\": \"\",\n        \"description\": \"\"\n      }\n    },\n    {\n      \"column\": \"engine_fuel_type\",\n      \"properties\": {\n        \"dtype\": \"string\",\n        \"num_unique_values\": 1,\n        \"samples\": [\n          \"premium_unleaded_(recommended)\"\n        ],\n        \"semantic_type\": \"\",\n        \"description\": \"\"\n      }\n    },\n    {\n      \"column\": \"engine_hp\",\n      \"properties\": {\n        \"dtype\": \"number\",\n        \"std\": null,\n        \"min\": 310.0,\n        \"max\": 310.0,\n        \"num_unique_values\": 1,\n        \"samples\": [\n          310.0\n        ],\n        \"semantic_type\": \"\",\n        \"description\": \"\"\n      }\n    },\n    {\n      \"column\": \"engine_cylinders\",\n      \"properties\": {\n        \"dtype\": \"number\",\n        \"std\": null,\n        \"min\": 4.0,\n        \"max\": 4.0,\n        \"num_unique_values\": 1,\n        \"samples\": [\n          4.0\n        ],\n        \"semantic_type\": \"\",\n        \"description\": \"\"\n      }\n    },\n    {\n      \"column\": \"transmission_type\",\n      \"properties\": {\n        \"dtype\": \"string\",\n        \"num_unique_values\": 1,\n        \"samples\": [\n          \"manual\"\n        ],\n        \"semantic_type\": \"\",\n        \"description\": \"\"\n      }\n    },\n    {\n      \"column\": \"driven_wheels\",\n      \"properties\": {\n        \"dtype\": \"string\",\n        \"num_unique_values\": 1,\n        \"samples\": [\n          \"rear_wheel_drive\"\n        ],\n        \"semantic_type\": \"\",\n        \"description\": \"\"\n      }\n    },\n    {\n      \"column\": \"number_of_doors\",\n      \"properties\": {\n        \"dtype\": \"number\",\n        \"std\": null,\n        \"min\": 2.0,\n        \"max\": 2.0,\n        \"num_unique_values\": 1,\n        \"samples\": [\n          2.0\n        ],\n        \"semantic_type\": \"\",\n        \"description\": \"\"\n      }\n    },\n    {\n      \"column\": \"market_category\",\n      \"properties\": {\n        \"dtype\": \"string\",\n        \"num_unique_values\": 1,\n        \"samples\": [\n          \"performance\"\n        ],\n        \"semantic_type\": \"\",\n        \"description\": \"\"\n      }\n    },\n    {\n      \"column\": \"vehicle_size\",\n      \"properties\": {\n        \"dtype\": \"string\",\n        \"num_unique_values\": 1,\n        \"samples\": [\n          \"midsize\"\n        ],\n        \"semantic_type\": \"\",\n        \"description\": \"\"\n      }\n    },\n    {\n      \"column\": \"vehicle_style\",\n      \"properties\": {\n        \"dtype\": \"string\",\n        \"num_unique_values\": 1,\n        \"samples\": [\n          \"convertible\"\n        ],\n        \"semantic_type\": \"\",\n        \"description\": \"\"\n      }\n    },\n    {\n      \"column\": \"highway_mpg\",\n      \"properties\": {\n        \"dtype\": \"number\",\n        \"std\": null,\n        \"min\": 29,\n        \"max\": 29,\n        \"num_unique_values\": 1,\n        \"samples\": [\n          29\n        ],\n        \"semantic_type\": \"\",\n        \"description\": \"\"\n      }\n    },\n    {\n      \"column\": \"city_mpg\",\n      \"properties\": {\n        \"dtype\": \"number\",\n        \"std\": null,\n        \"min\": 20,\n        \"max\": 20,\n        \"num_unique_values\": 1,\n        \"samples\": [\n          20\n        ],\n        \"semantic_type\": \"\",\n        \"description\": \"\"\n      }\n    },\n    {\n      \"column\": \"popularity\",\n      \"properties\": {\n        \"dtype\": \"number\",\n        \"std\": null,\n        \"min\": 5657,\n        \"max\": 5657,\n        \"num_unique_values\": 1,\n        \"samples\": [\n          5657\n        ],\n        \"semantic_type\": \"\",\n        \"description\": \"\"\n      }\n    }\n  ]\n}"
            }
          },
          "metadata": {},
          "execution_count": 207
        }
      ]
    },
    {
      "cell_type": "code",
      "source": [
        "X_small = prepare_X(df_small)\n",
        "X_small"
      ],
      "metadata": {
        "colab": {
          "base_uri": "https://localhost:8080/"
        },
        "id": "nwGju3ZdPz25",
        "outputId": "4b11aa31-ecc9-4f7c-9443-f6811b9566eb"
      },
      "execution_count": null,
      "outputs": [
        {
          "output_type": "execute_result",
          "data": {
            "text/plain": [
              "array([[ 3.100e+02,  4.000e+00,  2.900e+01,  2.000e+01,  5.657e+03,\n",
              "        -1.500e+01,  1.000e+00,  0.000e+00,  0.000e+00,  0.000e+00,\n",
              "         1.000e+00,  0.000e+00,  0.000e+00,  0.000e+00,  0.000e+00,\n",
              "         0.000e+00,  0.000e+00,  0.000e+00,  0.000e+00,  0.000e+00,\n",
              "         1.000e+00,  0.000e+00,  0.000e+00,  0.000e+00,  0.000e+00,\n",
              "         1.000e+00,  0.000e+00,  0.000e+00,  0.000e+00,  0.000e+00,\n",
              "         0.000e+00,  0.000e+00,  0.000e+00,  0.000e+00,  1.000e+00,\n",
              "         0.000e+00,  0.000e+00,  0.000e+00,  0.000e+00,  1.000e+00,\n",
              "         0.000e+00]])"
            ]
          },
          "metadata": {},
          "execution_count": 208
        }
      ]
    },
    {
      "cell_type": "markdown",
      "source": [
        "### Memprediksi Harga"
      ],
      "metadata": {
        "id": "tBumowy5P7qz"
      }
    },
    {
      "cell_type": "code",
      "source": [
        "y_pred = w0 + X_small.dot(w)\n",
        "y_pred = y_pred[0]\n",
        "y_pred"
      ],
      "metadata": {
        "colab": {
          "base_uri": "https://localhost:8080/"
        },
        "id": "mO0V-4t9P7dP",
        "outputId": "cd08bd97-4892-4a2d-fdd0-beb57a037ff4"
      },
      "execution_count": null,
      "outputs": [
        {
          "output_type": "execute_result",
          "data": {
            "text/plain": [
              "10.696216853793093"
            ]
          },
          "metadata": {},
          "execution_count": 209
        }
      ]
    },
    {
      "cell_type": "code",
      "source": [
        "np.expm1(y_pred)"
      ],
      "metadata": {
        "colab": {
          "base_uri": "https://localhost:8080/"
        },
        "id": "JzNPq6iRQLHU",
        "outputId": "e2ab695b-5a5d-486a-806e-27a033018b33"
      },
      "execution_count": null,
      "outputs": [
        {
          "output_type": "execute_result",
          "data": {
            "text/plain": [
              "44187.36746013923"
            ]
          },
          "metadata": {},
          "execution_count": 210
        }
      ]
    },
    {
      "cell_type": "code",
      "source": [
        "np.expm1(y_test[2])"
      ],
      "metadata": {
        "colab": {
          "base_uri": "https://localhost:8080/"
        },
        "id": "1fKwVt7hQXkz",
        "outputId": "7181936c-4eb3-48cc-e214-c07aa26b61e8"
      },
      "execution_count": null,
      "outputs": [
        {
          "output_type": "execute_result",
          "data": {
            "text/plain": [
              "35144.99999999998"
            ]
          },
          "metadata": {},
          "execution_count": 211
        }
      ]
    }
  ]
}